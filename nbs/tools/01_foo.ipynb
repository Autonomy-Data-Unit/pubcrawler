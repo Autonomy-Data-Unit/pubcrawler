{
 "cells": [
  {
   "cell_type": "markdown",
   "id": "4f5caa84-a6f4-471e-97db-4e56f5162483",
   "metadata": {},
   "source": [
    "# foo"
   ]
  },
  {
   "cell_type": "markdown",
   "id": "c02c6024-1bb9-47ba-bf99-f5004827b750",
   "metadata": {},
   "source": [
    "Placeholder tool.\n",
    "\n",
    "---"
   ]
  },
  {
   "cell_type": "code",
   "execution_count": null,
   "id": "67cf8ebb-2992-45cf-a1cb-29e0e392c515",
   "metadata": {},
   "outputs": [],
   "source": [
    "#|default_exp tools.foo"
   ]
  },
  {
   "cell_type": "code",
   "execution_count": null,
   "id": "7603b7c0-9e81-4a58-89cd-096447cea2f2",
   "metadata": {},
   "outputs": [],
   "source": [
    "#|hide\n",
    "import nbdev; nbdev.nbdev_export()"
   ]
  },
  {
   "cell_type": "code",
   "execution_count": null,
   "id": "537f09ab-13e0-4be9-b47f-2a8887f676c7",
   "metadata": {},
   "outputs": [],
   "source": [
    "#|hide\n",
    "from nbdev.showdoc import show_doc"
   ]
  },
  {
   "cell_type": "code",
   "execution_count": null,
   "id": "f25700cd-79fb-4234-a3c6-736dd6b590fe",
   "metadata": {},
   "outputs": [],
   "source": [
    "#|export\n",
    "import adu_template_main as proj\n",
    "from adu_template_main import const, log, utils, tools\n",
    "import adu_proj.utils as adutils"
   ]
  },
  {
   "cell_type": "code",
   "execution_count": null,
   "id": "83efa14b-549c-471a-9d98-66f49a451ab6",
   "metadata": {},
   "outputs": [
    {
     "data": {
      "text/markdown": [
       "---\n",
       "\n",
       "[source](https://github.com/Autonomy-Data-Unit/adu-template-main/blob/main/adu_template_main/tools/foo.py#LNone){target=\"_blank\" style=\"float:right; font-size:smaller\"}\n",
       "\n",
       "### foo\n",
       "\n",
       ">      foo (a, b)"
      ],
      "text/plain": [
       "---\n",
       "\n",
       "[source](https://github.com/Autonomy-Data-Unit/adu-template-main/blob/main/adu_template_main/tools/foo.py#LNone){target=\"_blank\" style=\"float:right; font-size:smaller\"}\n",
       "\n",
       "### foo\n",
       "\n",
       ">      foo (a, b)"
      ]
     },
     "execution_count": null,
     "metadata": {},
     "output_type": "execute_result"
    }
   ],
   "source": [
    "#|hide\n",
    "show_doc(tools.foo)"
   ]
  },
  {
   "cell_type": "code",
   "execution_count": null,
   "id": "fd498852-6208-40d0-a70b-764b8fd02de5",
   "metadata": {},
   "outputs": [],
   "source": [
    "#|export\n",
    "def foo(a, b):\n",
    "    return float(a) + float(b)"
   ]
  },
  {
   "cell_type": "code",
   "execution_count": null,
   "id": "021078f4-d5ab-449c-ae77-799119dc3d56",
   "metadata": {},
   "outputs": [],
   "source": []
  }
 ],
 "metadata": {
  "kernelspec": {
   "display_name": "python3",
   "language": "python",
   "name": "python3"
  }
 },
 "nbformat": 4,
 "nbformat_minor": 5
}
