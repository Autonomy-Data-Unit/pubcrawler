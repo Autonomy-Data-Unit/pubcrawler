{
 "cells": [
  {
   "cell_type": "markdown",
   "metadata": {},
   "source": [
    "# const\n",
    "\n",
    "> Global constants and parameters"
   ]
  },
  {
   "cell_type": "code",
   "execution_count": null,
   "metadata": {},
   "outputs": [],
   "source": [
    "#|default_exp const"
   ]
  },
  {
   "cell_type": "code",
   "execution_count": null,
   "metadata": {},
   "outputs": [],
   "source": [
    "#|hide\n",
    "import nbdev; nbdev.nbdev_export()"
   ]
  },
  {
   "cell_type": "code",
   "execution_count": null,
   "metadata": {},
   "outputs": [],
   "source": [
    "#|hide\n",
    "from nbdev.showdoc import show_doc"
   ]
  },
  {
   "cell_type": "code",
   "execution_count": null,
   "metadata": {},
   "outputs": [],
   "source": [
    "#|export\n",
    "from pathlib import Path\n",
    "import pubcrawler as proj"
   ]
  },
  {
   "cell_type": "markdown",
   "metadata": {},
   "source": [
    "Define paths"
   ]
  },
  {
   "cell_type": "code",
   "execution_count": null,
   "metadata": {},
   "outputs": [],
   "source": [
    "#|exports\n",
    "root_path = Path(proj.__file__).parent.resolve().as_posix()\n",
    "store_path = Path(root_path, 'store').as_posix()\n",
    "logs_path = Path(store_path, 'logs').as_posix()\n",
    "data_path = Path(store_path, 'data').as_posix()\n",
    "pre_output_path = Path(store_path, 'pre_output').as_posix()\n",
    "output_path = Path(store_path, 'output').as_posix()\n",
    "figs_path = Path(store_path, 'output/figs').as_posix()"
   ]
  },
  {
   "cell_type": "code",
   "execution_count": null,
   "metadata": {},
   "outputs": [],
   "source": [
    "#|export\n",
    "# Create the directories, if they don't exist already\n",
    "Path(store_path).mkdir(exist_ok=True)\n",
    "Path(logs_path).mkdir(exist_ok=True)\n",
    "Path(logs_path, 'csv').mkdir(exist_ok=True)\n",
    "Path(data_path).mkdir(exist_ok=True)\n",
    "Path(pre_output_path).mkdir(exist_ok=True)\n",
    "Path(output_path).mkdir(exist_ok=True)\n",
    "Path(figs_path).mkdir(exist_ok=True)"
   ]
  },
  {
   "cell_type": "code",
   "execution_count": null,
   "metadata": {},
   "outputs": [],
   "source": [
    "#|export\n",
    "url = 'https://www.thegwpf.org/'\n",
    "file_type = 'pdf'\n",
    "model = 'gpt-3.5-turbo'\n",
    "org_names = ['global warming policy foundation', 'gwpf'] # lowercase"
   ]
  },
  {
   "cell_type": "code",
   "execution_count": null,
   "metadata": {},
   "outputs": [],
   "source": []
  }
 ],
 "metadata": {
  "kernelspec": {
   "display_name": "python3",
   "language": "python",
   "name": "python3"
  }
 },
 "nbformat": 4,
 "nbformat_minor": 4
}
