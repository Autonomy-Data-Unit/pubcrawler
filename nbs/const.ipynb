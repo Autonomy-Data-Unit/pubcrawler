{
 "cells": [
  {
   "cell_type": "markdown",
   "metadata": {},
   "source": [
    "# const\n",
    "\n",
    "> Global constants and parameters"
   ]
  },
  {
   "cell_type": "code",
   "execution_count": null,
   "metadata": {},
   "outputs": [],
   "source": [
    "#|default_exp const"
   ]
  },
  {
   "cell_type": "code",
   "execution_count": null,
   "metadata": {},
   "outputs": [],
   "source": [
    "#|hide\n",
    "import nbdev; nbdev.nbdev_export()"
   ]
  },
  {
   "cell_type": "code",
   "execution_count": null,
   "metadata": {},
   "outputs": [],
   "source": [
    "#|hide\n",
    "from nbdev.showdoc import show_doc"
   ]
  },
  {
   "cell_type": "code",
   "execution_count": null,
   "metadata": {},
   "outputs": [],
   "source": [
    "#|export\n",
    "from pathlib import Path\n",
    "import pubcrawler as proj"
   ]
  },
  {
   "cell_type": "markdown",
   "metadata": {},
   "source": [
    "Define paths"
   ]
  },
  {
   "cell_type": "code",
   "execution_count": null,
   "metadata": {},
   "outputs": [],
   "source": [
    "#|export\n",
    "root_path = Path(proj.__file__).parent.resolve().as_posix()\n",
    "store_path = Path(root_path, 'store').as_posix()\n",
    "logs_path = Path(store_path, 'logs').as_posix()\n",
    "data_path = Path(store_path, 'data').as_posix()\n",
    "pre_output_path = Path(store_path, 'pre_output').as_posix()\n",
    "output_path = Path(store_path, 'output').as_posix()\n",
    "figs_path = Path(store_path, 'output/figs').as_posix()\n",
    "style_path = store_path = Path(root_path, 'style').as_posix()"
   ]
  },
  {
   "cell_type": "code",
   "execution_count": null,
   "metadata": {},
   "outputs": [],
   "source": [
    "#|export\n",
    "# Create the directories, if they don't exist already\n",
    "Path(store_path).mkdir(exist_ok=True)\n",
    "Path(logs_path).mkdir(exist_ok=True)\n",
    "Path(logs_path, 'csv').mkdir(exist_ok=True)\n",
    "Path(data_path).mkdir(exist_ok=True)\n",
    "Path(pre_output_path).mkdir(exist_ok=True)\n",
    "Path(output_path).mkdir(exist_ok=True)\n",
    "Path(figs_path).mkdir(exist_ok=True)"
   ]
  },
  {
   "cell_type": "code",
   "execution_count": null,
   "metadata": {},
   "outputs": [],
   "source": [
    "#|export\n",
    "url = 'https://autonomy.work/'\n",
    "directory_name = 'autonomy'\n",
    "file_type = 'pdf'\n",
    "model = 'gpt-4'\n",
    "org_name = 'autonomy'\n",
    "org_name_2 = None # optional extra name/abbreviation for organisation\n",
    "org_name_3 = None # optional extra name/abbreviation for organisation"
   ]
  },
  {
   "cell_type": "markdown",
   "metadata": {},
   "source": [
    "Only get metadata for documents containing org_name, org_name_2 or org_name_3 in the first several pages:"
   ]
  },
  {
   "cell_type": "code",
   "execution_count": null,
   "metadata": {},
   "outputs": [],
   "source": [
    "#|export\n",
    "org_file_filter = True"
   ]
  },
  {
   "cell_type": "code",
   "execution_count": null,
   "metadata": {},
   "outputs": [],
   "source": [
    "#|export\n",
    "selected_scripts = []"
   ]
  },
  {
   "cell_type": "code",
   "execution_count": null,
   "metadata": {},
   "outputs": [],
   "source": [
    "#|export\n",
    "s3_bucket = \"\""
   ]
  }
 ],
 "metadata": {
  "kernelspec": {
   "display_name": "python3",
   "language": "python",
   "name": "python3"
  }
 },
 "nbformat": 4,
 "nbformat_minor": 4
}
