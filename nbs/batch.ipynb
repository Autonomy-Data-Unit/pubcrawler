{
 "cells": [
  {
   "cell_type": "markdown",
   "id": "6b723970-fba5-4002-a382-5d1740f39432",
   "metadata": {},
   "source": [
    "# batch\n",
    "\n",
    "> Gather documents on multiple organisations async using EC2 environments"
   ]
  },
  {
   "cell_type": "code",
   "execution_count": null,
   "id": "4fe1b4af-dd42-419a-9888-fbae1d15e551",
   "metadata": {},
   "outputs": [],
   "source": [
    "#|default_exp batch"
   ]
  },
  {
   "cell_type": "code",
   "execution_count": null,
   "id": "cbb80263-1bf0-4763-9f48-74a50370f938",
   "metadata": {},
   "outputs": [],
   "source": [
    "#|hide\n",
    "import nbdev; nbdev.nbdev_export()"
   ]
  },
  {
   "cell_type": "code",
   "execution_count": null,
   "id": "1afc354a-5912-4471-8b0c-086f706bee20",
   "metadata": {},
   "outputs": [],
   "source": [
    "#|hide\n",
    "from nbdev.showdoc import show_doc"
   ]
  },
  {
   "cell_type": "code",
   "execution_count": null,
   "id": "255c880c-4b58-4767-94fa-7970ed274c4f",
   "metadata": {},
   "outputs": [],
   "source": [
    "#|hide\n",
    "import pubcrawler as proj\n",
    "from pubcrawler import const, log, utils, tools\n",
    "import adu_proj.utils as adutils"
   ]
  },
  {
   "cell_type": "code",
   "execution_count": null,
   "id": "ac57acbd-e7a0-43b2-9acd-e964e41298fc",
   "metadata": {},
   "outputs": [],
   "source": [
    "import boto3"
   ]
  },
  {
   "cell_type": "code",
   "execution_count": null,
   "id": "fcda0c5a-3851-48ff-8865-15fbc9110624",
   "metadata": {},
   "outputs": [],
   "source": [
    "# Create an EC2 resource\n",
    "ec2 = boto3.resource('ec2')"
   ]
  },
  {
   "cell_type": "code",
   "execution_count": null,
   "id": "ccd9b2a4-df42-497d-9234-c28f75024188",
   "metadata": {},
   "outputs": [],
   "source": [
    "# Create an EC2 instance\n",
    "instance = ec2.create_instances(\n",
    "    ImageId='ami-079db87dc4c10ac91',  # Amazon Linux\n",
    "    MinCount=1,\n",
    "    MaxCount=1,\n",
    "    InstanceType='t2.micro',  # Replace with your desired instance type\n",
    "    KeyName=''  # Replace with your key pair name\n",
    ")[0]"
   ]
  }
 ],
 "metadata": {
  "kernelspec": {
   "display_name": "python3",
   "language": "python",
   "name": "python3"
  }
 },
 "nbformat": 4,
 "nbformat_minor": 5
}
