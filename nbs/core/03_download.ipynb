{
 "cells": [
  {
   "cell_type": "markdown",
   "id": "6c6fca1b-c8cf-449c-9d5c-d8bb10d890ff",
   "metadata": {},
   "source": [
    "# 03 Download Files\n",
    "\n",
    "> Download all files from links."
   ]
  },
  {
   "cell_type": "code",
   "execution_count": null,
   "id": "33d30996-0eaa-4130-8f1d-a8c395d089de",
   "metadata": {},
   "outputs": [],
   "source": [
    "#|default_exp core.03_download"
   ]
  },
  {
   "cell_type": "code",
   "execution_count": null,
   "id": "5d954f1d-5e1b-44f9-bf9c-86be2ec2d202",
   "metadata": {},
   "outputs": [],
   "source": [
    "#|hide\n",
    "import nbdev; nbdev.nbdev_export()"
   ]
  },
  {
   "cell_type": "code",
   "execution_count": null,
   "id": "ef5c2ab3-3206-4809-a60b-d2742f5c5ac4",
   "metadata": {},
   "outputs": [],
   "source": [
    "#|hide\n",
    "from nbdev.showdoc import show_doc"
   ]
  },
  {
   "cell_type": "code",
   "execution_count": null,
   "id": "86bf1d1d-d0ad-4369-97dc-66aaafa920cc",
   "metadata": {},
   "outputs": [],
   "source": [
    "#|export\n",
    "import pubcrawler as proj\n",
    "from pubcrawler import const, log, utils, tools\n",
    "import adu_proj.utils as adutils"
   ]
  },
  {
   "cell_type": "code",
   "execution_count": null,
   "id": "e8000b5f-8ffc-404f-be11-4932ed774a42",
   "metadata": {},
   "outputs": [],
   "source": [
    "#|export\n",
    "import json\n",
    "import os\n",
    "import time\n",
    "from webdriver_manager.chrome import ChromeDriverManager\n",
    "from selenium.webdriver.chrome.service import Service\n",
    "from selenium import webdriver\n",
    "from webdriver_manager.chrome import ChromeDriverManager\n",
    "from selenium.webdriver.chrome.options import Options\n",
    "from selenium.common.exceptions import WebDriverException\n",
    "from tqdm import tqdm\n",
    "from urllib.parse import unquote"
   ]
  },
  {
   "cell_type": "code",
   "execution_count": null,
   "id": "f299f76c-4ab5-4560-80c0-b265021cb842",
   "metadata": {},
   "outputs": [],
   "source": [
    "#|export\n",
    "file_folder = const.file_type\n",
    "file_dir = os.path.join(const.pre_output_path, file_folder)\n",
    "os.makedirs(file_dir, exist_ok=True)"
   ]
  },
  {
   "cell_type": "code",
   "execution_count": null,
   "id": "61e94fa0-204e-43f8-957e-a168f01aa1a5",
   "metadata": {},
   "outputs": [],
   "source": [
    "#|export\n",
    "options = webdriver.ChromeOptions()\n",
    "options.add_argument(\"--headless\")\n",
    "options.add_experimental_option(\"prefs\", {\n",
    "    \"download.default_directory\": file_dir,\n",
    "    \"download.prompt_for_download\": False,\n",
    "    \"download.directory_upgrade\": True,\n",
    "    \"safebrowsing.enabled\": True,\n",
    "    \"plugins.always_open_pdf_externally\": True\n",
    "})"
   ]
  },
  {
   "cell_type": "code",
   "execution_count": null,
   "id": "544bc767-0dbf-4997-bfa5-a22fdd20844c",
   "metadata": {},
   "outputs": [],
   "source": [
    "#|export\n",
    "with open(f'{const.pre_output_path}/data.json', 'r') as f:\n",
    "    file_links = json.load(f)"
   ]
  },
  {
   "cell_type": "code",
   "execution_count": null,
   "id": "a43f1316-f64b-4c44-b1e0-f38ba777fe8b",
   "metadata": {},
   "outputs": [],
   "source": [
    "#|export\n",
    "def download_file(file_url: str, # file url\n",
    "                 download_dir: str, # directory to download file to \n",
    "                 ):\n",
    "    \"Download file to directory\"\n",
    "    try:\n",
    "        service = Service(ChromeDriverManager().install())\n",
    "        driver = webdriver.Chrome(service=service, options=options)    \n",
    "        driver.get(file_url)\n",
    "        # Wait for the download to complete with checks\n",
    "        filename = file_url.split('/')[-1]\n",
    "        max_wait = 90\n",
    "        wait_interval = 1\n",
    "        file_path = os.path.join(download_dir, filename)\n",
    "        temp_file_path = file_path + \".crdownload\"    \n",
    "        start_time = time.time()\n",
    "        time.sleep(wait_interval)\n",
    "        while not os.path.exists(file_path):\n",
    "            if os.path.exists(temp_file_path):\n",
    "                time.sleep(wait_interval)\n",
    "            else:\n",
    "                break\n",
    "            if time.time() - start_time > max_wait:\n",
    "                    print(\"Download timed out.\")\n",
    "                    break\n",
    "        # Verify download and close the browser\n",
    "        driver.close()\n",
    "        driver.quit()\n",
    "        # print(file_path)\n",
    "        if os.path.isfile(unquote(file_path)):\n",
    "            return unquote(file_path)\n",
    "        else:\n",
    "            print(f\"Download failed for {file_url}\")\n",
    "            return None\n",
    "    except WebDriverException as e:\n",
    "        print(f\"An error occurred while trying to download the file: {e}\")\n",
    "        driver.close()\n",
    "        driver.quit()\n",
    "        return None  "
   ]
  },
  {
   "cell_type": "code",
   "execution_count": null,
   "id": "186fe815-72d3-4190-b64c-f7e1bcc89e80",
   "metadata": {},
   "outputs": [],
   "source": [
    "#|export\n",
    "for key in tqdm(file_links):\n",
    "    file_links[key]['file_path'] = download_file(key, file_dir)"
   ]
  },
  {
   "cell_type": "code",
   "execution_count": null,
   "id": "51471961-37fd-443d-ab17-88aad22b0e94",
   "metadata": {},
   "outputs": [],
   "source": [
    "#|export\n",
    "with open(f'{const.pre_output_path}/data_files.json', 'w') as f:\n",
    "    json.dump(file_links, f)"
   ]
  },
  {
   "cell_type": "code",
   "execution_count": null,
   "id": "384f7cc9-4c99-4d0a-845e-b895562133a8",
   "metadata": {},
   "outputs": [],
   "source": [
    "file_links"
   ]
  }
 ],
 "metadata": {
  "kernelspec": {
   "display_name": "python3",
   "language": "python",
   "name": "python3"
  }
 },
 "nbformat": 4,
 "nbformat_minor": 5
}
