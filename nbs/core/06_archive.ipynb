{
 "cells": [
  {
   "cell_type": "markdown",
   "id": "6c6fca1b-c8cf-449c-9d5c-d8bb10d890ff",
   "metadata": {},
   "source": [
    "# 06 Archive\n",
    "\n",
    "> Zip all files."
   ]
  },
  {
   "cell_type": "code",
   "execution_count": null,
   "id": "33d30996-0eaa-4130-8f1d-a8c395d089de",
   "metadata": {},
   "outputs": [],
   "source": [
    "#|default_exp core.06_archive"
   ]
  },
  {
   "cell_type": "code",
   "execution_count": null,
   "id": "5d954f1d-5e1b-44f9-bf9c-86be2ec2d202",
   "metadata": {},
   "outputs": [],
   "source": [
    "#|hide\n",
    "import nbdev; nbdev.nbdev_export()"
   ]
  },
  {
   "cell_type": "code",
   "execution_count": null,
   "id": "ef5c2ab3-3206-4809-a60b-d2742f5c5ac4",
   "metadata": {},
   "outputs": [],
   "source": [
    "#|hide\n",
    "from nbdev.showdoc import show_doc"
   ]
  },
  {
   "cell_type": "code",
   "execution_count": null,
   "id": "86bf1d1d-d0ad-4369-97dc-66aaafa920cc",
   "metadata": {},
   "outputs": [],
   "source": [
    "#|export\n",
    "import pubcrawler as proj\n",
    "from pubcrawler import const, log, utils, tools\n",
    "import adu_proj.utils as adutils"
   ]
  },
  {
   "cell_type": "code",
   "execution_count": null,
   "id": "2c47b2cb-daa3-478e-becc-642b9ca89541",
   "metadata": {},
   "outputs": [],
   "source": [
    "#|export\n",
    "import shutil\n",
    "import boto3\n",
    "import os"
   ]
  },
  {
   "cell_type": "markdown",
   "id": "351ba60c-78b7-4795-8b21-0f389c7cf0bd",
   "metadata": {},
   "source": [
    "Export all data to zip:"
   ]
  },
  {
   "cell_type": "code",
   "execution_count": null,
   "id": "23eaafdb-52bd-483d-afb1-2fbcdb1d732f",
   "metadata": {},
   "outputs": [],
   "source": [
    "#|export\n",
    "if shutil.make_archive(f'{const.data_path}/{const.directory_name}', 'zip', f'{const.pre_output_path}'):\n",
    "    print(f\"All files saved to {const.data_path}/{const.directory_name}\")"
   ]
  },
  {
   "cell_type": "code",
   "execution_count": null,
   "id": "46a37d6d-978a-4fd7-9382-02cab6180b7f",
   "metadata": {},
   "outputs": [],
   "source": [
    "#|export\n",
    "def upload_zip_to_s3(file_path, bucket_name, s3_file_name):\n",
    "    # Create an S3 client\n",
    "    s3_client = boto3.client('s3')\n",
    "\n",
    "    # Open the file and upload to S3\n",
    "    with open(file_path, 'rb') as file:\n",
    "        s3_client.upload_fileobj(file, bucket_name, s3_file_name)"
   ]
  },
  {
   "cell_type": "code",
   "execution_count": null,
   "id": "ed7e620e-779f-497c-b5f3-f3db33dfe9ee",
   "metadata": {},
   "outputs": [],
   "source": [
    "#|export\n",
    "if const.s3_bucket:\n",
    "    upload_zip_to_s3(f\"{const.data_path}/{const.directory_name}.zip\", const.s3_bucket, f\"{const.directory_name}.zip\")"
   ]
  }
 ],
 "metadata": {
  "kernelspec": {
   "display_name": "python3",
   "language": "python",
   "name": "python3"
  }
 },
 "nbformat": 4,
 "nbformat_minor": 5
}
