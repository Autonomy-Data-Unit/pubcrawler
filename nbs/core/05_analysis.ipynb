{
 "cells": [
  {
   "cell_type": "markdown",
   "id": "6c6fca1b-c8cf-449c-9d5c-d8bb10d890ff",
   "metadata": {},
   "source": [
    "# 05 Analyse\n",
    "\n",
    "> Analyse metadata from publications."
   ]
  },
  {
   "cell_type": "code",
   "execution_count": null,
   "id": "33d30996-0eaa-4130-8f1d-a8c395d089de",
   "metadata": {},
   "outputs": [],
   "source": [
    "#|default_exp core.05_analyse"
   ]
  },
  {
   "cell_type": "code",
   "execution_count": null,
   "id": "5d954f1d-5e1b-44f9-bf9c-86be2ec2d202",
   "metadata": {},
   "outputs": [],
   "source": [
    "#|hide\n",
    "import nbdev; nbdev.nbdev_export()"
   ]
  },
  {
   "cell_type": "code",
   "execution_count": null,
   "id": "ef5c2ab3-3206-4809-a60b-d2742f5c5ac4",
   "metadata": {},
   "outputs": [],
   "source": [
    "#|hide\n",
    "from nbdev.showdoc import show_doc"
   ]
  },
  {
   "cell_type": "code",
   "execution_count": null,
   "id": "86bf1d1d-d0ad-4369-97dc-66aaafa920cc",
   "metadata": {},
   "outputs": [],
   "source": [
    "#|export\n",
    "import pubcrawler as proj\n",
    "from pubcrawler import const, log, utils, tools\n",
    "import adu_proj.utils as adutils"
   ]
  },
  {
   "cell_type": "code",
   "execution_count": null,
   "id": "2c47b2cb-daa3-478e-becc-642b9ca89541",
   "metadata": {},
   "outputs": [],
   "source": [
    "#|export\n",
    "from collections import Counter\n",
    "import pandas as pd\n",
    "import ast\n",
    "import matplotlib.pyplot as plt\n",
    "import matplotlib.font_manager as fm\n",
    "import os\n",
    "import re\n",
    "import itertools\n",
    "import networkx as nx\n",
    "from pyvis.network import Network\n",
    "import shutil\n",
    "from fuzzywuzzy import fuzz\n",
    "import pandas as pd\n",
    "import re\n",
    "import plotly.express as px\n",
    "from dateutil.parser import parse\n",
    "from dateutil.parser._parser import ParserError\n",
    "import plotly\n",
    "import networkx as nx\n",
    "import plotly.graph_objs as go\n",
    "import itertools\n",
    "from pandas.errors import EmptyDataError"
   ]
  },
  {
   "cell_type": "code",
   "execution_count": null,
   "id": "0ce048b9-0ffc-4d78-a704-a58513cee7ab",
   "metadata": {},
   "outputs": [
    {
     "data": {
      "text/html": [
       "        <script type=\"text/javascript\">\n",
       "        window.PlotlyConfig = {MathJaxConfig: 'local'};\n",
       "        if (window.MathJax && window.MathJax.Hub && window.MathJax.Hub.Config) {window.MathJax.Hub.Config({SVG: {font: \"STIX-Web\"}});}\n",
       "        if (typeof require !== 'undefined') {\n",
       "        require.undef(\"plotly\");\n",
       "        requirejs.config({\n",
       "            paths: {\n",
       "                'plotly': ['https://cdn.plot.ly/plotly-2.27.0.min']\n",
       "            }\n",
       "        });\n",
       "        require(['plotly'], function(Plotly) {\n",
       "            window._Plotly = Plotly;\n",
       "        });\n",
       "        }\n",
       "        </script>\n",
       "        "
      ]
     },
     "metadata": {},
     "output_type": "display_data"
    }
   ],
   "source": [
    "plotly.offline.init_notebook_mode(connected=True)"
   ]
  },
  {
   "cell_type": "code",
   "execution_count": null,
   "id": "d56e0242-001c-4d16-99f2-8cc60d297893",
   "metadata": {},
   "outputs": [],
   "source": [
    "# |export\n",
    "fm.fontManager.addfont(f'{const.style_path}/fonts/JosefinSans-Regular.ttf')\n",
    "plt.style.use(f'{const.style_path}/autonomy_white.mplstyle')\n",
    "pd.set_option('display.max_colwidth', None)"
   ]
  },
  {
   "cell_type": "code",
   "execution_count": null,
   "id": "66cc43dd-42ba-4373-9587-ac8a25da7544",
   "metadata": {},
   "outputs": [],
   "source": [
    "#|export\n",
    "plots_dir = f'{const.pre_output_path}/plots'\n",
    "os.makedirs(plots_dir, exist_ok=True)"
   ]
  },
  {
   "cell_type": "code",
   "execution_count": null,
   "id": "b73a2313-9f42-4098-810c-e2112a95dcb7",
   "metadata": {},
   "outputs": [
    {
     "ename": "Exception",
     "evalue": "No publications were found for one project",
     "output_type": "error",
     "traceback": [
      "\u001b[0;31m---------------------------------------------------------------------------\u001b[0m",
      "\u001b[0;31mEmptyDataError\u001b[0m                            Traceback (most recent call last)",
      "Cell \u001b[0;32mIn[18], line 3\u001b[0m\n\u001b[1;32m      2\u001b[0m \u001b[38;5;28;01mtry\u001b[39;00m:\n\u001b[0;32m----> 3\u001b[0m     pubs \u001b[38;5;241m=\u001b[39m \u001b[43mpd\u001b[49m\u001b[38;5;241;43m.\u001b[39;49m\u001b[43mread_csv\u001b[49m\u001b[43m(\u001b[49m\u001b[38;5;124;43mf\u001b[39;49m\u001b[38;5;124;43m\"\u001b[39;49m\u001b[38;5;132;43;01m{\u001b[39;49;00m\u001b[43mconst\u001b[49m\u001b[38;5;241;43m.\u001b[39;49m\u001b[43mpre_output_path\u001b[49m\u001b[38;5;132;43;01m}\u001b[39;49;00m\u001b[38;5;124;43m/pub_metadata.csv\u001b[39;49m\u001b[38;5;124;43m\"\u001b[39;49m\u001b[43m)\u001b[49m\n\u001b[1;32m      4\u001b[0m \u001b[38;5;28;01mexcept\u001b[39;00m EmptyDataError:\n",
      "File \u001b[0;32m~/miniconda3/envs/pubcrawler/lib/python3.10/site-packages/pandas/io/parsers/readers.py:948\u001b[0m, in \u001b[0;36mread_csv\u001b[0;34m(filepath_or_buffer, sep, delimiter, header, names, index_col, usecols, dtype, engine, converters, true_values, false_values, skipinitialspace, skiprows, skipfooter, nrows, na_values, keep_default_na, na_filter, verbose, skip_blank_lines, parse_dates, infer_datetime_format, keep_date_col, date_parser, date_format, dayfirst, cache_dates, iterator, chunksize, compression, thousands, decimal, lineterminator, quotechar, quoting, doublequote, escapechar, comment, encoding, encoding_errors, dialect, on_bad_lines, delim_whitespace, low_memory, memory_map, float_precision, storage_options, dtype_backend)\u001b[0m\n\u001b[1;32m    946\u001b[0m kwds\u001b[38;5;241m.\u001b[39mupdate(kwds_defaults)\n\u001b[0;32m--> 948\u001b[0m \u001b[38;5;28;01mreturn\u001b[39;00m \u001b[43m_read\u001b[49m\u001b[43m(\u001b[49m\u001b[43mfilepath_or_buffer\u001b[49m\u001b[43m,\u001b[49m\u001b[43m \u001b[49m\u001b[43mkwds\u001b[49m\u001b[43m)\u001b[49m\n",
      "File \u001b[0;32m~/miniconda3/envs/pubcrawler/lib/python3.10/site-packages/pandas/io/parsers/readers.py:611\u001b[0m, in \u001b[0;36m_read\u001b[0;34m(filepath_or_buffer, kwds)\u001b[0m\n\u001b[1;32m    610\u001b[0m \u001b[38;5;66;03m# Create the parser.\u001b[39;00m\n\u001b[0;32m--> 611\u001b[0m parser \u001b[38;5;241m=\u001b[39m \u001b[43mTextFileReader\u001b[49m\u001b[43m(\u001b[49m\u001b[43mfilepath_or_buffer\u001b[49m\u001b[43m,\u001b[49m\u001b[43m \u001b[49m\u001b[38;5;241;43m*\u001b[39;49m\u001b[38;5;241;43m*\u001b[39;49m\u001b[43mkwds\u001b[49m\u001b[43m)\u001b[49m\n\u001b[1;32m    613\u001b[0m \u001b[38;5;28;01mif\u001b[39;00m chunksize \u001b[38;5;129;01mor\u001b[39;00m iterator:\n",
      "File \u001b[0;32m~/miniconda3/envs/pubcrawler/lib/python3.10/site-packages/pandas/io/parsers/readers.py:1448\u001b[0m, in \u001b[0;36mTextFileReader.__init__\u001b[0;34m(self, f, engine, **kwds)\u001b[0m\n\u001b[1;32m   1447\u001b[0m \u001b[38;5;28mself\u001b[39m\u001b[38;5;241m.\u001b[39mhandles: IOHandles \u001b[38;5;241m|\u001b[39m \u001b[38;5;28;01mNone\u001b[39;00m \u001b[38;5;241m=\u001b[39m \u001b[38;5;28;01mNone\u001b[39;00m\n\u001b[0;32m-> 1448\u001b[0m \u001b[38;5;28mself\u001b[39m\u001b[38;5;241m.\u001b[39m_engine \u001b[38;5;241m=\u001b[39m \u001b[38;5;28;43mself\u001b[39;49m\u001b[38;5;241;43m.\u001b[39;49m\u001b[43m_make_engine\u001b[49m\u001b[43m(\u001b[49m\u001b[43mf\u001b[49m\u001b[43m,\u001b[49m\u001b[43m \u001b[49m\u001b[38;5;28;43mself\u001b[39;49m\u001b[38;5;241;43m.\u001b[39;49m\u001b[43mengine\u001b[49m\u001b[43m)\u001b[49m\n",
      "File \u001b[0;32m~/miniconda3/envs/pubcrawler/lib/python3.10/site-packages/pandas/io/parsers/readers.py:1723\u001b[0m, in \u001b[0;36mTextFileReader._make_engine\u001b[0;34m(self, f, engine)\u001b[0m\n\u001b[1;32m   1722\u001b[0m \u001b[38;5;28;01mtry\u001b[39;00m:\n\u001b[0;32m-> 1723\u001b[0m     \u001b[38;5;28;01mreturn\u001b[39;00m \u001b[43mmapping\u001b[49m\u001b[43m[\u001b[49m\u001b[43mengine\u001b[49m\u001b[43m]\u001b[49m\u001b[43m(\u001b[49m\u001b[43mf\u001b[49m\u001b[43m,\u001b[49m\u001b[43m \u001b[49m\u001b[38;5;241;43m*\u001b[39;49m\u001b[38;5;241;43m*\u001b[39;49m\u001b[38;5;28;43mself\u001b[39;49m\u001b[38;5;241;43m.\u001b[39;49m\u001b[43moptions\u001b[49m\u001b[43m)\u001b[49m\n\u001b[1;32m   1724\u001b[0m \u001b[38;5;28;01mexcept\u001b[39;00m \u001b[38;5;167;01mException\u001b[39;00m:\n",
      "File \u001b[0;32m~/miniconda3/envs/pubcrawler/lib/python3.10/site-packages/pandas/io/parsers/c_parser_wrapper.py:93\u001b[0m, in \u001b[0;36mCParserWrapper.__init__\u001b[0;34m(self, src, **kwds)\u001b[0m\n\u001b[1;32m     92\u001b[0m     import_optional_dependency(\u001b[38;5;124m\"\u001b[39m\u001b[38;5;124mpyarrow\u001b[39m\u001b[38;5;124m\"\u001b[39m)\n\u001b[0;32m---> 93\u001b[0m \u001b[38;5;28mself\u001b[39m\u001b[38;5;241m.\u001b[39m_reader \u001b[38;5;241m=\u001b[39m \u001b[43mparsers\u001b[49m\u001b[38;5;241;43m.\u001b[39;49m\u001b[43mTextReader\u001b[49m\u001b[43m(\u001b[49m\u001b[43msrc\u001b[49m\u001b[43m,\u001b[49m\u001b[43m \u001b[49m\u001b[38;5;241;43m*\u001b[39;49m\u001b[38;5;241;43m*\u001b[39;49m\u001b[43mkwds\u001b[49m\u001b[43m)\u001b[49m\n\u001b[1;32m     95\u001b[0m \u001b[38;5;28mself\u001b[39m\u001b[38;5;241m.\u001b[39munnamed_cols \u001b[38;5;241m=\u001b[39m \u001b[38;5;28mself\u001b[39m\u001b[38;5;241m.\u001b[39m_reader\u001b[38;5;241m.\u001b[39munnamed_cols\n",
      "File \u001b[0;32mparsers.pyx:586\u001b[0m, in \u001b[0;36mpandas._libs.parsers.TextReader.__cinit__\u001b[0;34m()\u001b[0m\n",
      "\u001b[0;31mEmptyDataError\u001b[0m: No columns to parse from file",
      "\nDuring handling of the above exception, another exception occurred:\n",
      "\u001b[0;31mException\u001b[0m                                 Traceback (most recent call last)",
      "Cell \u001b[0;32mIn[18], line 5\u001b[0m\n\u001b[1;32m      3\u001b[0m     pubs \u001b[38;5;241m=\u001b[39m pd\u001b[38;5;241m.\u001b[39mread_csv(\u001b[38;5;124mf\u001b[39m\u001b[38;5;124m\"\u001b[39m\u001b[38;5;132;01m{\u001b[39;00mconst\u001b[38;5;241m.\u001b[39mpre_output_path\u001b[38;5;132;01m}\u001b[39;00m\u001b[38;5;124m/pub_metadata.csv\u001b[39m\u001b[38;5;124m\"\u001b[39m)\n\u001b[1;32m      4\u001b[0m \u001b[38;5;28;01mexcept\u001b[39;00m EmptyDataError:\n\u001b[0;32m----> 5\u001b[0m     \u001b[38;5;28;01mraise\u001b[39;00m \u001b[38;5;167;01mException\u001b[39;00m(\u001b[38;5;124mf\u001b[39m\u001b[38;5;124m\"\u001b[39m\u001b[38;5;124mNo publications were found for \u001b[39m\u001b[38;5;132;01m{\u001b[39;00mconst\u001b[38;5;241m.\u001b[39mdirectory_name\u001b[38;5;132;01m}\u001b[39;00m\u001b[38;5;124m\"\u001b[39m)\n",
      "\u001b[0;31mException\u001b[0m: No publications were found for one project"
     ]
    }
   ],
   "source": [
    "#|export\n",
    "try:\n",
    "    pubs = pd.read_csv(f\"{const.pre_output_path}/pub_metadata.csv\")\n",
    "except EmptyDataError:\n",
    "    raise Exception(f\"No publications were found for {const.directory_name}\")"
   ]
  },
  {
   "cell_type": "code",
   "execution_count": null,
   "id": "b3f3fba4-8873-4fd9-ba20-e68f7d51c92e",
   "metadata": {},
   "outputs": [],
   "source": [
    "pubs"
   ]
  },
  {
   "cell_type": "markdown",
   "id": "27e4ad05-421d-424a-8d54-998324f975c3",
   "metadata": {},
   "source": [
    "Filter for publications containing the org name in the list of organisations:"
   ]
  },
  {
   "cell_type": "code",
   "execution_count": null,
   "id": "e9427436-eaa9-46e4-ab63-1fee91b032b4",
   "metadata": {},
   "outputs": [],
   "source": [
    "#|export\n",
    "org_pubs = pubs[pubs['organisation'].str.contains('|'.join(const.org_names), na=False, case=False)].reset_index(drop=True)"
   ]
  },
  {
   "cell_type": "markdown",
   "id": "1b77ae85-f847-48a0-9cd0-8961bf82f746",
   "metadata": {},
   "source": [
    "## Author Frequency\n",
    "\n",
    "We can begin by analysing which authors appear most across all publications."
   ]
  },
  {
   "cell_type": "code",
   "execution_count": null,
   "id": "4bf25312-b00c-4ebd-b36e-0246b368fb56",
   "metadata": {},
   "outputs": [],
   "source": [
    "#|export\n",
    "authors = [item for sublist in org_pubs['authors'] if isinstance(ast.literal_eval(sublist), list) for item in ast.literal_eval(sublist)]"
   ]
  },
  {
   "cell_type": "code",
   "execution_count": null,
   "id": "0383a7b9-f666-4ce0-b8f1-f363dca166f2",
   "metadata": {},
   "outputs": [],
   "source": [
    "#|export\n",
    "author_frequency = Counter(authors)"
   ]
  },
  {
   "cell_type": "markdown",
   "id": "3f96901f-0b5e-4b13-b7bc-92e3498ca4ae",
   "metadata": {},
   "source": [
    "We may encounter slightly different versions of the same name so its worth grouping very similar names using fuzzy matching:"
   ]
  },
  {
   "cell_type": "code",
   "execution_count": null,
   "id": "7baf84ee-12f4-4a7f-9d31-8204a552f1ab",
   "metadata": {},
   "outputs": [],
   "source": [
    "#|export\n",
    "def find_best_match(name: str, # single name\n",
    "                    names: list # list of names\n",
    "                   ):\n",
    "    \"Find best match in a list of names\"\n",
    "    best_score, best_match = 0, None\n",
    "    for n in names:\n",
    "        score = fuzz.ratio(name, n)\n",
    "        if score > best_score:\n",
    "            best_score, best_match = score, n  # Corrected this line\n",
    "    return best_match"
   ]
  },
  {
   "cell_type": "code",
   "execution_count": null,
   "id": "b96dcb6b-a775-4372-bfe2-ce959d3ee467",
   "metadata": {},
   "outputs": [],
   "source": [
    "find_best_match(\"John\", [\"John Doe\", \"Joe Doe\", \"Josh Jo\"])"
   ]
  },
  {
   "cell_type": "code",
   "execution_count": null,
   "id": "683c8fc3-8aa9-4eb8-b59b-6eb42f455b95",
   "metadata": {},
   "outputs": [],
   "source": [
    "#|export\n",
    "threshold = 85  # similarity threshold, can adjust as needed\n",
    "grouped_author_counts = Counter()\n",
    "for name, count in author_frequency.items():\n",
    "    match = find_best_match(name, grouped_author_counts)\n",
    "    if match and fuzz.ratio(name, match) >= threshold:\n",
    "        grouped_author_counts[match] += count\n",
    "    else:\n",
    "        grouped_author_counts[name] = count"
   ]
  },
  {
   "cell_type": "code",
   "execution_count": null,
   "id": "3915109d-ed06-403a-ae5d-a31f14e4f66f",
   "metadata": {},
   "outputs": [],
   "source": [
    "#|export\n",
    "top_10_authors = grouped_author_counts.most_common(10)\n",
    "\n",
    "# Separating items and their frequencies\n",
    "items, frequencies = zip(*top_10_authors)\n",
    "\n",
    "# Creating a horizontal bar chart\n",
    "plt.figure(figsize=(10, 8))  # Adjust size as needed\n",
    "plt.barh(items, frequencies)\n",
    "plt.xlabel('Frequency')\n",
    "plt.title('Most Prolific Authors')\n",
    "plt.savefig(f'{plots_dir}/author_frequency.png')"
   ]
  },
  {
   "cell_type": "code",
   "execution_count": null,
   "id": "c0934841-d613-4c03-a4aa-bffb2088f320",
   "metadata": {},
   "outputs": [],
   "source": [
    "plt.show()"
   ]
  },
  {
   "cell_type": "markdown",
   "id": "53c7342a-7653-4f85-be49-132b5d10bede",
   "metadata": {},
   "source": [
    "## Organisation Frequency\n",
    "\n",
    "Lets see the most common organisations to author publications:"
   ]
  },
  {
   "cell_type": "code",
   "execution_count": null,
   "id": "296d6784-7ecb-40b6-b12d-444a53fda854",
   "metadata": {},
   "outputs": [],
   "source": [
    "#|export\n",
    "organisations = [item for sublist in org_pubs['organisation'] if isinstance(ast.literal_eval(sublist), list) for item in ast.literal_eval(sublist)]"
   ]
  },
  {
   "cell_type": "code",
   "execution_count": null,
   "id": "4e2426cd-3b6a-43be-89ab-82c61a982874",
   "metadata": {},
   "outputs": [],
   "source": [
    "#|export\n",
    "organisations = [organisation for organisation in organisations if all(name not in organisation.lower() for name in const.org_names)]"
   ]
  },
  {
   "cell_type": "code",
   "execution_count": null,
   "id": "609a7d44-cf8c-4c1b-86e7-14ab0c0c1e6e",
   "metadata": {},
   "outputs": [],
   "source": [
    "#|export\n",
    "organisation_frequency = Counter(organisations)"
   ]
  },
  {
   "cell_type": "code",
   "execution_count": null,
   "id": "06026439-1f50-495e-857a-f2ee1eacb03d",
   "metadata": {},
   "outputs": [],
   "source": [
    "#|export\n",
    "threshold = 85  # similarity threshold, can adjust as needed\n",
    "grouped_org_counts = Counter()\n",
    "for name, count in organisation_frequency.items():\n",
    "    match = find_best_match(name, grouped_org_counts)\n",
    "    if match and fuzz.ratio(name, match) >= threshold:\n",
    "        grouped_org_counts[match] += count\n",
    "    else:\n",
    "        grouped_org_counts[name] = count"
   ]
  },
  {
   "cell_type": "code",
   "execution_count": null,
   "id": "d3429f5b-0fbe-44a6-a160-c33361aef7af",
   "metadata": {},
   "outputs": [],
   "source": [
    "#|export\n",
    "top_10_orgs = grouped_org_counts.most_common(10)\n",
    "\n",
    "# Separating items and their frequencies\n",
    "items, frequencies = zip(*top_10_orgs)\n",
    "\n",
    "# Creating a horizontal bar chart\n",
    "plt.figure(figsize=(10, 8))  # Adjust size as needed\n",
    "plt.barh(items, frequencies)\n",
    "plt.xlabel('Frequency')\n",
    "plt.title('Institutional Collaborators')\n",
    "# Set x-axis ticks to show only complete numbers\n",
    "max_frequency = max(frequencies)\n",
    "step = 1  # Define step size based on your data scale\n",
    "plt.xticks(range(0, max_frequency + 1, step))\n",
    "plt.savefig(f'{plots_dir}/organisation_frequency.png')"
   ]
  },
  {
   "cell_type": "code",
   "execution_count": null,
   "id": "6e30478d-65df-435e-939c-3e0cfc77decc",
   "metadata": {},
   "outputs": [],
   "source": [
    "plt.show()"
   ]
  },
  {
   "cell_type": "markdown",
   "id": "e79ffb55-5428-4c20-b0e7-e0934758611e",
   "metadata": {},
   "source": [
    "## Funder Frequency"
   ]
  },
  {
   "cell_type": "code",
   "execution_count": null,
   "id": "c931327a-8917-4491-8153-b668d7f19fd1",
   "metadata": {},
   "outputs": [],
   "source": [
    "#|export\n",
    "funders = [item for sublist in org_pubs['funders'] if isinstance(ast.literal_eval(sublist), list) for item in ast.literal_eval(sublist)]"
   ]
  },
  {
   "cell_type": "code",
   "execution_count": null,
   "id": "6ff533a0-7961-46ef-8f79-e32af01d48c8",
   "metadata": {},
   "outputs": [],
   "source": [
    "#|export\n",
    "funders = [organisation for organisation in funders if all(name not in organisation.lower() for name in const.org_names)]"
   ]
  },
  {
   "cell_type": "code",
   "execution_count": null,
   "id": "8438ce89-f5cb-496e-9b62-d0d9057a9d62",
   "metadata": {},
   "outputs": [],
   "source": [
    "#|export\n",
    "funder_frequency = Counter(funders)"
   ]
  },
  {
   "cell_type": "code",
   "execution_count": null,
   "id": "db33dbe6-3fed-47e8-9646-af47ba15fe6c",
   "metadata": {},
   "outputs": [],
   "source": [
    "#|export\n",
    "threshold = 85  # similarity threshold, can adjust as needed\n",
    "grouped_funder_counts = Counter()\n",
    "for name, count in funder_frequency.items():\n",
    "    match = find_best_match(name, grouped_funder_counts)\n",
    "    if match and fuzz.ratio(name, match) >= threshold:\n",
    "        grouped_funder_counts[match] += count\n",
    "    else:\n",
    "        grouped_funder_counts[name] = count"
   ]
  },
  {
   "cell_type": "code",
   "execution_count": null,
   "id": "7c1db51f-2d7e-4176-a888-cfd38cbbd252",
   "metadata": {},
   "outputs": [],
   "source": [
    "#|export\n",
    "top_10_funders = grouped_funder_counts.most_common(10)\n",
    "\n",
    "# Separating items and their frequencies\n",
    "items, frequencies = zip(*top_10_funders)\n",
    "\n",
    "# Creating a horizontal bar chart\n",
    "plt.figure(figsize=(10, 8))  # Adjust size as needed\n",
    "plt.barh(items, frequencies)\n",
    "plt.xlabel('Frequency')\n",
    "plt.title('Most Regular Funders')\n",
    "plt.savefig(f'{plots_dir}/funder_frequency.png')"
   ]
  },
  {
   "cell_type": "code",
   "execution_count": null,
   "id": "c15819d6-575a-4f84-881c-c5f3115e478d",
   "metadata": {},
   "outputs": [],
   "source": [
    "plt.show()"
   ]
  },
  {
   "cell_type": "markdown",
   "id": "76145ce9-c260-4431-bc9f-cdb6c0455e91",
   "metadata": {},
   "source": [
    "## Keyword Frequency"
   ]
  },
  {
   "cell_type": "code",
   "execution_count": null,
   "id": "6fc1a04a-8ad4-4812-8ad2-31421b886bc7",
   "metadata": {},
   "outputs": [],
   "source": [
    "#|export\n",
    "keywords = [item.lower() for sublist in org_pubs['keywords'] if isinstance(ast.literal_eval(sublist), list) for item in ast.literal_eval(sublist)]"
   ]
  },
  {
   "cell_type": "code",
   "execution_count": null,
   "id": "92aa9feb-16bc-42bc-9e3a-98711a147ea4",
   "metadata": {},
   "outputs": [],
   "source": [
    "#|export\n",
    "keyword_frequency = Counter(keywords)"
   ]
  },
  {
   "cell_type": "code",
   "execution_count": null,
   "id": "c0df16cc-22e9-472d-b0df-667e69efd54d",
   "metadata": {},
   "outputs": [],
   "source": [
    "#|export\n",
    "threshold = 85  # similarity threshold, can adjust as needed\n",
    "grouped_keyword_counts = Counter()\n",
    "for name, count in keyword_frequency.items():\n",
    "    match = find_best_match(name, grouped_keyword_counts)\n",
    "    if match and fuzz.ratio(name, match) >= threshold:\n",
    "        grouped_keyword_counts[match] += count\n",
    "    else:\n",
    "        grouped_keyword_counts[name] = count"
   ]
  },
  {
   "cell_type": "code",
   "execution_count": null,
   "id": "34affa9d-5401-427c-9fe5-3a1fcdba180a",
   "metadata": {},
   "outputs": [],
   "source": [
    "#|export\n",
    "top_10_keywords = grouped_keyword_counts.most_common(10)\n",
    "\n",
    "# Separating items and their frequencies\n",
    "items, frequencies = zip(*top_10_keywords)\n",
    "\n",
    "# Creating a horizontal bar chart\n",
    "plt.figure(figsize=(10, 8))  # Adjust size as needed\n",
    "plt.barh(items, frequencies)\n",
    "plt.xlabel('Frequency')\n",
    "plt.title('Common Keywords')\n",
    "plt.savefig(f'{plots_dir}/keyword_frequency.png')"
   ]
  },
  {
   "cell_type": "code",
   "execution_count": null,
   "id": "8b959873-37c6-46dc-9932-a217dc11dbc3",
   "metadata": {},
   "outputs": [],
   "source": [
    "plt.show()"
   ]
  },
  {
   "cell_type": "markdown",
   "id": "c2d1ac51-094f-4d66-bc35-d476fcd3eaaf",
   "metadata": {},
   "source": [
    "## Publication Frequency"
   ]
  },
  {
   "cell_type": "code",
   "execution_count": null,
   "id": "b2518d71-ab44-4788-b65f-1abdb45096b1",
   "metadata": {},
   "outputs": [],
   "source": [
    "#|export\n",
    "def extract_year(text):\n",
    "    match = re.search(r'\\d{4}', text)\n",
    "    return match.group(0) if match else None"
   ]
  },
  {
   "cell_type": "code",
   "execution_count": null,
   "id": "1d5ef993-e662-4b6c-b05d-92d1e705c4e3",
   "metadata": {},
   "outputs": [],
   "source": [
    "#|export\n",
    "org_pubs['year'] = org_pubs['date'].apply(lambda x: extract_year(str(x)))"
   ]
  },
  {
   "cell_type": "code",
   "execution_count": null,
   "id": "28cd2b8b-1453-4d22-8aaa-50f824d800f0",
   "metadata": {},
   "outputs": [],
   "source": [
    "#|export\n",
    "year_counts = org_pubs['year'].dropna().astype(int).value_counts().sort_index()\n",
    "plt.figure(figsize=(10, 6))\n",
    "year_counts.plot(kind='bar')\n",
    "plt.title('Publication Output')\n",
    "plt.xlabel('Year')\n",
    "plt.ylabel('Number of Publications')\n",
    "plt.xticks(rotation=45)\n",
    "plt.grid(axis='y')\n",
    "max_frequency = max(year_counts)\n",
    "step = 2 \n",
    "plt.yticks(range(0, max_frequency + 2, step))\n",
    "plt.tight_layout()\n",
    "plt.savefig(f'{plots_dir}/publication_output.png')"
   ]
  },
  {
   "cell_type": "code",
   "execution_count": null,
   "id": "ff0cf2b5-44bf-49ab-bdcf-ff5c4eab711f",
   "metadata": {},
   "outputs": [],
   "source": [
    "plt.show()"
   ]
  },
  {
   "cell_type": "markdown",
   "id": "3285c352-4890-46e2-a26a-01421e2e43f4",
   "metadata": {},
   "source": [
    "## Publication Frequency (Monthly)"
   ]
  },
  {
   "cell_type": "code",
   "execution_count": null,
   "id": "c209cd21-2ddd-4f2b-9113-1ee8d0d5294d",
   "metadata": {},
   "outputs": [],
   "source": [
    "#|export\n",
    "def contains_month_and_year(date_str:str\n",
    "                           ):\n",
    "    \"return month and year from date string\"\n",
    "    # Regex pattern for standalone year (e.g., '2023')\n",
    "    if not isinstance(date_str, str):\n",
    "        return False\n",
    "    year_pattern = r'^\\d{4}$'\n",
    "    if re.match(year_pattern, date_str):\n",
    "        return False\n",
    "    try:\n",
    "        parsed_date = parse(date_str)\n",
    "        # Check if both month and year are present\n",
    "        return parsed_date.month != 1 or parsed_date.year != parsed_date.today().year\n",
    "    except ParserError:\n",
    "        return False"
   ]
  },
  {
   "cell_type": "code",
   "execution_count": null,
   "id": "5e033b99-c4d7-4140-bd19-ef877b2b93f7",
   "metadata": {},
   "outputs": [],
   "source": [
    "#|export\n",
    "def split_text(text:str):\n",
    "    \"new line for every 5 words\"\n",
    "    words = text.split()\n",
    "    return '<br>'.join(' '.join(words[i:i+5]) for i in range(0, len(words), 5))"
   ]
  },
  {
   "cell_type": "code",
   "execution_count": null,
   "id": "505a43dd-ea4a-4ef4-9388-b168415d7f2b",
   "metadata": {},
   "outputs": [],
   "source": [
    "#|export\n",
    "org_pubs['date_parsed'] = org_pubs['date'].apply(contains_month_and_year)"
   ]
  },
  {
   "cell_type": "code",
   "execution_count": null,
   "id": "4d193760-91fc-481c-9dc4-5d9e3fb8cf7f",
   "metadata": {},
   "outputs": [],
   "source": [
    "#|export\n",
    "org_pubs_monthly = org_pubs[org_pubs['date_parsed']].copy()\n",
    "org_pubs_monthly['report'] = org_pubs_monthly['title'].apply(split_text)\n",
    "org_pubs_monthly['date'] = pd.to_datetime(org_pubs_monthly['date'], errors='ignore', format='mixed')\n",
    "org_pubs_monthly['month_year'] = org_pubs_monthly['date'].dt.to_period('M')\n",
    "org_pubs_monthly = org_pubs_monthly.drop_duplicates(subset=['report', 'date'], keep='first')\n",
    "org_pubs_monthly['cumulative_count'] = org_pubs_monthly.groupby('month_year').cumcount() + 1\n",
    "\n",
    "fig = px.scatter(org_pubs_monthly, x='date', y='cumulative_count', title='Publication Output (Monthly)', \n",
    "                 hover_data={'report': True, 'date': True, 'cumulative_count': False},\n",
    "                 size_max=60)\n",
    "fig.update_traces(marker=dict(color='#E3BA59'))\n",
    "fig.update_traces(textposition='top center')\n",
    "fig.update_layout(xaxis_title='Date', yaxis_title=None, \n",
    "                  yaxis=dict(tickmode='linear', tick0=1, dtick=1, gridcolor='#878787'),\n",
    "                  xaxis=dict(gridcolor='#878787'),\n",
    "                  font=dict(family=\"Josefin Sans, Arial\"),\n",
    "                  hoverlabel=dict(\n",
    "                      font=dict(family=\"Josefin Sans, Arial\", color=\"#FFFFFF\"),\n",
    "                      bgcolor=\"#222222\"\n",
    "                  ),\n",
    "                  plot_bgcolor='#333333', showlegend=False)\n",
    "html_filename = \"publication_monthly.html\"\n",
    "fig.write_html(f'{plots_dir}/{html_filename}')"
   ]
  },
  {
   "cell_type": "code",
   "execution_count": null,
   "id": "48cf099b-7a76-44ca-9d6c-0bd9b09347e9",
   "metadata": {},
   "outputs": [],
   "source": [
    "fig.show()"
   ]
  },
  {
   "cell_type": "markdown",
   "id": "d348858f-d3a1-4bd1-9f76-a4d42f5e7fa6",
   "metadata": {},
   "source": [
    "## Co-author Frequency"
   ]
  },
  {
   "cell_type": "code",
   "execution_count": null,
   "id": "d370f439-bf86-4bdf-aaa3-9244064cb1bb",
   "metadata": {},
   "outputs": [],
   "source": [
    "#|export\n",
    "author_lists = [ast.literal_eval(sublist) for sublist in org_pubs['authors'] if isinstance(ast.literal_eval(sublist), list)]"
   ]
  },
  {
   "cell_type": "code",
   "execution_count": null,
   "id": "542f572e-1b05-46cb-8be6-a8b4025b0838",
   "metadata": {},
   "outputs": [],
   "source": [
    "#|export\n",
    "G = nx.Graph()\n",
    "\n",
    "if not author_lists:\n",
    "    print(\"author_lists is empty.\")\n",
    "else:\n",
    "    for sublist in author_lists:\n",
    "        for pair in itertools.combinations(sublist, 2):\n",
    "            if G.has_edge(*pair):\n",
    "                G[pair[0]][pair[1]]['weight'] += 1\n",
    "            else:\n",
    "                G.add_edge(pair[0], pair[1], weight=1)\n",
    "if len(G.nodes) == 0 or len(G.edges) == 0:\n",
    "    print(\"No nodes or edges in the graph.\")\n",
    "else:\n",
    "    largest_cc = max(nx.connected_components(G), key=len)\n",
    "    subgraph = G.subgraph(largest_cc)\n",
    "    pos = nx.spring_layout(G)\n",
    "    nx.set_node_attributes(G, pos, 'pos')\n",
    "    central_node = max(G.nodes, key=lambda n: G.degree(n))\n",
    "    central_pos = G.nodes[central_node]['pos']\n",
    "    zoom_range = 0.2  # Adjust the value as needed for the desired zoom level\n",
    "    x_range = [central_pos[0] - zoom_range, central_pos[0] + zoom_range]\n",
    "    y_range = [central_pos[1] - zoom_range, central_pos[1] + zoom_range]\n",
    "    edge_traces = []\n",
    "    for edge in G.edges():\n",
    "        x0, y0 = G.nodes[edge[0]]['pos']\n",
    "        x1, y1 = G.nodes[edge[1]]['pos']\n",
    "        weight = G[edge[0]][edge[1]]['weight']\n",
    "        # weight_text = f\"Collaborations: {weight}\"\n",
    "\n",
    "        edge_trace = go.Scatter(\n",
    "            x=[x0, x1, None], y=[y0, y1, None],\n",
    "            line=dict(width=0.5*weight, color='#888'),\n",
    "            # hoverinfo='text', text=weight_text, mode='lines')\n",
    "            hoverinfo='none', mode='lines')  \n",
    "        edge_traces.append(edge_trace)\n",
    "    x_vals, y_vals, texts, colors = [], [], [], []\n",
    "    for node in G.nodes():\n",
    "        x, y = G.nodes[node]['pos']\n",
    "        x_vals.append(x)\n",
    "        y_vals.append(y)\n",
    "        total_weight = sum(data['weight'] for _, _, data in G.edges(node, data=True))\n",
    "        texts.append(f'{node}<br>Collaborations: {total_weight}')\n",
    "        colors.append(total_weight)\n",
    "    node_trace = go.Scatter(\n",
    "        x=x_vals, y=y_vals, text=texts, mode='markers', hoverinfo='text',\n",
    "        marker=dict(\n",
    "            showscale=True, colorscale='YlOrRd', size=10, color=colors,\n",
    "            colorbar=dict(thickness=15, title='Collaborations', \n",
    "                          xanchor='left', titleside='right'),\n",
    "            line=dict(width=0.1)),\n",
    "            hoverlabel=dict(font=dict(family=\"Josefin Sans, Arial\")))\n",
    "    layout = go.Layout(\n",
    "        # title='<br>Network graph made with Python',\n",
    "        titlefont_size=16, showlegend=False, hovermode='closest',\n",
    "        margin=dict(b=20, l=5, r=5, t=40),\n",
    "        font=dict(family=\"Josefin Sans, Arial\"),\n",
    "        plot_bgcolor='#333333',\n",
    "        xaxis=dict(range=x_range, showgrid=False, zeroline=False, showticklabels=False),\n",
    "        yaxis=dict(range=y_range, showgrid=False, zeroline=False, showticklabels=False))\n",
    "    fig = go.Figure(data=edge_traces + [node_trace], layout=layout)"
   ]
  },
  {
   "cell_type": "code",
   "execution_count": null,
   "id": "7c0df10d-fdc1-455e-9d08-0cbd3a658540",
   "metadata": {},
   "outputs": [],
   "source": [
    "fig.show()"
   ]
  },
  {
   "cell_type": "code",
   "execution_count": null,
   "id": "18ad82f6-4d21-4890-b896-326053096946",
   "metadata": {},
   "outputs": [],
   "source": [
    "#|export\n",
    "html_filename = \"network_graph.html\"\n",
    "fig.write_html(f'{plots_dir}/{html_filename}')"
   ]
  },
  {
   "cell_type": "markdown",
   "id": "351ba60c-78b7-4795-8b21-0f389c7cf0bd",
   "metadata": {},
   "source": [
    "Export all data to zip:"
   ]
  },
  {
   "cell_type": "code",
   "execution_count": null,
   "id": "23eaafdb-52bd-483d-afb1-2fbcdb1d732f",
   "metadata": {},
   "outputs": [],
   "source": [
    "#|export\n",
    "if shutil.make_archive(f'{const.data_path}/{const.directory_name}', 'zip', f'{const.pre_output_path}'):\n",
    "    print(f\"All files saved to {const.data_path}/{const.directory_name}\")"
   ]
  }
 ],
 "metadata": {
  "kernelspec": {
   "display_name": "python3",
   "language": "python",
   "name": "python3"
  }
 },
 "nbformat": 4,
 "nbformat_minor": 5
}
