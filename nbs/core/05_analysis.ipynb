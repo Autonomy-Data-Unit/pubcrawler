{
 "cells": [
  {
   "cell_type": "markdown",
   "id": "6c6fca1b-c8cf-449c-9d5c-d8bb10d890ff",
   "metadata": {},
   "source": [
    "# 05 Analyse\n",
    "\n",
    "> Analyse metadata from publications."
   ]
  },
  {
   "cell_type": "code",
   "execution_count": null,
   "id": "33d30996-0eaa-4130-8f1d-a8c395d089de",
   "metadata": {},
   "outputs": [],
   "source": [
    "#|default_exp core.05_analyse"
   ]
  },
  {
   "cell_type": "code",
   "execution_count": null,
   "id": "5d954f1d-5e1b-44f9-bf9c-86be2ec2d202",
   "metadata": {},
   "outputs": [],
   "source": [
    "#|hide\n",
    "import nbdev; nbdev.nbdev_export()"
   ]
  },
  {
   "cell_type": "code",
   "execution_count": null,
   "id": "ef5c2ab3-3206-4809-a60b-d2742f5c5ac4",
   "metadata": {},
   "outputs": [],
   "source": [
    "#|hide\n",
    "from nbdev.showdoc import show_doc"
   ]
  },
  {
   "cell_type": "code",
   "execution_count": null,
   "id": "86bf1d1d-d0ad-4369-97dc-66aaafa920cc",
   "metadata": {},
   "outputs": [],
   "source": [
    "#|export\n",
    "import pubcrawler as proj\n",
    "from pubcrawler import const, log, utils, tools\n",
    "import adu_proj.utils as adutils"
   ]
  },
  {
   "cell_type": "code",
   "execution_count": null,
   "id": "2c47b2cb-daa3-478e-becc-642b9ca89541",
   "metadata": {},
   "outputs": [],
   "source": [
    "#|export\n",
    "from collections import Counter\n",
    "import pandas as pd\n",
    "import ast\n",
    "import matplotlib.pyplot as plt\n",
    "import matplotlib.font_manager as fm\n",
    "import os\n",
    "import re\n",
    "import itertools\n",
    "import networkx as nx\n",
    "from pyvis.network import Network\n",
    "import shutil\n",
    "from fuzzywuzzy import fuzz\n",
    "import pandas as pd\n",
    "import re\n",
    "import plotly.express as px\n",
    "from dateutil.parser import parse\n",
    "from dateutil.parser._parser import ParserError\n",
    "import plotly\n",
    "import networkx as nx\n",
    "import plotly.graph_objs as go\n",
    "import itertools\n",
    "from pandas.errors import EmptyDataError"
   ]
  },
  {
   "cell_type": "code",
   "execution_count": null,
   "id": "0ce048b9-0ffc-4d78-a704-a58513cee7ab",
   "metadata": {},
   "outputs": [
    {
     "data": {
      "text/html": [
       "        <script type=\"text/javascript\">\n",
       "        window.PlotlyConfig = {MathJaxConfig: 'local'};\n",
       "        if (window.MathJax && window.MathJax.Hub && window.MathJax.Hub.Config) {window.MathJax.Hub.Config({SVG: {font: \"STIX-Web\"}});}\n",
       "        if (typeof require !== 'undefined') {\n",
       "        require.undef(\"plotly\");\n",
       "        requirejs.config({\n",
       "            paths: {\n",
       "                'plotly': ['https://cdn.plot.ly/plotly-2.27.0.min']\n",
       "            }\n",
       "        });\n",
       "        require(['plotly'], function(Plotly) {\n",
       "            window._Plotly = Plotly;\n",
       "        });\n",
       "        }\n",
       "        </script>\n",
       "        "
      ]
     },
     "metadata": {},
     "output_type": "display_data"
    }
   ],
   "source": [
    "plotly.offline.init_notebook_mode(connected=True)"
   ]
  },
  {
   "cell_type": "code",
   "execution_count": null,
   "id": "d56e0242-001c-4d16-99f2-8cc60d297893",
   "metadata": {},
   "outputs": [],
   "source": [
    "# |export\n",
    "fm.fontManager.addfont(f'{const.style_path}/fonts/JosefinSans-Regular.ttf')\n",
    "plt.style.use(f'{const.style_path}/autonomy_white.mplstyle')\n",
    "pd.set_option('display.max_colwidth', None)"
   ]
  },
  {
   "cell_type": "code",
   "execution_count": null,
   "id": "66cc43dd-42ba-4373-9587-ac8a25da7544",
   "metadata": {},
   "outputs": [],
   "source": [
    "#|export\n",
    "plots_dir = f'{const.pre_output_path}/plots'\n",
    "os.makedirs(plots_dir, exist_ok=True)"
   ]
  },
  {
   "cell_type": "code",
   "execution_count": null,
   "id": "b73a2313-9f42-4098-810c-e2112a95dcb7",
   "metadata": {},
   "outputs": [],
   "source": [
    "#|export\n",
    "try:\n",
    "    pubs = pd.read_csv(f\"{const.pre_output_path}/pub_metadata.csv\")\n",
    "except EmptyDataError:\n",
    "    raise Exception(f\"No publications were found for {const.directory_name}\")"
   ]
  },
  {
   "cell_type": "markdown",
   "id": "27e4ad05-421d-424a-8d54-998324f975c3",
   "metadata": {},
   "source": [
    "const.org_namesFilter for publications containing the org name in the list of organisations:"
   ]
  },
  {
   "cell_type": "code",
   "execution_count": null,
   "id": "008b64ea-85b9-4cfe-a23d-9567f9d7069b",
   "metadata": {},
   "outputs": [
    {
     "data": {
      "text/plain": [
       "['oxford global society']"
      ]
     },
     "execution_count": null,
     "metadata": {},
     "output_type": "execute_result"
    }
   ],
   "source": [
    "#|export\n",
    "org_names = [name for name in [const.org_name, const.org_name_2, const.org_name_3] if name]"
   ]
  },
  {
   "cell_type": "code",
   "execution_count": null,
   "id": "e9427436-eaa9-46e4-ab63-1fee91b032b4",
   "metadata": {},
   "outputs": [],
   "source": [
    "#|export\n",
    "org_pubs = pubs[pubs['organisation'].str.contains('|'.join(org_names), na=False, case=False)].reset_index(drop=True)"
   ]
  },
  {
   "cell_type": "markdown",
   "id": "1b77ae85-f847-48a0-9cd0-8961bf82f746",
   "metadata": {},
   "source": [
    "## Author Frequency\n",
    "\n",
    "We can begin by analysing which authors appear most across all publications."
   ]
  },
  {
   "cell_type": "code",
   "execution_count": null,
   "id": "4bf25312-b00c-4ebd-b36e-0246b368fb56",
   "metadata": {},
   "outputs": [],
   "source": [
    "#|export\n",
    "authors = [item for sublist in org_pubs['authors'] if isinstance(ast.literal_eval(sublist), list) for item in ast.literal_eval(sublist)]"
   ]
  },
  {
   "cell_type": "code",
   "execution_count": null,
   "id": "0383a7b9-f666-4ce0-b8f1-f363dca166f2",
   "metadata": {},
   "outputs": [],
   "source": [
    "#|export\n",
    "author_frequency = Counter(authors)"
   ]
  },
  {
   "cell_type": "markdown",
   "id": "3f96901f-0b5e-4b13-b7bc-92e3498ca4ae",
   "metadata": {},
   "source": [
    "We may encounter slightly different versions of the same name so its worth grouping very similar names using fuzzy matching:"
   ]
  },
  {
   "cell_type": "code",
   "execution_count": null,
   "id": "7baf84ee-12f4-4a7f-9d31-8204a552f1ab",
   "metadata": {},
   "outputs": [],
   "source": [
    "#|export\n",
    "def find_best_match(name: str, # single name\n",
    "                    names: list # list of names\n",
    "                   ):\n",
    "    \"Find best match in a list of names\"\n",
    "    best_score, best_match = 0, None\n",
    "    for n in names:\n",
    "        score = fuzz.ratio(name, n)\n",
    "        if score > best_score:\n",
    "            best_score, best_match = score, n  # Corrected this line\n",
    "    return best_match"
   ]
  },
  {
   "cell_type": "code",
   "execution_count": null,
   "id": "b96dcb6b-a775-4372-bfe2-ce959d3ee467",
   "metadata": {},
   "outputs": [
    {
     "data": {
      "text/plain": [
       "'John Doe'"
      ]
     },
     "execution_count": null,
     "metadata": {},
     "output_type": "execute_result"
    }
   ],
   "source": [
    "find_best_match(\"John\", [\"John Doe\", \"Joe Doe\", \"Josh Jo\"])"
   ]
  },
  {
   "cell_type": "code",
   "execution_count": null,
   "id": "683c8fc3-8aa9-4eb8-b59b-6eb42f455b95",
   "metadata": {},
   "outputs": [],
   "source": [
    "#|export\n",
    "threshold = 85  # similarity threshold, can adjust as needed\n",
    "grouped_author_counts = Counter()\n",
    "for name, count in author_frequency.items():\n",
    "    match = find_best_match(name, grouped_author_counts)\n",
    "    if match and fuzz.ratio(name, match) >= threshold:\n",
    "        grouped_author_counts[match] += count\n",
    "    else:\n",
    "        grouped_author_counts[name] = count"
   ]
  },
  {
   "cell_type": "code",
   "execution_count": null,
   "id": "3915109d-ed06-403a-ae5d-a31f14e4f66f",
   "metadata": {},
   "outputs": [
    {
     "data": {
      "image/png": "[encoded data removed]",
      "text/plain": [
       "<Figure size 2000x1600 with 1 Axes>"
      ]
     },
     "metadata": {},
     "output_type": "display_data"
    }
   ],
   "source": [
    "#|export\n",
    "top_10_authors = grouped_author_counts.most_common(10)\n",
    "\n",
    "if top_10_authors:\n",
    "    # Separating items and their frequencies\n",
    "    items, frequencies = zip(*top_10_authors)\n",
    "\n",
    "    # Creating a horizontal bar chart\n",
    "    plt.figure(figsize=(10, 8))  # Adjust size as needed\n",
    "    plt.barh(items, frequencies)\n",
    "    plt.xlabel('Frequency')\n",
    "    plt.title('Most Prolific Authors')\n",
    "    plt.savefig(f'{plots_dir}/author_frequency.png')"
   ]
  },
  {
   "cell_type": "code",
   "execution_count": null,
   "id": "c0934841-d613-4c03-a4aa-bffb2088f320",
   "metadata": {},
   "outputs": [],
   "source": [
    "plt.show()"
   ]
  },
  {
   "cell_type": "markdown",
   "id": "53c7342a-7653-4f85-be49-132b5d10bede",
   "metadata": {},
   "source": [
    "## Organisation Frequency\n",
    "\n",
    "Lets see the most common organisations to author publications:"
   ]
  },
  {
   "cell_type": "code",
   "execution_count": null,
   "id": "296d6784-7ecb-40b6-b12d-444a53fda854",
   "metadata": {},
   "outputs": [],
   "source": [
    "#|export\n",
    "organisations = [item for sublist in org_pubs['organisation'] if isinstance(ast.literal_eval(sublist), list) for item in ast.literal_eval(sublist)]"
   ]
  },
  {
   "cell_type": "code",
   "execution_count": null,
   "id": "4e2426cd-3b6a-43be-89ab-82c61a982874",
   "metadata": {},
   "outputs": [],
   "source": [
    "#|export\n",
    "organisations = [organisation for organisation in organisations if all(name not in organisation.lower() for name in org_names)]"
   ]
  },
  {
   "cell_type": "code",
   "execution_count": null,
   "id": "609a7d44-cf8c-4c1b-86e7-14ab0c0c1e6e",
   "metadata": {},
   "outputs": [],
   "source": [
    "#|export\n",
    "organisation_frequency = Counter(organisations)"
   ]
  },
  {
   "cell_type": "code",
   "execution_count": null,
   "id": "06026439-1f50-495e-857a-f2ee1eacb03d",
   "metadata": {},
   "outputs": [],
   "source": [
    "#|export\n",
    "threshold = 85  # similarity threshold, can adjust as needed\n",
    "grouped_org_counts = Counter()\n",
    "for name, count in organisation_frequency.items():\n",
    "    match = find_best_match(name, grouped_org_counts)\n",
    "    if match and fuzz.ratio(name, match) >= threshold:\n",
    "        grouped_org_counts[match] += count\n",
    "    else:\n",
    "        grouped_org_counts[name] = count"
   ]
  },
  {
   "cell_type": "code",
   "execution_count": null,
   "id": "d3429f5b-0fbe-44a6-a160-c33361aef7af",
   "metadata": {},
   "outputs": [
    {
     "data": {
      "image/png": "[encoded data removed]",
      "text/plain": [
       "<Figure size 2000x1600 with 1 Axes>"
      ]
     },
     "metadata": {},
     "output_type": "display_data"
    }
   ],
   "source": [
    "#|export\n",
    "top_10_orgs = grouped_org_counts.most_common(10)\n",
    "\n",
    "if top_10_orgs:\n",
    "    # Separating items and their frequencies\n",
    "    items, frequencies = zip(*top_10_orgs)\n",
    "\n",
    "    # Creating a horizontal bar chart\n",
    "    plt.figure(figsize=(10, 8))  # Adjust size as needed\n",
    "    plt.barh(items, frequencies)\n",
    "    plt.xlabel('Frequency')\n",
    "    plt.title('Institutional Collaborators')\n",
    "    # Set x-axis ticks to show only complete numbers\n",
    "    max_frequency = max(frequencies)\n",
    "    step = 1  # Define step size based on your data scale\n",
    "    plt.xticks(range(0, max_frequency + 1, step))\n",
    "    plt.savefig(f'{plots_dir}/organisation_frequency.png')"
   ]
  },
  {
   "cell_type": "code",
   "execution_count": null,
   "id": "6e30478d-65df-435e-939c-3e0cfc77decc",
   "metadata": {},
   "outputs": [],
   "source": [
    "plt.show()"
   ]
  },
  {
   "cell_type": "markdown",
   "id": "e79ffb55-5428-4c20-b0e7-e0934758611e",
   "metadata": {},
   "source": [
    "## Funder Frequency"
   ]
  },
  {
   "cell_type": "code",
   "execution_count": null,
   "id": "c931327a-8917-4491-8153-b668d7f19fd1",
   "metadata": {},
   "outputs": [],
   "source": [
    "#|export\n",
    "funders = [item for sublist in org_pubs['funders'] if isinstance(ast.literal_eval(sublist), list) for item in ast.literal_eval(sublist)]"
   ]
  },
  {
   "cell_type": "code",
   "execution_count": null,
   "id": "6ff533a0-7961-46ef-8f79-e32af01d48c8",
   "metadata": {},
   "outputs": [],
   "source": [
    "#|export\n",
    "funders = [organisation for organisation in funders if all(name not in organisation.lower() for name in org_names)]"
   ]
  },
  {
   "cell_type": "code",
   "execution_count": null,
   "id": "8438ce89-f5cb-496e-9b62-d0d9057a9d62",
   "metadata": {},
   "outputs": [],
   "source": [
    "#|export\n",
    "funder_frequency = Counter(funders)"
   ]
  },
  {
   "cell_type": "code",
   "execution_count": null,
   "id": "db33dbe6-3fed-47e8-9646-af47ba15fe6c",
   "metadata": {},
   "outputs": [],
   "source": [
    "#|export\n",
    "threshold = 85  # similarity threshold, can adjust as needed\n",
    "grouped_funder_counts = Counter()\n",
    "for name, count in funder_frequency.items():\n",
    "    match = find_best_match(name, grouped_funder_counts)\n",
    "    if match and fuzz.ratio(name, match) >= threshold:\n",
    "        grouped_funder_counts[match] += count\n",
    "    else:\n",
    "        grouped_funder_counts[name] = count"
   ]
  },
  {
   "cell_type": "code",
   "execution_count": null,
   "id": "7c1db51f-2d7e-4176-a888-cfd38cbbd252",
   "metadata": {},
   "outputs": [],
   "source": [
    "#|export\n",
    "top_10_funders = grouped_funder_counts.most_common(10)\n",
    "\n",
    "if top_10_funders:\n",
    "    # Separating items and their frequencies\n",
    "    items, frequencies = zip(*top_10_funders)\n",
    "\n",
    "    # Creating a horizontal bar chart\n",
    "    plt.figure(figsize=(10, 8))  # Adjust size as needed\n",
    "    plt.barh(items, frequencies)\n",
    "    plt.xlabel('Frequency')\n",
    "    plt.title('Most Regular Funders')\n",
    "    plt.savefig(f'{plots_dir}/funder_frequency.png')"
   ]
  },
  {
   "cell_type": "code",
   "execution_count": null,
   "id": "c15819d6-575a-4f84-881c-c5f3115e478d",
   "metadata": {},
   "outputs": [],
   "source": [
    "plt.show()"
   ]
  },
  {
   "cell_type": "markdown",
   "id": "76145ce9-c260-4431-bc9f-cdb6c0455e91",
   "metadata": {},
   "source": [
    "## Keyword Frequency"
   ]
  },
  {
   "cell_type": "code",
   "execution_count": null,
   "id": "6fc1a04a-8ad4-4812-8ad2-31421b886bc7",
   "metadata": {},
   "outputs": [],
   "source": [
    "#|export\n",
    "keywords = [item.lower() for sublist in org_pubs['keywords'] if isinstance(ast.literal_eval(sublist), list) for item in ast.literal_eval(sublist)]"
   ]
  },
  {
   "cell_type": "code",
   "execution_count": null,
   "id": "92aa9feb-16bc-42bc-9e3a-98711a147ea4",
   "metadata": {},
   "outputs": [],
   "source": [
    "#|export\n",
    "keyword_frequency = Counter(keywords)"
   ]
  },
  {
   "cell_type": "code",
   "execution_count": null,
   "id": "c0df16cc-22e9-472d-b0df-667e69efd54d",
   "metadata": {},
   "outputs": [],
   "source": [
    "#|export\n",
    "threshold = 85  # similarity threshold, can adjust as needed\n",
    "grouped_keyword_counts = Counter()\n",
    "for name, count in keyword_frequency.items():\n",
    "    match = find_best_match(name, grouped_keyword_counts)\n",
    "    if match and fuzz.ratio(name, match) >= threshold:\n",
    "        grouped_keyword_counts[match] += count\n",
    "    else:\n",
    "        grouped_keyword_counts[name] = count"
   ]
  },
  {
   "cell_type": "code",
   "execution_count": null,
   "id": "34affa9d-5401-427c-9fe5-3a1fcdba180a",
   "metadata": {},
   "outputs": [
    {
     "data": {
      "image/png": "[encoded data removed]",
      "text/plain": [
       "<Figure size 2000x1600 with 1 Axes>"
      ]
     },
     "metadata": {},
     "output_type": "display_data"
    }
   ],
   "source": [
    "#|export\n",
    "top_10_keywords = grouped_keyword_counts.most_common(10)\n",
    "\n",
    "if top_10_keywords:\n",
    "    # Separating items and their frequencies\n",
    "    items, frequencies = zip(*top_10_keywords)\n",
    "\n",
    "    # Creating a horizontal bar chart\n",
    "    plt.figure(figsize=(10, 8))  # Adjust size as needed\n",
    "    plt.barh(items, frequencies)\n",
    "    plt.xlabel('Frequency')\n",
    "    plt.title('Common Keywords')\n",
    "    plt.savefig(f'{plots_dir}/keyword_frequency.png')"
   ]
  },
  {
   "cell_type": "code",
   "execution_count": null,
   "id": "8b959873-37c6-46dc-9932-a217dc11dbc3",
   "metadata": {},
   "outputs": [],
   "source": [
    "plt.show()"
   ]
  },
  {
   "cell_type": "markdown",
   "id": "c2d1ac51-094f-4d66-bc35-d476fcd3eaaf",
   "metadata": {},
   "source": [
    "## Publication Frequency"
   ]
  },
  {
   "cell_type": "code",
   "execution_count": null,
   "id": "b2518d71-ab44-4788-b65f-1abdb45096b1",
   "metadata": {},
   "outputs": [],
   "source": [
    "#|export\n",
    "def extract_year(text):\n",
    "    match = re.search(r'\\d{4}', text)\n",
    "    return match.group(0) if match else None"
   ]
  },
  {
   "cell_type": "code",
   "execution_count": null,
   "id": "1d5ef993-e662-4b6c-b05d-92d1e705c4e3",
   "metadata": {},
   "outputs": [],
   "source": [
    "#|export\n",
    "org_pubs['year'] = org_pubs['date'].apply(lambda x: extract_year(str(x)))"
   ]
  },
  {
   "cell_type": "code",
   "execution_count": null,
   "id": "28cd2b8b-1453-4d22-8aaa-50f824d800f0",
   "metadata": {},
   "outputs": [
    {
     "data": {
      "image/png": "[encoded data removed]",
      "text/plain": [
       "<Figure size 2000x1200 with 1 Axes>"
      ]
     },
     "metadata": {},
     "output_type": "display_data"
    }
   ],
   "source": [
    "#|export\n",
    "year_counts = org_pubs['year'].dropna().astype(int).value_counts().sort_index()\n",
    "if not year_counts.empty:\n",
    "    plt.figure(figsize=(10, 6))\n",
    "    year_counts.plot(kind='bar')\n",
    "    plt.title('Publication Output')\n",
    "    plt.xlabel('Year')\n",
    "    plt.ylabel('Number of Publications')\n",
    "    plt.xticks(rotation=45)\n",
    "    plt.grid(axis='y')\n",
    "    max_frequency = max(year_counts)\n",
    "    step = 2 \n",
    "    plt.yticks(range(0, max_frequency + 2, step))\n",
    "    plt.tight_layout()\n",
    "    plt.savefig(f'{plots_dir}/publication_output.png')"
   ]
  },
  {
   "cell_type": "code",
   "execution_count": null,
   "id": "ff0cf2b5-44bf-49ab-bdcf-ff5c4eab711f",
   "metadata": {},
   "outputs": [],
   "source": [
    "plt.show()"
   ]
  },
  {
   "cell_type": "markdown",
   "id": "3285c352-4890-46e2-a26a-01421e2e43f4",
   "metadata": {},
   "source": [
    "## Publication Frequency (Monthly)"
   ]
  },
  {
   "cell_type": "code",
   "execution_count": null,
   "id": "c209cd21-2ddd-4f2b-9113-1ee8d0d5294d",
   "metadata": {},
   "outputs": [],
   "source": [
    "#|export\n",
    "def contains_month_and_year(date_str:str\n",
    "                           ):\n",
    "    \"return month and year from date string\"\n",
    "    # Regex pattern for standalone year (e.g., '2023')\n",
    "    if not isinstance(date_str, str):\n",
    "        return False\n",
    "    year_pattern = r'^\\d{4}$'\n",
    "    if re.match(year_pattern, date_str):\n",
    "        return False\n",
    "    try:\n",
    "        parsed_date = parse(date_str)\n",
    "        # Check if both month and year are present\n",
    "        return parsed_date.month != 1 or parsed_date.year != parsed_date.today().year\n",
    "    except ParserError:\n",
    "        return False"
   ]
  },
  {
   "cell_type": "code",
   "execution_count": null,
   "id": "5e033b99-c4d7-4140-bd19-ef877b2b93f7",
   "metadata": {},
   "outputs": [],
   "source": [
    "#|export\n",
    "def split_text(text:str):\n",
    "    \"new line for every 5 words\"\n",
    "    words = text.split()\n",
    "    return '<br>'.join(' '.join(words[i:i+5]) for i in range(0, len(words), 5))"
   ]
  },
  {
   "cell_type": "code",
   "execution_count": null,
   "id": "505a43dd-ea4a-4ef4-9388-b168415d7f2b",
   "metadata": {},
   "outputs": [],
   "source": [
    "#|export\n",
    "org_pubs['date_parsed'] = org_pubs['date'].apply(contains_month_and_year)"
   ]
  },
  {
   "cell_type": "code",
   "execution_count": null,
   "id": "4d193760-91fc-481c-9dc4-5d9e3fb8cf7f",
   "metadata": {},
   "outputs": [],
   "source": [
    "#|export\n",
    "org_pubs_monthly = org_pubs[org_pubs['date_parsed']].copy()\n",
    "org_pubs_monthly['report'] = org_pubs_monthly['title'].apply(split_text)\n",
    "org_pubs_monthly['date'] = pd.to_datetime(org_pubs_monthly['date'], errors='ignore', format='mixed')\n",
    "org_pubs_monthly['month_year'] = org_pubs_monthly['date'].dt.to_period('M')\n",
    "org_pubs_monthly = org_pubs_monthly.drop_duplicates(subset=['report', 'date'], keep='first')\n",
    "org_pubs_monthly['cumulative_count'] = org_pubs_monthly.groupby('month_year').cumcount() + 1\n",
    "\n",
    "if not org_pubs_monthly.empty:\n",
    "    fig = px.scatter(org_pubs_monthly, x='date', y='cumulative_count', title='Publication Output (Monthly)', \n",
    "                     hover_data={'report': True, 'date': True, 'cumulative_count': False},\n",
    "                     size_max=60)\n",
    "    fig.update_traces(marker=dict(color='#E3BA59'))\n",
    "    fig.update_traces(textposition='top center')\n",
    "    fig.update_layout(xaxis_title='Date', yaxis_title=None, \n",
    "                      yaxis=dict(tickmode='linear', tick0=1, dtick=1, gridcolor='#878787'),\n",
    "                      xaxis=dict(gridcolor='#878787'),\n",
    "                      font=dict(family=\"Josefin Sans, Arial\"),\n",
    "                      hoverlabel=dict(\n",
    "                          font=dict(family=\"Josefin Sans, Arial\", color=\"#FFFFFF\"),\n",
    "                          bgcolor=\"#222222\"\n",
    "                      ),\n",
    "                      plot_bgcolor='#333333', showlegend=False)\n",
    "    html_filename = \"publication_monthly.html\"\n",
    "    fig.write_html(f'{plots_dir}/{html_filename}')"
   ]
  },
  {
   "cell_type": "code",
   "execution_count": null,
   "id": "48cf099b-7a76-44ca-9d6c-0bd9b09347e9",
   "metadata": {},
   "outputs": [
    {
     "data": {
      "application/vnd.plotly.v1+json": {
       "config": {
        "plotlyServerURL": "https://plot.ly"
       },
       "data": [
        {
         "customdata": [
          [
           "Perspectives on Russia-Ukraine War: The<br>West vs. The Rest?"
          ],
          [
           "PUTNEY DEBATES 2023: DEMOCRACY IN<br>CRISIS?"
          ],
          [
           "The Geopolitics of Global High-tech<br>Standards: Key issues and debates"
          ],
          [
           "The era of digital surveillance:<br>Authoritarianism vs. democracy?"
          ],
          [
           "European policies towards Chinese tech<br>companies : European interests, risk<br>analysis and policy recommendations"
          ],
          [
           "Putney Debates 2023: Democracy in<br>Crisis?"
          ]
         ],
         "hovertemplate": "date=%{x}<br>report=%{customdata[0]}<extra></extra>",
         "legendgroup": "",
         "marker": {
          "color": "#E3BA59",
          "symbol": "circle"
         },
         "mode": "markers",
         "name": "",
         "orientation": "v",
         "showlegend": false,
         "textposition": "top center",
         "type": "scatter",
         "x": [
          "2022-11-01T00:00:00",
          "2009-05-11T20:23:00",
          "2022-09-12T00:00:00",
          "2022-10-01T00:00:00",
          "2021-12-01T00:00:00",
          "2009-05-11T20:23:00"
         ],
         "xaxis": "x",
         "y": [
          1,
          1,
          1,
          1,
          1,
          2
         ],
         "yaxis": "y"
        }
       ],
       "layout": {
        "autosize": true,
        "font": {
         "family": "Josefin Sans, Arial"
        },
        "hoverlabel": {
         "bgcolor": "#222222",
         "font": {
          "color": "#FFFFFF",
          "family": "Josefin Sans, Arial"
         }
        },
        "legend": {
         "tracegroupgap": 0
        },
        "plot_bgcolor": "#333333",
        "showlegend": false,
        "template": {
         "data": {
          "bar": [
           {
            "error_x": {
             "color": "#2a3f5f"
            },
            "error_y": {
             "color": "#2a3f5f"
            },
            "marker": {
             "line": {
              "color": "#E5ECF6",
              "width": 0.5
             },
             "pattern": {
              "fillmode": "overlay",
              "size": 10,
              "solidity": 0.2
             }
            },
            "type": "bar"
           }
          ],
          "barpolar": [
           {
            "marker": {
             "line": {
              "color": "#E5ECF6",
              "width": 0.5
             },
             "pattern": {
              "fillmode": "overlay",
              "size": 10,
              "solidity": 0.2
             }
            },
            "type": "barpolar"
           }
          ],
          "carpet": [
           {
            "aaxis": {
             "endlinecolor": "#2a3f5f",
             "gridcolor": "white",
             "linecolor": "white",
             "minorgridcolor": "white",
             "startlinecolor": "#2a3f5f"
            },
            "baxis": {
             "endlinecolor": "#2a3f5f",
             "gridcolor": "white",
             "linecolor": "white",
             "minorgridcolor": "white",
             "startlinecolor": "#2a3f5f"
            },
            "type": "carpet"
           }
          ],
          "choropleth": [
           {
            "colorbar": {
             "outlinewidth": 0,
             "ticks": ""
            },
            "type": "choropleth"
           }
          ],
          "contour": [
           {
            "colorbar": {
             "outlinewidth": 0,
             "ticks": ""
            },
            "colorscale": [
             [
              0,
              "#0d0887"
             ],
             [
              0.1111111111111111,
              "#46039f"
             ],
             [
              0.2222222222222222,
              "#7201a8"
             ],
             [
              0.3333333333333333,
              "#9c179e"
             ],
             [
              0.4444444444444444,
              "#bd3786"
             ],
             [
              0.5555555555555556,
              "#d8576b"
             ],
             [
              0.6666666666666666,
              "#ed7953"
             ],
             [
              0.7777777777777778,
              "#fb9f3a"
             ],
             [
              0.8888888888888888,
              "#fdca26"
             ],
             [
              1,
              "#f0f921"
             ]
            ],
            "type": "contour"
           }
          ],
          "contourcarpet": [
           {
            "colorbar": {
             "outlinewidth": 0,
             "ticks": ""
            },
            "type": "contourcarpet"
           }
          ],
          "heatmap": [
           {
            "colorbar": {
             "outlinewidth": 0,
             "ticks": ""
            },
            "colorscale": [
             [
              0,
              "#0d0887"
             ],
             [
              0.1111111111111111,
              "#46039f"
             ],
             [
              0.2222222222222222,
              "#7201a8"
             ],
             [
              0.3333333333333333,
              "#9c179e"
             ],
             [
              0.4444444444444444,
              "#bd3786"
             ],
             [
              0.5555555555555556,
              "#d8576b"
             ],
             [
              0.6666666666666666,
              "#ed7953"
             ],
             [
              0.7777777777777778,
              "#fb9f3a"
             ],
             [
              0.8888888888888888,
              "#fdca26"
             ],
             [
              1,
              "#f0f921"
             ]
            ],
            "type": "heatmap"
           }
          ],
          "heatmapgl": [
           {
            "colorbar": {
             "outlinewidth": 0,
             "ticks": ""
            },
            "colorscale": [
             [
              0,
              "#0d0887"
             ],
             [
              0.1111111111111111,
              "#46039f"
             ],
             [
              0.2222222222222222,
              "#7201a8"
             ],
             [
              0.3333333333333333,
              "#9c179e"
             ],
             [
              0.4444444444444444,
              "#bd3786"
             ],
             [
              0.5555555555555556,
              "#d8576b"
             ],
             [
              0.6666666666666666,
              "#ed7953"
             ],
             [
              0.7777777777777778,
              "#fb9f3a"
             ],
             [
              0.8888888888888888,
              "#fdca26"
             ],
             [
              1,
              "#f0f921"
             ]
            ],
            "type": "heatmapgl"
           }
          ],
          "histogram": [
           {
            "marker": {
             "pattern": {
              "fillmode": "overlay",
              "size": 10,
              "solidity": 0.2
             }
            },
            "type": "histogram"
           }
          ],
          "histogram2d": [
           {
            "colorbar": {
             "outlinewidth": 0,
             "ticks": ""
            },
            "colorscale": [
             [
              0,
              "#0d0887"
             ],
             [
              0.1111111111111111,
              "#46039f"
             ],
             [
              0.2222222222222222,
              "#7201a8"
             ],
             [
              0.3333333333333333,
              "#9c179e"
             ],
             [
              0.4444444444444444,
              "#bd3786"
             ],
             [
              0.5555555555555556,
              "#d8576b"
             ],
             [
              0.6666666666666666,
              "#ed7953"
             ],
             [
              0.7777777777777778,
              "#fb9f3a"
             ],
             [
              0.8888888888888888,
              "#fdca26"
             ],
             [
              1,
              "#f0f921"
             ]
            ],
            "type": "histogram2d"
           }
          ],
          "histogram2dcontour": [
           {
            "colorbar": {
             "outlinewidth": 0,
             "ticks": ""
            },
            "colorscale": [
             [
              0,
              "#0d0887"
             ],
             [
              0.1111111111111111,
              "#46039f"
             ],
             [
              0.2222222222222222,
              "#7201a8"
             ],
             [
              0.3333333333333333,
              "#9c179e"
             ],
             [
              0.4444444444444444,
              "#bd3786"
             ],
             [
              0.5555555555555556,
              "#d8576b"
             ],
             [
              0.6666666666666666,
              "#ed7953"
             ],
             [
              0.7777777777777778,
              "#fb9f3a"
             ],
             [
              0.8888888888888888,
              "#fdca26"
             ],
             [
              1,
              "#f0f921"
             ]
            ],
            "type": "histogram2dcontour"
           }
          ],
          "mesh3d": [
           {
            "colorbar": {
             "outlinewidth": 0,
             "ticks": ""
            },
            "type": "mesh3d"
           }
          ],
          "parcoords": [
           {
            "line": {
             "colorbar": {
              "outlinewidth": 0,
              "ticks": ""
             }
            },
            "type": "parcoords"
           }
          ],
          "pie": [
           {
            "automargin": true,
            "type": "pie"
           }
          ],
          "scatter": [
           {
            "fillpattern": {
             "fillmode": "overlay",
             "size": 10,
             "solidity": 0.2
            },
            "type": "scatter"
           }
          ],
          "scatter3d": [
           {
            "line": {
             "colorbar": {
              "outlinewidth": 0,
              "ticks": ""
             }
            },
            "marker": {
             "colorbar": {
              "outlinewidth": 0,
              "ticks": ""
             }
            },
            "type": "scatter3d"
           }
          ],
          "scattercarpet": [
           {
            "marker": {
             "colorbar": {
              "outlinewidth": 0,
              "ticks": ""
             }
            },
            "type": "scattercarpet"
           }
          ],
          "scattergeo": [
           {
            "marker": {
             "colorbar": {
              "outlinewidth": 0,
              "ticks": ""
             }
            },
            "type": "scattergeo"
           }
          ],
          "scattergl": [
           {
            "marker": {
             "colorbar": {
              "outlinewidth": 0,
              "ticks": ""
             }
            },
            "type": "scattergl"
           }
          ],
          "scattermapbox": [
           {
            "marker": {
             "colorbar": {
              "outlinewidth": 0,
              "ticks": ""
             }
            },
            "type": "scattermapbox"
           }
          ],
          "scatterpolar": [
           {
            "marker": {
             "colorbar": {
              "outlinewidth": 0,
              "ticks": ""
             }
            },
            "type": "scatterpolar"
           }
          ],
          "scatterpolargl": [
           {
            "marker": {
             "colorbar": {
              "outlinewidth": 0,
              "ticks": ""
             }
            },
            "type": "scatterpolargl"
           }
          ],
          "scatterternary": [
           {
            "marker": {
             "colorbar": {
              "outlinewidth": 0,
              "ticks": ""
             }
            },
            "type": "scatterternary"
           }
          ],
          "surface": [
           {
            "colorbar": {
             "outlinewidth": 0,
             "ticks": ""
            },
            "colorscale": [
             [
              0,
              "#0d0887"
             ],
             [
              0.1111111111111111,
              "#46039f"
             ],
             [
              0.2222222222222222,
              "#7201a8"
             ],
             [
              0.3333333333333333,
              "#9c179e"
             ],
             [
              0.4444444444444444,
              "#bd3786"
             ],
             [
              0.5555555555555556,
              "#d8576b"
             ],
             [
              0.6666666666666666,
              "#ed7953"
             ],
             [
              0.7777777777777778,
              "#fb9f3a"
             ],
             [
              0.8888888888888888,
              "#fdca26"
             ],
             [
              1,
              "#f0f921"
             ]
            ],
            "type": "surface"
           }
          ],
          "table": [
           {
            "cells": {
             "fill": {
              "color": "#EBF0F8"
             },
             "line": {
              "color": "white"
             }
            },
            "header": {
             "fill": {
              "color": "#C8D4E3"
             },
             "line": {
              "color": "white"
             }
            },
            "type": "table"
           }
          ]
         },
         "layout": {
          "annotationdefaults": {
           "arrowcolor": "#2a3f5f",
           "arrowhead": 0,
           "arrowwidth": 1
          },
          "autotypenumbers": "strict",
          "coloraxis": {
           "colorbar": {
            "outlinewidth": 0,
            "ticks": ""
           }
          },
          "colorscale": {
           "diverging": [
            [
             0,
             "#8e0152"
            ],
            [
             0.1,
             "#c51b7d"
            ],
            [
             0.2,
             "#de77ae"
            ],
            [
             0.3,
             "#f1b6da"
            ],
            [
             0.4,
             "#fde0ef"
            ],
            [
             0.5,
             "#f7f7f7"
            ],
            [
             0.6,
             "#e6f5d0"
            ],
            [
             0.7,
             "#b8e186"
            ],
            [
             0.8,
             "#7fbc41"
            ],
            [
             0.9,
             "#4d9221"
            ],
            [
             1,
             "#276419"
            ]
           ],
           "sequential": [
            [
             0,
             "#0d0887"
            ],
            [
             0.1111111111111111,
             "#46039f"
            ],
            [
             0.2222222222222222,
             "#7201a8"
            ],
            [
             0.3333333333333333,
             "#9c179e"
            ],
            [
             0.4444444444444444,
             "#bd3786"
            ],
            [
             0.5555555555555556,
             "#d8576b"
            ],
            [
             0.6666666666666666,
             "#ed7953"
            ],
            [
             0.7777777777777778,
             "#fb9f3a"
            ],
            [
             0.8888888888888888,
             "#fdca26"
            ],
            [
             1,
             "#f0f921"
            ]
           ],
           "sequentialminus": [
            [
             0,
             "#0d0887"
            ],
            [
             0.1111111111111111,
             "#46039f"
            ],
            [
             0.2222222222222222,
             "#7201a8"
            ],
            [
             0.3333333333333333,
             "#9c179e"
            ],
            [
             0.4444444444444444,
             "#bd3786"
            ],
            [
             0.5555555555555556,
             "#d8576b"
            ],
            [
             0.6666666666666666,
             "#ed7953"
            ],
            [
             0.7777777777777778,
             "#fb9f3a"
            ],
            [
             0.8888888888888888,
             "#fdca26"
            ],
            [
             1,
             "#f0f921"
            ]
           ]
          },
          "colorway": [
           "#636efa",
           "#EF553B",
           "#00cc96",
           "#ab63fa",
           "#FFA15A",
           "#19d3f3",
           "#FF6692",
           "#B6E880",
           "#FF97FF",
           "#FECB52"
          ],
          "font": {
           "color": "#2a3f5f"
          },
          "geo": {
           "bgcolor": "white",
           "lakecolor": "white",
           "landcolor": "#E5ECF6",
           "showlakes": true,
           "showland": true,
           "subunitcolor": "white"
          },
          "hoverlabel": {
           "align": "left"
          },
          "hovermode": "closest",
          "mapbox": {
           "style": "light"
          },
          "paper_bgcolor": "white",
          "plot_bgcolor": "#E5ECF6",
          "polar": {
           "angularaxis": {
            "gridcolor": "white",
            "linecolor": "white",
            "ticks": ""
           },
           "bgcolor": "#E5ECF6",
           "radialaxis": {
            "gridcolor": "white",
            "linecolor": "white",
            "ticks": ""
           }
          },
          "scene": {
           "xaxis": {
            "backgroundcolor": "#E5ECF6",
            "gridcolor": "white",
            "gridwidth": 2,
            "linecolor": "white",
            "showbackground": true,
            "ticks": "",
            "zerolinecolor": "white"
           },
           "yaxis": {
            "backgroundcolor": "#E5ECF6",
            "gridcolor": "white",
            "gridwidth": 2,
            "linecolor": "white",
            "showbackground": true,
            "ticks": "",
            "zerolinecolor": "white"
           },
           "zaxis": {
            "backgroundcolor": "#E5ECF6",
            "gridcolor": "white",
            "gridwidth": 2,
            "linecolor": "white",
            "showbackground": true,
            "ticks": "",
            "zerolinecolor": "white"
           }
          },
          "shapedefaults": {
           "line": {
            "color": "#2a3f5f"
           }
          },
          "ternary": {
           "aaxis": {
            "gridcolor": "white",
            "linecolor": "white",
            "ticks": ""
           },
           "baxis": {
            "gridcolor": "white",
            "linecolor": "white",
            "ticks": ""
           },
           "bgcolor": "#E5ECF6",
           "caxis": {
            "gridcolor": "white",
            "linecolor": "white",
            "ticks": ""
           }
          },
          "title": {
           "x": 0.05
          },
          "xaxis": {
           "automargin": true,
           "gridcolor": "white",
           "linecolor": "white",
           "ticks": "",
           "title": {
            "standoff": 15
           },
           "zerolinecolor": "white",
           "zerolinewidth": 2
          },
          "yaxis": {
           "automargin": true,
           "gridcolor": "white",
           "linecolor": "white",
           "ticks": "",
           "title": {
            "standoff": 15
           },
           "zerolinecolor": "white",
           "zerolinewidth": 2
          }
         }
        },
        "title": {
         "text": "Publication Output (Monthly)"
        },
        "xaxis": {
         "anchor": "y",
         "autorange": true,
         "domain": [
          0,
          1
         ],
         "gridcolor": "#878787",
         "range": [
          "2008-07-23 05:40:42.7692",
          "2023-08-20 14:42:17.2308"
         ],
         "title": {
          "text": "Date"
         },
         "type": "date"
        },
        "yaxis": {
         "anchor": "x",
         "autorange": true,
         "domain": [
          0,
          1
         ],
         "dtick": 1,
         "gridcolor": "#878787",
         "range": [
          0.9174757281553398,
          2.0825242718446604
         ],
         "tick0": 1,
         "tickmode": "linear",
         "title": {},
         "type": "linear"
        }
       }
      },
      "image/png": "[encoded data removed]",
      "text/html": [
       "<div>                            <div id=\"326a989b-17fc-4963-8164-ae974eb52623\" class=\"plotly-graph-div\" style=\"height:525px; width:100%;\"></div>            <script type=\"text/javascript\">                require([\"plotly\"], function(Plotly) {                    window.PLOTLYENV=window.PLOTLYENV || {};                                    if (document.getElementById(\"326a989b-17fc-4963-8164-ae974eb52623\")) {                    Plotly.newPlot(                        \"326a989b-17fc-4963-8164-ae974eb52623\",                        [{\"customdata\":[[\"Perspectives on Russia-Ukraine War: The\\u003cbr\\u003eWest vs. The Rest?\"],[\"PUTNEY DEBATES 2023: DEMOCRACY IN\\u003cbr\\u003eCRISIS?\"],[\"The Geopolitics of Global High-tech\\u003cbr\\u003eStandards: Key issues and debates\"],[\"The era of digital surveillance:\\u003cbr\\u003eAuthoritarianism vs. democracy?\"],[\"European policies towards Chinese tech\\u003cbr\\u003ecompanies : European interests, risk\\u003cbr\\u003eanalysis and policy recommendations\"],[\"Putney Debates 2023: Democracy in\\u003cbr\\u003eCrisis?\"]],\"hovertemplate\":\"date=%{x}\\u003cbr\\u003ereport=%{customdata[0]}\\u003cextra\\u003e\\u003c\\u002fextra\\u003e\",\"legendgroup\":\"\",\"marker\":{\"color\":\"#E3BA59\",\"symbol\":\"circle\"},\"mode\":\"markers\",\"name\":\"\",\"orientation\":\"v\",\"showlegend\":false,\"x\":[\"2022-11-01T00:00:00\",\"2009-05-11T20:23:00\",\"2022-09-12T00:00:00\",\"2022-10-01T00:00:00\",\"2021-12-01T00:00:00\",\"2009-05-11T20:23:00\"],\"xaxis\":\"x\",\"y\":[1,1,1,1,1,2],\"yaxis\":\"y\",\"type\":\"scatter\",\"textposition\":\"top center\"}],                        {\"template\":{\"data\":{\"histogram2dcontour\":[{\"type\":\"histogram2dcontour\",\"colorbar\":{\"outlinewidth\":0,\"ticks\":\"\"},\"colorscale\":[[0.0,\"#0d0887\"],[0.1111111111111111,\"#46039f\"],[0.2222222222222222,\"#7201a8\"],[0.3333333333333333,\"#9c179e\"],[0.4444444444444444,\"#bd3786\"],[0.5555555555555556,\"#d8576b\"],[0.6666666666666666,\"#ed7953\"],[0.7777777777777778,\"#fb9f3a\"],[0.8888888888888888,\"#fdca26\"],[1.0,\"#f0f921\"]]}],\"choropleth\":[{\"type\":\"choropleth\",\"colorbar\":{\"outlinewidth\":0,\"ticks\":\"\"}}],\"histogram2d\":[{\"type\":\"histogram2d\",\"colorbar\":{\"outlinewidth\":0,\"ticks\":\"\"},\"colorscale\":[[0.0,\"#0d0887\"],[0.1111111111111111,\"#46039f\"],[0.2222222222222222,\"#7201a8\"],[0.3333333333333333,\"#9c179e\"],[0.4444444444444444,\"#bd3786\"],[0.5555555555555556,\"#d8576b\"],[0.6666666666666666,\"#ed7953\"],[0.7777777777777778,\"#fb9f3a\"],[0.8888888888888888,\"#fdca26\"],[1.0,\"#f0f921\"]]}],\"heatmap\":[{\"type\":\"heatmap\",\"colorbar\":{\"outlinewidth\":0,\"ticks\":\"\"},\"colorscale\":[[0.0,\"#0d0887\"],[0.1111111111111111,\"#46039f\"],[0.2222222222222222,\"#7201a8\"],[0.3333333333333333,\"#9c179e\"],[0.4444444444444444,\"#bd3786\"],[0.5555555555555556,\"#d8576b\"],[0.6666666666666666,\"#ed7953\"],[0.7777777777777778,\"#fb9f3a\"],[0.8888888888888888,\"#fdca26\"],[1.0,\"#f0f921\"]]}],\"heatmapgl\":[{\"type\":\"heatmapgl\",\"colorbar\":{\"outlinewidth\":0,\"ticks\":\"\"},\"colorscale\":[[0.0,\"#0d0887\"],[0.1111111111111111,\"#46039f\"],[0.2222222222222222,\"#7201a8\"],[0.3333333333333333,\"#9c179e\"],[0.4444444444444444,\"#bd3786\"],[0.5555555555555556,\"#d8576b\"],[0.6666666666666666,\"#ed7953\"],[0.7777777777777778,\"#fb9f3a\"],[0.8888888888888888,\"#fdca26\"],[1.0,\"#f0f921\"]]}],\"contourcarpet\":[{\"type\":\"contourcarpet\",\"colorbar\":{\"outlinewidth\":0,\"ticks\":\"\"}}],\"contour\":[{\"type\":\"contour\",\"colorbar\":{\"outlinewidth\":0,\"ticks\":\"\"},\"colorscale\":[[0.0,\"#0d0887\"],[0.1111111111111111,\"#46039f\"],[0.2222222222222222,\"#7201a8\"],[0.3333333333333333,\"#9c179e\"],[0.4444444444444444,\"#bd3786\"],[0.5555555555555556,\"#d8576b\"],[0.6666666666666666,\"#ed7953\"],[0.7777777777777778,\"#fb9f3a\"],[0.8888888888888888,\"#fdca26\"],[1.0,\"#f0f921\"]]}],\"surface\":[{\"type\":\"surface\",\"colorbar\":{\"outlinewidth\":0,\"ticks\":\"\"},\"colorscale\":[[0.0,\"#0d0887\"],[0.1111111111111111,\"#46039f\"],[0.2222222222222222,\"#7201a8\"],[0.3333333333333333,\"#9c179e\"],[0.4444444444444444,\"#bd3786\"],[0.5555555555555556,\"#d8576b\"],[0.6666666666666666,\"#ed7953\"],[0.7777777777777778,\"#fb9f3a\"],[0.8888888888888888,\"#fdca26\"],[1.0,\"#f0f921\"]]}],\"mesh3d\":[{\"type\":\"mesh3d\",\"colorbar\":{\"outlinewidth\":0,\"ticks\":\"\"}}],\"scatter\":[{\"fillpattern\":{\"fillmode\":\"overlay\",\"size\":10,\"solidity\":0.2},\"type\":\"scatter\"}],\"parcoords\":[{\"type\":\"parcoords\",\"line\":{\"colorbar\":{\"outlinewidth\":0,\"ticks\":\"\"}}}],\"scatterpolargl\":[{\"type\":\"scatterpolargl\",\"marker\":{\"colorbar\":{\"outlinewidth\":0,\"ticks\":\"\"}}}],\"bar\":[{\"error_x\":{\"color\":\"#2a3f5f\"},\"error_y\":{\"color\":\"#2a3f5f\"},\"marker\":{\"line\":{\"color\":\"#E5ECF6\",\"width\":0.5},\"pattern\":{\"fillmode\":\"overlay\",\"size\":10,\"solidity\":0.2}},\"type\":\"bar\"}],\"scattergeo\":[{\"type\":\"scattergeo\",\"marker\":{\"colorbar\":{\"outlinewidth\":0,\"ticks\":\"\"}}}],\"scatterpolar\":[{\"type\":\"scatterpolar\",\"marker\":{\"colorbar\":{\"outlinewidth\":0,\"ticks\":\"\"}}}],\"histogram\":[{\"marker\":{\"pattern\":{\"fillmode\":\"overlay\",\"size\":10,\"solidity\":0.2}},\"type\":\"histogram\"}],\"scattergl\":[{\"type\":\"scattergl\",\"marker\":{\"colorbar\":{\"outlinewidth\":0,\"ticks\":\"\"}}}],\"scatter3d\":[{\"type\":\"scatter3d\",\"line\":{\"colorbar\":{\"outlinewidth\":0,\"ticks\":\"\"}},\"marker\":{\"colorbar\":{\"outlinewidth\":0,\"ticks\":\"\"}}}],\"scattermapbox\":[{\"type\":\"scattermapbox\",\"marker\":{\"colorbar\":{\"outlinewidth\":0,\"ticks\":\"\"}}}],\"scatterternary\":[{\"type\":\"scatterternary\",\"marker\":{\"colorbar\":{\"outlinewidth\":0,\"ticks\":\"\"}}}],\"scattercarpet\":[{\"type\":\"scattercarpet\",\"marker\":{\"colorbar\":{\"outlinewidth\":0,\"ticks\":\"\"}}}],\"carpet\":[{\"aaxis\":{\"endlinecolor\":\"#2a3f5f\",\"gridcolor\":\"white\",\"linecolor\":\"white\",\"minorgridcolor\":\"white\",\"startlinecolor\":\"#2a3f5f\"},\"baxis\":{\"endlinecolor\":\"#2a3f5f\",\"gridcolor\":\"white\",\"linecolor\":\"white\",\"minorgridcolor\":\"white\",\"startlinecolor\":\"#2a3f5f\"},\"type\":\"carpet\"}],\"table\":[{\"cells\":{\"fill\":{\"color\":\"#EBF0F8\"},\"line\":{\"color\":\"white\"}},\"header\":{\"fill\":{\"color\":\"#C8D4E3\"},\"line\":{\"color\":\"white\"}},\"type\":\"table\"}],\"barpolar\":[{\"marker\":{\"line\":{\"color\":\"#E5ECF6\",\"width\":0.5},\"pattern\":{\"fillmode\":\"overlay\",\"size\":10,\"solidity\":0.2}},\"type\":\"barpolar\"}],\"pie\":[{\"automargin\":true,\"type\":\"pie\"}]},\"layout\":{\"autotypenumbers\":\"strict\",\"colorway\":[\"#636efa\",\"#EF553B\",\"#00cc96\",\"#ab63fa\",\"#FFA15A\",\"#19d3f3\",\"#FF6692\",\"#B6E880\",\"#FF97FF\",\"#FECB52\"],\"font\":{\"color\":\"#2a3f5f\"},\"hovermode\":\"closest\",\"hoverlabel\":{\"align\":\"left\"},\"paper_bgcolor\":\"white\",\"plot_bgcolor\":\"#E5ECF6\",\"polar\":{\"bgcolor\":\"#E5ECF6\",\"angularaxis\":{\"gridcolor\":\"white\",\"linecolor\":\"white\",\"ticks\":\"\"},\"radialaxis\":{\"gridcolor\":\"white\",\"linecolor\":\"white\",\"ticks\":\"\"}},\"ternary\":{\"bgcolor\":\"#E5ECF6\",\"aaxis\":{\"gridcolor\":\"white\",\"linecolor\":\"white\",\"ticks\":\"\"},\"baxis\":{\"gridcolor\":\"white\",\"linecolor\":\"white\",\"ticks\":\"\"},\"caxis\":{\"gridcolor\":\"white\",\"linecolor\":\"white\",\"ticks\":\"\"}},\"coloraxis\":{\"colorbar\":{\"outlinewidth\":0,\"ticks\":\"\"}},\"colorscale\":{\"sequential\":[[0.0,\"#0d0887\"],[0.1111111111111111,\"#46039f\"],[0.2222222222222222,\"#7201a8\"],[0.3333333333333333,\"#9c179e\"],[0.4444444444444444,\"#bd3786\"],[0.5555555555555556,\"#d8576b\"],[0.6666666666666666,\"#ed7953\"],[0.7777777777777778,\"#fb9f3a\"],[0.8888888888888888,\"#fdca26\"],[1.0,\"#f0f921\"]],\"sequentialminus\":[[0.0,\"#0d0887\"],[0.1111111111111111,\"#46039f\"],[0.2222222222222222,\"#7201a8\"],[0.3333333333333333,\"#9c179e\"],[0.4444444444444444,\"#bd3786\"],[0.5555555555555556,\"#d8576b\"],[0.6666666666666666,\"#ed7953\"],[0.7777777777777778,\"#fb9f3a\"],[0.8888888888888888,\"#fdca26\"],[1.0,\"#f0f921\"]],\"diverging\":[[0,\"#8e0152\"],[0.1,\"#c51b7d\"],[0.2,\"#de77ae\"],[0.3,\"#f1b6da\"],[0.4,\"#fde0ef\"],[0.5,\"#f7f7f7\"],[0.6,\"#e6f5d0\"],[0.7,\"#b8e186\"],[0.8,\"#7fbc41\"],[0.9,\"#4d9221\"],[1,\"#276419\"]]},\"xaxis\":{\"gridcolor\":\"white\",\"linecolor\":\"white\",\"ticks\":\"\",\"title\":{\"standoff\":15},\"zerolinecolor\":\"white\",\"automargin\":true,\"zerolinewidth\":2},\"yaxis\":{\"gridcolor\":\"white\",\"linecolor\":\"white\",\"ticks\":\"\",\"title\":{\"standoff\":15},\"zerolinecolor\":\"white\",\"automargin\":true,\"zerolinewidth\":2},\"scene\":{\"xaxis\":{\"backgroundcolor\":\"#E5ECF6\",\"gridcolor\":\"white\",\"linecolor\":\"white\",\"showbackground\":true,\"ticks\":\"\",\"zerolinecolor\":\"white\",\"gridwidth\":2},\"yaxis\":{\"backgroundcolor\":\"#E5ECF6\",\"gridcolor\":\"white\",\"linecolor\":\"white\",\"showbackground\":true,\"ticks\":\"\",\"zerolinecolor\":\"white\",\"gridwidth\":2},\"zaxis\":{\"backgroundcolor\":\"#E5ECF6\",\"gridcolor\":\"white\",\"linecolor\":\"white\",\"showbackground\":true,\"ticks\":\"\",\"zerolinecolor\":\"white\",\"gridwidth\":2}},\"shapedefaults\":{\"line\":{\"color\":\"#2a3f5f\"}},\"annotationdefaults\":{\"arrowcolor\":\"#2a3f5f\",\"arrowhead\":0,\"arrowwidth\":1},\"geo\":{\"bgcolor\":\"white\",\"landcolor\":\"#E5ECF6\",\"subunitcolor\":\"white\",\"showland\":true,\"showlakes\":true,\"lakecolor\":\"white\"},\"title\":{\"x\":0.05},\"mapbox\":{\"style\":\"light\"}}},\"xaxis\":{\"anchor\":\"y\",\"domain\":[0.0,1.0],\"title\":{\"text\":\"Date\"},\"gridcolor\":\"#878787\"},\"yaxis\":{\"anchor\":\"x\",\"domain\":[0.0,1.0],\"title\":{},\"tickmode\":\"linear\",\"tick0\":1,\"dtick\":1,\"gridcolor\":\"#878787\"},\"legend\":{\"tracegroupgap\":0},\"title\":{\"text\":\"Publication Output (Monthly)\"},\"font\":{\"family\":\"Josefin Sans, Arial\"},\"hoverlabel\":{\"font\":{\"family\":\"Josefin Sans, Arial\",\"color\":\"#FFFFFF\"},\"bgcolor\":\"#222222\"},\"plot_bgcolor\":\"#333333\",\"showlegend\":false},                        {\"responsive\": true}                    ).then(function(){\n",
       "                            \n",
       "var gd = document.getElementById('326a989b-17fc-4963-8164-ae974eb52623');\n",
       "var x = new MutationObserver(function (mutations, observer) {{\n",
       "        var display = window.getComputedStyle(gd).display;\n",
       "        if (!display || display === 'none') {{\n",
       "            console.log([gd, 'removed!']);\n",
       "            Plotly.purge(gd);\n",
       "            observer.disconnect();\n",
       "        }}\n",
       "}});\n",
       "\n",
       "// Listen for the removal of the full notebook cells\n",
       "var notebookContainer = gd.closest('#notebook-container');\n",
       "if (notebookContainer) {{\n",
       "    x.observe(notebookContainer, {childList: true});\n",
       "}}\n",
       "\n",
       "// Listen for the clearing of the current output cell\n",
       "var outputEl = gd.closest('.output');\n",
       "if (outputEl) {{\n",
       "    x.observe(outputEl, {childList: true});\n",
       "}}\n",
       "\n",
       "                        })                };                });            </script>        </div>"
      ]
     },
     "metadata": {},
     "output_type": "display_data"
    }
   ],
   "source": [
    "fig.show()"
   ]
  },
  {
   "cell_type": "markdown",
   "id": "d348858f-d3a1-4bd1-9f76-a4d42f5e7fa6",
   "metadata": {},
   "source": [
    "## Co-author Frequency"
   ]
  },
  {
   "cell_type": "code",
   "execution_count": null,
   "id": "d370f439-bf86-4bdf-aaa3-9244064cb1bb",
   "metadata": {},
   "outputs": [],
   "source": [
    "#|export\n",
    "author_lists = [ast.literal_eval(sublist) for sublist in org_pubs['authors'] if isinstance(ast.literal_eval(sublist), list)]"
   ]
  },
  {
   "cell_type": "code",
   "execution_count": null,
   "id": "542f572e-1b05-46cb-8be6-a8b4025b0838",
   "metadata": {},
   "outputs": [],
   "source": [
    "#|export\n",
    "if author_lists:\n",
    "    G = nx.Graph()\n",
    "\n",
    "    if not author_lists:\n",
    "        print(\"author_lists is empty.\")\n",
    "    else:\n",
    "        for sublist in author_lists:\n",
    "            for pair in itertools.combinations(sublist, 2):\n",
    "                if G.has_edge(*pair):\n",
    "                    G[pair[0]][pair[1]]['weight'] += 1\n",
    "                else:\n",
    "                    G.add_edge(pair[0], pair[1], weight=1)\n",
    "    if len(G.nodes) == 0 or len(G.edges) == 0:\n",
    "        print(\"No nodes or edges in the graph.\")\n",
    "    else:\n",
    "        largest_cc = max(nx.connected_components(G), key=len)\n",
    "        subgraph = G.subgraph(largest_cc)\n",
    "        pos = nx.spring_layout(G)\n",
    "        nx.set_node_attributes(G, pos, 'pos')\n",
    "        central_node = max(G.nodes, key=lambda n: G.degree(n))\n",
    "        central_pos = G.nodes[central_node]['pos']\n",
    "        zoom_range = 0.2  # Adjust the value as needed for the desired zoom level\n",
    "        x_range = [central_pos[0] - zoom_range, central_pos[0] + zoom_range]\n",
    "        y_range = [central_pos[1] - zoom_range, central_pos[1] + zoom_range]\n",
    "        edge_traces = []\n",
    "        for edge in G.edges():\n",
    "            x0, y0 = G.nodes[edge[0]]['pos']\n",
    "            x1, y1 = G.nodes[edge[1]]['pos']\n",
    "            weight = G[edge[0]][edge[1]]['weight']\n",
    "            # weight_text = f\"Collaborations: {weight}\"\n",
    "\n",
    "            edge_trace = go.Scatter(\n",
    "                x=[x0, x1, None], y=[y0, y1, None],\n",
    "                line=dict(width=0.5*weight, color='#888'),\n",
    "                # hoverinfo='text', text=weight_text, mode='lines')\n",
    "                hoverinfo='none', mode='lines')  \n",
    "            edge_traces.append(edge_trace)\n",
    "        x_vals, y_vals, texts, colors = [], [], [], []\n",
    "        for node in G.nodes():\n",
    "            x, y = G.nodes[node]['pos']\n",
    "            x_vals.append(x)\n",
    "            y_vals.append(y)\n",
    "            total_weight = sum(data['weight'] for _, _, data in G.edges(node, data=True))\n",
    "            texts.append(f'{node}<br>Collaborations: {total_weight}')\n",
    "            colors.append(total_weight)\n",
    "        node_trace = go.Scatter(\n",
    "            x=x_vals, y=y_vals, text=texts, mode='markers', hoverinfo='text',\n",
    "            marker=dict(\n",
    "                showscale=True, colorscale='YlOrRd', size=10, color=colors,\n",
    "                colorbar=dict(thickness=15, title='Collaborations', \n",
    "                              xanchor='left', titleside='right'),\n",
    "                line=dict(width=0.1)),\n",
    "                hoverlabel=dict(font=dict(family=\"Josefin Sans, Arial\")))\n",
    "        layout = go.Layout(\n",
    "            # title='<br>Network graph made with Python',\n",
    "            titlefont_size=16, showlegend=False, hovermode='closest',\n",
    "            margin=dict(b=20, l=5, r=5, t=40),\n",
    "            font=dict(family=\"Josefin Sans, Arial\"),\n",
    "            plot_bgcolor='#333333',\n",
    "            xaxis=dict(range=x_range, showgrid=False, zeroline=False, showticklabels=False),\n",
    "            yaxis=dict(range=y_range, showgrid=False, zeroline=False, showticklabels=False))\n",
    "        fig = go.Figure(data=edge_traces + [node_trace], layout=layout)"
   ]
  },
  {
   "cell_type": "code",
   "execution_count": null,
   "id": "7c0df10d-fdc1-455e-9d08-0cbd3a658540",
   "metadata": {},
   "outputs": [
    {
     "data": {
      "application/vnd.plotly.v1+json": {
       "config": {
        "plotlyServerURL": "https://plot.ly"
       },
       "data": [
        {
         "hoverinfo": "none",
         "line": {
          "color": "#888",
          "width": 0.5
         },
         "mode": "lines",
         "type": "scatter",
         "x": [
          0.19452194365374365,
          0.13330178629256964,
          null
         ],
         "y": [
          0.059111390713302445,
          -0.02747595974269195,
          null
         ]
        },
        {
         "hoverinfo": "none",
         "line": {
          "color": "#888",
          "width": 0.5
         },
         "mode": "lines",
         "type": "scatter",
         "x": [
          0.19452194365374365,
          0.14408337555228576,
          null
         ],
         "y": [
          0.059111390713302445,
          0.09454456022520061,
          null
         ]
        },
        {
         "hoverinfo": "none",
         "line": {
          "color": "#888",
          "width": 0.5
         },
         "mode": "lines",
         "type": "scatter",
         "x": [
          0.19452194365374365,
          0.18969856581630512,
          null
         ],
         "y": [
          0.059111390713302445,
          -0.002156996979059521,
          null
         ]
        },
        {
         "hoverinfo": "none",
         "line": {
          "color": "#888",
          "width": 0.5
         },
         "mode": "lines",
         "type": "scatter",
         "x": [
          0.19452194365374365,
          0.09014980844772891,
          null
         ],
         "y": [
          0.059111390713302445,
          0.06802247060174055,
          null
         ]
        },
        {
         "hoverinfo": "none",
         "line": {
          "color": "#888",
          "width": 0.5
         },
         "mode": "lines",
         "type": "scatter",
         "x": [
          0.19452194365374365,
          0.08244124678538524,
          null
         ],
         "y": [
          0.059111390713302445,
          0.00688117746914867,
          null
         ]
        },
        {
         "hoverinfo": "none",
         "line": {
          "color": "#888",
          "width": 0.5
         },
         "mode": "lines",
         "type": "scatter",
         "x": [
          0.13330178629256964,
          0.14408337555228576,
          null
         ],
         "y": [
          -0.02747595974269195,
          0.09454456022520061,
          null
         ]
        },
        {
         "hoverinfo": "none",
         "line": {
          "color": "#888",
          "width": 0.5
         },
         "mode": "lines",
         "type": "scatter",
         "x": [
          0.13330178629256964,
          0.18969856581630512,
          null
         ],
         "y": [
          -0.02747595974269195,
          -0.002156996979059521,
          null
         ]
        },
        {
         "hoverinfo": "none",
         "line": {
          "color": "#888",
          "width": 0.5
         },
         "mode": "lines",
         "type": "scatter",
         "x": [
          0.13330178629256964,
          0.09014980844772891,
          null
         ],
         "y": [
          -0.02747595974269195,
          0.06802247060174055,
          null
         ]
        },
        {
         "hoverinfo": "none",
         "line": {
          "color": "#888",
          "width": 0.5
         },
         "mode": "lines",
         "type": "scatter",
         "x": [
          0.13330178629256964,
          0.08244124678538524,
          null
         ],
         "y": [
          -0.02747595974269195,
          0.00688117746914867,
          null
         ]
        },
        {
         "hoverinfo": "none",
         "line": {
          "color": "#888",
          "width": 0.5
         },
         "mode": "lines",
         "type": "scatter",
         "x": [
          0.14408337555228576,
          0.18969856581630512,
          null
         ],
         "y": [
          0.09454456022520061,
          -0.002156996979059521,
          null
         ]
        },
        {
         "hoverinfo": "none",
         "line": {
          "color": "#888",
          "width": 0.5
         },
         "mode": "lines",
         "type": "scatter",
         "x": [
          0.14408337555228576,
          0.09014980844772891,
          null
         ],
         "y": [
          0.09454456022520061,
          0.06802247060174055,
          null
         ]
        },
        {
         "hoverinfo": "none",
         "line": {
          "color": "#888",
          "width": 0.5
         },
         "mode": "lines",
         "type": "scatter",
         "x": [
          0.14408337555228576,
          0.08244124678538524,
          null
         ],
         "y": [
          0.09454456022520061,
          0.00688117746914867,
          null
         ]
        },
        {
         "hoverinfo": "none",
         "line": {
          "color": "#888",
          "width": 0.5
         },
         "mode": "lines",
         "type": "scatter",
         "x": [
          0.18969856581630512,
          0.09014980844772891,
          null
         ],
         "y": [
          -0.002156996979059521,
          0.06802247060174055,
          null
         ]
        },
        {
         "hoverinfo": "none",
         "line": {
          "color": "#888",
          "width": 0.5
         },
         "mode": "lines",
         "type": "scatter",
         "x": [
          0.18969856581630512,
          0.08244124678538524,
          null
         ],
         "y": [
          -0.002156996979059521,
          0.00688117746914867,
          null
         ]
        },
        {
         "hoverinfo": "none",
         "line": {
          "color": "#888",
          "width": 0.5
         },
         "mode": "lines",
         "type": "scatter",
         "x": [
          0.09014980844772891,
          0.08244124678538524,
          null
         ],
         "y": [
          0.06802247060174055,
          0.00688117746914867,
          null
         ]
        },
        {
         "hoverinfo": "none",
         "line": {
          "color": "#888",
          "width": 1
         },
         "mode": "lines",
         "type": "scatter",
         "x": [
          1,
          0.921506222088627,
          null
         ],
         "y": [
          -0.44230160653871003,
          -0.40612018851365034,
          null
         ]
        },
        {
         "hoverinfo": "none",
         "line": {
          "color": "#888",
          "width": 0.5
         },
         "mode": "lines",
         "type": "scatter",
         "x": [
          -0.5828102654493655,
          -0.6101928581456131,
          null
         ],
         "y": [
          -0.6991687906336871,
          -0.6058533979764249,
          null
         ]
        },
        {
         "hoverinfo": "none",
         "line": {
          "color": "#888",
          "width": 0.5
         },
         "mode": "lines",
         "type": "scatter",
         "x": [
          -0.5828102654493655,
          -0.6826781824734512,
          null
         ],
         "y": [
          -0.6991687906336871,
          -0.6928067345971889,
          null
         ]
        },
        {
         "hoverinfo": "none",
         "line": {
          "color": "#888",
          "width": 0.5
         },
         "mode": "lines",
         "type": "scatter",
         "x": [
          -0.6101928581456131,
          -0.6826781824734512,
          null
         ],
         "y": [
          -0.6058533979764249,
          -0.6928067345971889,
          null
         ]
        },
        {
         "hoverinfo": "none",
         "line": {
          "color": "#888",
          "width": 0.5
         },
         "mode": "lines",
         "type": "scatter",
         "x": [
          -0.30830851162480005,
          -0.33023167186237024,
          null
         ],
         "y": [
          0.8421814978234512,
          0.9201573204040835,
          null
         ]
        },
        {
         "hoverinfo": "none",
         "line": {
          "color": "#888",
          "width": 1
         },
         "mode": "lines",
         "type": "scatter",
         "x": [
          -0.30830851162480005,
          -0.24148145908104504,
          null
         ],
         "y": [
          0.8421814978234512,
          0.8849852577444857,
          null
         ]
        },
        {
         "hoverinfo": "none",
         "line": {
          "color": "#888",
          "width": 0.5
         },
         "mode": "lines",
         "type": "scatter",
         "x": [
          -0.33023167186237024,
          -0.24148145908104504,
          null
         ],
         "y": [
          0.9201573204040835,
          0.8849852577444857,
          null
         ]
        },
        {
         "hoverinfo": "text",
         "hoverlabel": {
          "font": {
           "family": "Josefin Sans, Arial"
          }
         },
         "marker": {
          "color": [
           5,
           5,
           5,
           5,
           5,
           5,
           2,
           2,
           2,
           2,
           2,
           3,
           2,
           3
          ],
          "colorbar": {
           "thickness": 15,
           "title": {
            "side": "right",
            "text": "Collaborations"
           },
           "xanchor": "left"
          },
          "colorscale": [
           [
            0,
            "rgb(255,255,204)"
           ],
           [
            0.125,
            "rgb(255,237,160)"
           ],
           [
            0.25,
            "rgb(254,217,118)"
           ],
           [
            0.375,
            "rgb(254,178,76)"
           ],
           [
            0.5,
            "rgb(253,141,60)"
           ],
           [
            0.625,
            "rgb(252,78,42)"
           ],
           [
            0.75,
            "rgb(227,26,28)"
           ],
           [
            0.875,
            "rgb(189,0,38)"
           ],
           [
            1,
            "rgb(128,0,38)"
           ]
          ],
          "line": {
           "width": 0.1
          },
          "showscale": true,
          "size": 10
         },
         "mode": "markers",
         "text": [
          "Ivor Roberts<br>Collaborations: 5",
          "Robert Wade<br>Collaborations: 5",
          "Julie Newton<br>Collaborations: 5",
          "Zhao Hai<br>Collaborations: 5",
          "Adebayo Olukoshi<br>Collaborations: 5",
          "Praveen Donthi<br>Collaborations: 5",
          "Richard Clary<br>Collaborations: 2",
          "DJ Galligan<br>Collaborations: 2",
          "Robin Mansell<br>Collaborations: 2",
          "Milton Mueller<br>Collaborations: 2",
          "Thomas Li<br>Collaborations: 2",
          "Jufang Wang<br>Collaborations: 3",
          "Zichen Jess Hu<br>Collaborations: 2",
          "Denis Galligan<br>Collaborations: 3"
         ],
         "type": "scatter",
         "x": [
          0.19452194365374365,
          0.13330178629256964,
          0.14408337555228576,
          0.18969856581630512,
          0.09014980844772891,
          0.08244124678538524,
          1,
          0.921506222088627,
          -0.5828102654493655,
          -0.6101928581456131,
          -0.6826781824734512,
          -0.30830851162480005,
          -0.33023167186237024,
          -0.24148145908104504
         ],
         "y": [
          0.059111390713302445,
          -0.02747595974269195,
          0.09454456022520061,
          -0.002156996979059521,
          0.06802247060174055,
          0.00688117746914867,
          -0.44230160653871003,
          -0.40612018851365034,
          -0.6991687906336871,
          -0.6058533979764249,
          -0.6928067345971889,
          0.8421814978234512,
          0.9201573204040835,
          0.8849852577444857
         ]
        }
       ],
       "layout": {
        "autosize": true,
        "font": {
         "family": "Josefin Sans, Arial"
        },
        "hovermode": "closest",
        "margin": {
         "b": 20,
         "l": 5,
         "r": 5,
         "t": 40
        },
        "plot_bgcolor": "#333333",
        "showlegend": false,
        "template": {
         "data": {
          "bar": [
           {
            "error_x": {
             "color": "#2a3f5f"
            },
            "error_y": {
             "color": "#2a3f5f"
            },
            "marker": {
             "line": {
              "color": "#E5ECF6",
              "width": 0.5
             },
             "pattern": {
              "fillmode": "overlay",
              "size": 10,
              "solidity": 0.2
             }
            },
            "type": "bar"
           }
          ],
          "barpolar": [
           {
            "marker": {
             "line": {
              "color": "#E5ECF6",
              "width": 0.5
             },
             "pattern": {
              "fillmode": "overlay",
              "size": 10,
              "solidity": 0.2
             }
            },
            "type": "barpolar"
           }
          ],
          "carpet": [
           {
            "aaxis": {
             "endlinecolor": "#2a3f5f",
             "gridcolor": "white",
             "linecolor": "white",
             "minorgridcolor": "white",
             "startlinecolor": "#2a3f5f"
            },
            "baxis": {
             "endlinecolor": "#2a3f5f",
             "gridcolor": "white",
             "linecolor": "white",
             "minorgridcolor": "white",
             "startlinecolor": "#2a3f5f"
            },
            "type": "carpet"
           }
          ],
          "choropleth": [
           {
            "colorbar": {
             "outlinewidth": 0,
             "ticks": ""
            },
            "type": "choropleth"
           }
          ],
          "contour": [
           {
            "colorbar": {
             "outlinewidth": 0,
             "ticks": ""
            },
            "colorscale": [
             [
              0,
              "#0d0887"
             ],
             [
              0.1111111111111111,
              "#46039f"
             ],
             [
              0.2222222222222222,
              "#7201a8"
             ],
             [
              0.3333333333333333,
              "#9c179e"
             ],
             [
              0.4444444444444444,
              "#bd3786"
             ],
             [
              0.5555555555555556,
              "#d8576b"
             ],
             [
              0.6666666666666666,
              "#ed7953"
             ],
             [
              0.7777777777777778,
              "#fb9f3a"
             ],
             [
              0.8888888888888888,
              "#fdca26"
             ],
             [
              1,
              "#f0f921"
             ]
            ],
            "type": "contour"
           }
          ],
          "contourcarpet": [
           {
            "colorbar": {
             "outlinewidth": 0,
             "ticks": ""
            },
            "type": "contourcarpet"
           }
          ],
          "heatmap": [
           {
            "colorbar": {
             "outlinewidth": 0,
             "ticks": ""
            },
            "colorscale": [
             [
              0,
              "#0d0887"
             ],
             [
              0.1111111111111111,
              "#46039f"
             ],
             [
              0.2222222222222222,
              "#7201a8"
             ],
             [
              0.3333333333333333,
              "#9c179e"
             ],
             [
              0.4444444444444444,
              "#bd3786"
             ],
             [
              0.5555555555555556,
              "#d8576b"
             ],
             [
              0.6666666666666666,
              "#ed7953"
             ],
             [
              0.7777777777777778,
              "#fb9f3a"
             ],
             [
              0.8888888888888888,
              "#fdca26"
             ],
             [
              1,
              "#f0f921"
             ]
            ],
            "type": "heatmap"
           }
          ],
          "heatmapgl": [
           {
            "colorbar": {
             "outlinewidth": 0,
             "ticks": ""
            },
            "colorscale": [
             [
              0,
              "#0d0887"
             ],
             [
              0.1111111111111111,
              "#46039f"
             ],
             [
              0.2222222222222222,
              "#7201a8"
             ],
             [
              0.3333333333333333,
              "#9c179e"
             ],
             [
              0.4444444444444444,
              "#bd3786"
             ],
             [
              0.5555555555555556,
              "#d8576b"
             ],
             [
              0.6666666666666666,
              "#ed7953"
             ],
             [
              0.7777777777777778,
              "#fb9f3a"
             ],
             [
              0.8888888888888888,
              "#fdca26"
             ],
             [
              1,
              "#f0f921"
             ]
            ],
            "type": "heatmapgl"
           }
          ],
          "histogram": [
           {
            "marker": {
             "pattern": {
              "fillmode": "overlay",
              "size": 10,
              "solidity": 0.2
             }
            },
            "type": "histogram"
           }
          ],
          "histogram2d": [
           {
            "colorbar": {
             "outlinewidth": 0,
             "ticks": ""
            },
            "colorscale": [
             [
              0,
              "#0d0887"
             ],
             [
              0.1111111111111111,
              "#46039f"
             ],
             [
              0.2222222222222222,
              "#7201a8"
             ],
             [
              0.3333333333333333,
              "#9c179e"
             ],
             [
              0.4444444444444444,
              "#bd3786"
             ],
             [
              0.5555555555555556,
              "#d8576b"
             ],
             [
              0.6666666666666666,
              "#ed7953"
             ],
             [
              0.7777777777777778,
              "#fb9f3a"
             ],
             [
              0.8888888888888888,
              "#fdca26"
             ],
             [
              1,
              "#f0f921"
             ]
            ],
            "type": "histogram2d"
           }
          ],
          "histogram2dcontour": [
           {
            "colorbar": {
             "outlinewidth": 0,
             "ticks": ""
            },
            "colorscale": [
             [
              0,
              "#0d0887"
             ],
             [
              0.1111111111111111,
              "#46039f"
             ],
             [
              0.2222222222222222,
              "#7201a8"
             ],
             [
              0.3333333333333333,
              "#9c179e"
             ],
             [
              0.4444444444444444,
              "#bd3786"
             ],
             [
              0.5555555555555556,
              "#d8576b"
             ],
             [
              0.6666666666666666,
              "#ed7953"
             ],
             [
              0.7777777777777778,
              "#fb9f3a"
             ],
             [
              0.8888888888888888,
              "#fdca26"
             ],
             [
              1,
              "#f0f921"
             ]
            ],
            "type": "histogram2dcontour"
           }
          ],
          "mesh3d": [
           {
            "colorbar": {
             "outlinewidth": 0,
             "ticks": ""
            },
            "type": "mesh3d"
           }
          ],
          "parcoords": [
           {
            "line": {
             "colorbar": {
              "outlinewidth": 0,
              "ticks": ""
             }
            },
            "type": "parcoords"
           }
          ],
          "pie": [
           {
            "automargin": true,
            "type": "pie"
           }
          ],
          "scatter": [
           {
            "fillpattern": {
             "fillmode": "overlay",
             "size": 10,
             "solidity": 0.2
            },
            "type": "scatter"
           }
          ],
          "scatter3d": [
           {
            "line": {
             "colorbar": {
              "outlinewidth": 0,
              "ticks": ""
             }
            },
            "marker": {
             "colorbar": {
              "outlinewidth": 0,
              "ticks": ""
             }
            },
            "type": "scatter3d"
           }
          ],
          "scattercarpet": [
           {
            "marker": {
             "colorbar": {
              "outlinewidth": 0,
              "ticks": ""
             }
            },
            "type": "scattercarpet"
           }
          ],
          "scattergeo": [
           {
            "marker": {
             "colorbar": {
              "outlinewidth": 0,
              "ticks": ""
             }
            },
            "type": "scattergeo"
           }
          ],
          "scattergl": [
           {
            "marker": {
             "colorbar": {
              "outlinewidth": 0,
              "ticks": ""
             }
            },
            "type": "scattergl"
           }
          ],
          "scattermapbox": [
           {
            "marker": {
             "colorbar": {
              "outlinewidth": 0,
              "ticks": ""
             }
            },
            "type": "scattermapbox"
           }
          ],
          "scatterpolar": [
           {
            "marker": {
             "colorbar": {
              "outlinewidth": 0,
              "ticks": ""
             }
            },
            "type": "scatterpolar"
           }
          ],
          "scatterpolargl": [
           {
            "marker": {
             "colorbar": {
              "outlinewidth": 0,
              "ticks": ""
             }
            },
            "type": "scatterpolargl"
           }
          ],
          "scatterternary": [
           {
            "marker": {
             "colorbar": {
              "outlinewidth": 0,
              "ticks": ""
             }
            },
            "type": "scatterternary"
           }
          ],
          "surface": [
           {
            "colorbar": {
             "outlinewidth": 0,
             "ticks": ""
            },
            "colorscale": [
             [
              0,
              "#0d0887"
             ],
             [
              0.1111111111111111,
              "#46039f"
             ],
             [
              0.2222222222222222,
              "#7201a8"
             ],
             [
              0.3333333333333333,
              "#9c179e"
             ],
             [
              0.4444444444444444,
              "#bd3786"
             ],
             [
              0.5555555555555556,
              "#d8576b"
             ],
             [
              0.6666666666666666,
              "#ed7953"
             ],
             [
              0.7777777777777778,
              "#fb9f3a"
             ],
             [
              0.8888888888888888,
              "#fdca26"
             ],
             [
              1,
              "#f0f921"
             ]
            ],
            "type": "surface"
           }
          ],
          "table": [
           {
            "cells": {
             "fill": {
              "color": "#EBF0F8"
             },
             "line": {
              "color": "white"
             }
            },
            "header": {
             "fill": {
              "color": "#C8D4E3"
             },
             "line": {
              "color": "white"
             }
            },
            "type": "table"
           }
          ]
         },
         "layout": {
          "annotationdefaults": {
           "arrowcolor": "#2a3f5f",
           "arrowhead": 0,
           "arrowwidth": 1
          },
          "autotypenumbers": "strict",
          "coloraxis": {
           "colorbar": {
            "outlinewidth": 0,
            "ticks": ""
           }
          },
          "colorscale": {
           "diverging": [
            [
             0,
             "#8e0152"
            ],
            [
             0.1,
             "#c51b7d"
            ],
            [
             0.2,
             "#de77ae"
            ],
            [
             0.3,
             "#f1b6da"
            ],
            [
             0.4,
             "#fde0ef"
            ],
            [
             0.5,
             "#f7f7f7"
            ],
            [
             0.6,
             "#e6f5d0"
            ],
            [
             0.7,
             "#b8e186"
            ],
            [
             0.8,
             "#7fbc41"
            ],
            [
             0.9,
             "#4d9221"
            ],
            [
             1,
             "#276419"
            ]
           ],
           "sequential": [
            [
             0,
             "#0d0887"
            ],
            [
             0.1111111111111111,
             "#46039f"
            ],
            [
             0.2222222222222222,
             "#7201a8"
            ],
            [
             0.3333333333333333,
             "#9c179e"
            ],
            [
             0.4444444444444444,
             "#bd3786"
            ],
            [
             0.5555555555555556,
             "#d8576b"
            ],
            [
             0.6666666666666666,
             "#ed7953"
            ],
            [
             0.7777777777777778,
             "#fb9f3a"
            ],
            [
             0.8888888888888888,
             "#fdca26"
            ],
            [
             1,
             "#f0f921"
            ]
           ],
           "sequentialminus": [
            [
             0,
             "#0d0887"
            ],
            [
             0.1111111111111111,
             "#46039f"
            ],
            [
             0.2222222222222222,
             "#7201a8"
            ],
            [
             0.3333333333333333,
             "#9c179e"
            ],
            [
             0.4444444444444444,
             "#bd3786"
            ],
            [
             0.5555555555555556,
             "#d8576b"
            ],
            [
             0.6666666666666666,
             "#ed7953"
            ],
            [
             0.7777777777777778,
             "#fb9f3a"
            ],
            [
             0.8888888888888888,
             "#fdca26"
            ],
            [
             1,
             "#f0f921"
            ]
           ]
          },
          "colorway": [
           "#636efa",
           "#EF553B",
           "#00cc96",
           "#ab63fa",
           "#FFA15A",
           "#19d3f3",
           "#FF6692",
           "#B6E880",
           "#FF97FF",
           "#FECB52"
          ],
          "font": {
           "color": "#2a3f5f"
          },
          "geo": {
           "bgcolor": "white",
           "lakecolor": "white",
           "landcolor": "#E5ECF6",
           "showlakes": true,
           "showland": true,
           "subunitcolor": "white"
          },
          "hoverlabel": {
           "align": "left"
          },
          "hovermode": "closest",
          "mapbox": {
           "style": "light"
          },
          "paper_bgcolor": "white",
          "plot_bgcolor": "#E5ECF6",
          "polar": {
           "angularaxis": {
            "gridcolor": "white",
            "linecolor": "white",
            "ticks": ""
           },
           "bgcolor": "#E5ECF6",
           "radialaxis": {
            "gridcolor": "white",
            "linecolor": "white",
            "ticks": ""
           }
          },
          "scene": {
           "xaxis": {
            "backgroundcolor": "#E5ECF6",
            "gridcolor": "white",
            "gridwidth": 2,
            "linecolor": "white",
            "showbackground": true,
            "ticks": "",
            "zerolinecolor": "white"
           },
           "yaxis": {
            "backgroundcolor": "#E5ECF6",
            "gridcolor": "white",
            "gridwidth": 2,
            "linecolor": "white",
            "showbackground": true,
            "ticks": "",
            "zerolinecolor": "white"
           },
           "zaxis": {
            "backgroundcolor": "#E5ECF6",
            "gridcolor": "white",
            "gridwidth": 2,
            "linecolor": "white",
            "showbackground": true,
            "ticks": "",
            "zerolinecolor": "white"
           }
          },
          "shapedefaults": {
           "line": {
            "color": "#2a3f5f"
           }
          },
          "ternary": {
           "aaxis": {
            "gridcolor": "white",
            "linecolor": "white",
            "ticks": ""
           },
           "baxis": {
            "gridcolor": "white",
            "linecolor": "white",
            "ticks": ""
           },
           "bgcolor": "#E5ECF6",
           "caxis": {
            "gridcolor": "white",
            "linecolor": "white",
            "ticks": ""
           }
          },
          "title": {
           "x": 0.05
          },
          "xaxis": {
           "automargin": true,
           "gridcolor": "white",
           "linecolor": "white",
           "ticks": "",
           "title": {
            "standoff": 15
           },
           "zerolinecolor": "white",
           "zerolinewidth": 2
          },
          "yaxis": {
           "automargin": true,
           "gridcolor": "white",
           "linecolor": "white",
           "ticks": "",
           "title": {
            "standoff": 15
           },
           "zerolinecolor": "white",
           "zerolinewidth": 2
          }
         }
        },
        "title": {
         "font": {
          "size": 16
         }
        },
        "xaxis": {
         "range": [
          -0.005478056346256366,
          0.39452194365374366
         ],
         "showgrid": false,
         "showticklabels": false,
         "type": "linear",
         "zeroline": false
        },
        "yaxis": {
         "range": [
          -0.14088860928669755,
          0.25911139071330247
         ],
         "showgrid": false,
         "showticklabels": false,
         "type": "linear",
         "zeroline": false
        }
       }
      },
      "image/png": "[encoded data removed]",
      "text/html": [
       "<div>                            <div id=\"d7f38c74-4857-41af-8b3c-e301b0a0764b\" class=\"plotly-graph-div\" style=\"height:525px; width:100%;\"></div>            <script type=\"text/javascript\">                require([\"plotly\"], function(Plotly) {                    window.PLOTLYENV=window.PLOTLYENV || {};                                    if (document.getElementById(\"d7f38c74-4857-41af-8b3c-e301b0a0764b\")) {                    Plotly.newPlot(                        \"d7f38c74-4857-41af-8b3c-e301b0a0764b\",                        [{\"hoverinfo\":\"none\",\"line\":{\"color\":\"#888\",\"width\":0.5},\"mode\":\"lines\",\"x\":[0.19452194365374365,0.13330178629256964,null],\"y\":[0.059111390713302445,-0.02747595974269195,null],\"type\":\"scatter\"},{\"hoverinfo\":\"none\",\"line\":{\"color\":\"#888\",\"width\":0.5},\"mode\":\"lines\",\"x\":[0.19452194365374365,0.14408337555228576,null],\"y\":[0.059111390713302445,0.09454456022520061,null],\"type\":\"scatter\"},{\"hoverinfo\":\"none\",\"line\":{\"color\":\"#888\",\"width\":0.5},\"mode\":\"lines\",\"x\":[0.19452194365374365,0.18969856581630512,null],\"y\":[0.059111390713302445,-0.002156996979059521,null],\"type\":\"scatter\"},{\"hoverinfo\":\"none\",\"line\":{\"color\":\"#888\",\"width\":0.5},\"mode\":\"lines\",\"x\":[0.19452194365374365,0.09014980844772891,null],\"y\":[0.059111390713302445,0.06802247060174055,null],\"type\":\"scatter\"},{\"hoverinfo\":\"none\",\"line\":{\"color\":\"#888\",\"width\":0.5},\"mode\":\"lines\",\"x\":[0.19452194365374365,0.08244124678538524,null],\"y\":[0.059111390713302445,0.00688117746914867,null],\"type\":\"scatter\"},{\"hoverinfo\":\"none\",\"line\":{\"color\":\"#888\",\"width\":0.5},\"mode\":\"lines\",\"x\":[0.13330178629256964,0.14408337555228576,null],\"y\":[-0.02747595974269195,0.09454456022520061,null],\"type\":\"scatter\"},{\"hoverinfo\":\"none\",\"line\":{\"color\":\"#888\",\"width\":0.5},\"mode\":\"lines\",\"x\":[0.13330178629256964,0.18969856581630512,null],\"y\":[-0.02747595974269195,-0.002156996979059521,null],\"type\":\"scatter\"},{\"hoverinfo\":\"none\",\"line\":{\"color\":\"#888\",\"width\":0.5},\"mode\":\"lines\",\"x\":[0.13330178629256964,0.09014980844772891,null],\"y\":[-0.02747595974269195,0.06802247060174055,null],\"type\":\"scatter\"},{\"hoverinfo\":\"none\",\"line\":{\"color\":\"#888\",\"width\":0.5},\"mode\":\"lines\",\"x\":[0.13330178629256964,0.08244124678538524,null],\"y\":[-0.02747595974269195,0.00688117746914867,null],\"type\":\"scatter\"},{\"hoverinfo\":\"none\",\"line\":{\"color\":\"#888\",\"width\":0.5},\"mode\":\"lines\",\"x\":[0.14408337555228576,0.18969856581630512,null],\"y\":[0.09454456022520061,-0.002156996979059521,null],\"type\":\"scatter\"},{\"hoverinfo\":\"none\",\"line\":{\"color\":\"#888\",\"width\":0.5},\"mode\":\"lines\",\"x\":[0.14408337555228576,0.09014980844772891,null],\"y\":[0.09454456022520061,0.06802247060174055,null],\"type\":\"scatter\"},{\"hoverinfo\":\"none\",\"line\":{\"color\":\"#888\",\"width\":0.5},\"mode\":\"lines\",\"x\":[0.14408337555228576,0.08244124678538524,null],\"y\":[0.09454456022520061,0.00688117746914867,null],\"type\":\"scatter\"},{\"hoverinfo\":\"none\",\"line\":{\"color\":\"#888\",\"width\":0.5},\"mode\":\"lines\",\"x\":[0.18969856581630512,0.09014980844772891,null],\"y\":[-0.002156996979059521,0.06802247060174055,null],\"type\":\"scatter\"},{\"hoverinfo\":\"none\",\"line\":{\"color\":\"#888\",\"width\":0.5},\"mode\":\"lines\",\"x\":[0.18969856581630512,0.08244124678538524,null],\"y\":[-0.002156996979059521,0.00688117746914867,null],\"type\":\"scatter\"},{\"hoverinfo\":\"none\",\"line\":{\"color\":\"#888\",\"width\":0.5},\"mode\":\"lines\",\"x\":[0.09014980844772891,0.08244124678538524,null],\"y\":[0.06802247060174055,0.00688117746914867,null],\"type\":\"scatter\"},{\"hoverinfo\":\"none\",\"line\":{\"color\":\"#888\",\"width\":1.0},\"mode\":\"lines\",\"x\":[1.0,0.921506222088627,null],\"y\":[-0.44230160653871003,-0.40612018851365034,null],\"type\":\"scatter\"},{\"hoverinfo\":\"none\",\"line\":{\"color\":\"#888\",\"width\":0.5},\"mode\":\"lines\",\"x\":[-0.5828102654493655,-0.6101928581456131,null],\"y\":[-0.6991687906336871,-0.6058533979764249,null],\"type\":\"scatter\"},{\"hoverinfo\":\"none\",\"line\":{\"color\":\"#888\",\"width\":0.5},\"mode\":\"lines\",\"x\":[-0.5828102654493655,-0.6826781824734512,null],\"y\":[-0.6991687906336871,-0.6928067345971889,null],\"type\":\"scatter\"},{\"hoverinfo\":\"none\",\"line\":{\"color\":\"#888\",\"width\":0.5},\"mode\":\"lines\",\"x\":[-0.6101928581456131,-0.6826781824734512,null],\"y\":[-0.6058533979764249,-0.6928067345971889,null],\"type\":\"scatter\"},{\"hoverinfo\":\"none\",\"line\":{\"color\":\"#888\",\"width\":0.5},\"mode\":\"lines\",\"x\":[-0.30830851162480005,-0.33023167186237024,null],\"y\":[0.8421814978234512,0.9201573204040835,null],\"type\":\"scatter\"},{\"hoverinfo\":\"none\",\"line\":{\"color\":\"#888\",\"width\":1.0},\"mode\":\"lines\",\"x\":[-0.30830851162480005,-0.24148145908104504,null],\"y\":[0.8421814978234512,0.8849852577444857,null],\"type\":\"scatter\"},{\"hoverinfo\":\"none\",\"line\":{\"color\":\"#888\",\"width\":0.5},\"mode\":\"lines\",\"x\":[-0.33023167186237024,-0.24148145908104504,null],\"y\":[0.9201573204040835,0.8849852577444857,null],\"type\":\"scatter\"},{\"hoverinfo\":\"text\",\"hoverlabel\":{\"font\":{\"family\":\"Josefin Sans, Arial\"}},\"marker\":{\"color\":[5,5,5,5,5,5,2,2,2,2,2,3,2,3],\"colorbar\":{\"thickness\":15,\"title\":{\"side\":\"right\",\"text\":\"Collaborations\"},\"xanchor\":\"left\"},\"colorscale\":[[0.0,\"rgb(255,255,204)\"],[0.125,\"rgb(255,237,160)\"],[0.25,\"rgb(254,217,118)\"],[0.375,\"rgb(254,178,76)\"],[0.5,\"rgb(253,141,60)\"],[0.625,\"rgb(252,78,42)\"],[0.75,\"rgb(227,26,28)\"],[0.875,\"rgb(189,0,38)\"],[1.0,\"rgb(128,0,38)\"]],\"line\":{\"width\":0.1},\"showscale\":true,\"size\":10},\"mode\":\"markers\",\"text\":[\"Ivor Roberts\\u003cbr\\u003eCollaborations: 5\",\"Robert Wade\\u003cbr\\u003eCollaborations: 5\",\"Julie Newton\\u003cbr\\u003eCollaborations: 5\",\"Zhao Hai\\u003cbr\\u003eCollaborations: 5\",\"Adebayo Olukoshi\\u003cbr\\u003eCollaborations: 5\",\"Praveen Donthi\\u003cbr\\u003eCollaborations: 5\",\"Richard Clary\\u003cbr\\u003eCollaborations: 2\",\"DJ Galligan\\u003cbr\\u003eCollaborations: 2\",\"Robin Mansell\\u003cbr\\u003eCollaborations: 2\",\"Milton Mueller\\u003cbr\\u003eCollaborations: 2\",\"Thomas Li\\u003cbr\\u003eCollaborations: 2\",\"Jufang Wang\\u003cbr\\u003eCollaborations: 3\",\"Zichen Jess Hu\\u003cbr\\u003eCollaborations: 2\",\"Denis Galligan\\u003cbr\\u003eCollaborations: 3\"],\"x\":[0.19452194365374365,0.13330178629256964,0.14408337555228576,0.18969856581630512,0.09014980844772891,0.08244124678538524,1.0,0.921506222088627,-0.5828102654493655,-0.6101928581456131,-0.6826781824734512,-0.30830851162480005,-0.33023167186237024,-0.24148145908104504],\"y\":[0.059111390713302445,-0.02747595974269195,0.09454456022520061,-0.002156996979059521,0.06802247060174055,0.00688117746914867,-0.44230160653871003,-0.40612018851365034,-0.6991687906336871,-0.6058533979764249,-0.6928067345971889,0.8421814978234512,0.9201573204040835,0.8849852577444857],\"type\":\"scatter\"}],                        {\"font\":{\"family\":\"Josefin Sans, Arial\"},\"hovermode\":\"closest\",\"margin\":{\"b\":20,\"l\":5,\"r\":5,\"t\":40},\"plot_bgcolor\":\"#333333\",\"showlegend\":false,\"title\":{\"font\":{\"size\":16}},\"xaxis\":{\"range\":[-0.005478056346256366,0.39452194365374366],\"showgrid\":false,\"showticklabels\":false,\"zeroline\":false},\"yaxis\":{\"range\":[-0.14088860928669755,0.25911139071330247],\"showgrid\":false,\"showticklabels\":false,\"zeroline\":false},\"template\":{\"data\":{\"histogram2dcontour\":[{\"type\":\"histogram2dcontour\",\"colorbar\":{\"outlinewidth\":0,\"ticks\":\"\"},\"colorscale\":[[0.0,\"#0d0887\"],[0.1111111111111111,\"#46039f\"],[0.2222222222222222,\"#7201a8\"],[0.3333333333333333,\"#9c179e\"],[0.4444444444444444,\"#bd3786\"],[0.5555555555555556,\"#d8576b\"],[0.6666666666666666,\"#ed7953\"],[0.7777777777777778,\"#fb9f3a\"],[0.8888888888888888,\"#fdca26\"],[1.0,\"#f0f921\"]]}],\"choropleth\":[{\"type\":\"choropleth\",\"colorbar\":{\"outlinewidth\":0,\"ticks\":\"\"}}],\"histogram2d\":[{\"type\":\"histogram2d\",\"colorbar\":{\"outlinewidth\":0,\"ticks\":\"\"},\"colorscale\":[[0.0,\"#0d0887\"],[0.1111111111111111,\"#46039f\"],[0.2222222222222222,\"#7201a8\"],[0.3333333333333333,\"#9c179e\"],[0.4444444444444444,\"#bd3786\"],[0.5555555555555556,\"#d8576b\"],[0.6666666666666666,\"#ed7953\"],[0.7777777777777778,\"#fb9f3a\"],[0.8888888888888888,\"#fdca26\"],[1.0,\"#f0f921\"]]}],\"heatmap\":[{\"type\":\"heatmap\",\"colorbar\":{\"outlinewidth\":0,\"ticks\":\"\"},\"colorscale\":[[0.0,\"#0d0887\"],[0.1111111111111111,\"#46039f\"],[0.2222222222222222,\"#7201a8\"],[0.3333333333333333,\"#9c179e\"],[0.4444444444444444,\"#bd3786\"],[0.5555555555555556,\"#d8576b\"],[0.6666666666666666,\"#ed7953\"],[0.7777777777777778,\"#fb9f3a\"],[0.8888888888888888,\"#fdca26\"],[1.0,\"#f0f921\"]]}],\"heatmapgl\":[{\"type\":\"heatmapgl\",\"colorbar\":{\"outlinewidth\":0,\"ticks\":\"\"},\"colorscale\":[[0.0,\"#0d0887\"],[0.1111111111111111,\"#46039f\"],[0.2222222222222222,\"#7201a8\"],[0.3333333333333333,\"#9c179e\"],[0.4444444444444444,\"#bd3786\"],[0.5555555555555556,\"#d8576b\"],[0.6666666666666666,\"#ed7953\"],[0.7777777777777778,\"#fb9f3a\"],[0.8888888888888888,\"#fdca26\"],[1.0,\"#f0f921\"]]}],\"contourcarpet\":[{\"type\":\"contourcarpet\",\"colorbar\":{\"outlinewidth\":0,\"ticks\":\"\"}}],\"contour\":[{\"type\":\"contour\",\"colorbar\":{\"outlinewidth\":0,\"ticks\":\"\"},\"colorscale\":[[0.0,\"#0d0887\"],[0.1111111111111111,\"#46039f\"],[0.2222222222222222,\"#7201a8\"],[0.3333333333333333,\"#9c179e\"],[0.4444444444444444,\"#bd3786\"],[0.5555555555555556,\"#d8576b\"],[0.6666666666666666,\"#ed7953\"],[0.7777777777777778,\"#fb9f3a\"],[0.8888888888888888,\"#fdca26\"],[1.0,\"#f0f921\"]]}],\"surface\":[{\"type\":\"surface\",\"colorbar\":{\"outlinewidth\":0,\"ticks\":\"\"},\"colorscale\":[[0.0,\"#0d0887\"],[0.1111111111111111,\"#46039f\"],[0.2222222222222222,\"#7201a8\"],[0.3333333333333333,\"#9c179e\"],[0.4444444444444444,\"#bd3786\"],[0.5555555555555556,\"#d8576b\"],[0.6666666666666666,\"#ed7953\"],[0.7777777777777778,\"#fb9f3a\"],[0.8888888888888888,\"#fdca26\"],[1.0,\"#f0f921\"]]}],\"mesh3d\":[{\"type\":\"mesh3d\",\"colorbar\":{\"outlinewidth\":0,\"ticks\":\"\"}}],\"scatter\":[{\"fillpattern\":{\"fillmode\":\"overlay\",\"size\":10,\"solidity\":0.2},\"type\":\"scatter\"}],\"parcoords\":[{\"type\":\"parcoords\",\"line\":{\"colorbar\":{\"outlinewidth\":0,\"ticks\":\"\"}}}],\"scatterpolargl\":[{\"type\":\"scatterpolargl\",\"marker\":{\"colorbar\":{\"outlinewidth\":0,\"ticks\":\"\"}}}],\"bar\":[{\"error_x\":{\"color\":\"#2a3f5f\"},\"error_y\":{\"color\":\"#2a3f5f\"},\"marker\":{\"line\":{\"color\":\"#E5ECF6\",\"width\":0.5},\"pattern\":{\"fillmode\":\"overlay\",\"size\":10,\"solidity\":0.2}},\"type\":\"bar\"}],\"scattergeo\":[{\"type\":\"scattergeo\",\"marker\":{\"colorbar\":{\"outlinewidth\":0,\"ticks\":\"\"}}}],\"scatterpolar\":[{\"type\":\"scatterpolar\",\"marker\":{\"colorbar\":{\"outlinewidth\":0,\"ticks\":\"\"}}}],\"histogram\":[{\"marker\":{\"pattern\":{\"fillmode\":\"overlay\",\"size\":10,\"solidity\":0.2}},\"type\":\"histogram\"}],\"scattergl\":[{\"type\":\"scattergl\",\"marker\":{\"colorbar\":{\"outlinewidth\":0,\"ticks\":\"\"}}}],\"scatter3d\":[{\"type\":\"scatter3d\",\"line\":{\"colorbar\":{\"outlinewidth\":0,\"ticks\":\"\"}},\"marker\":{\"colorbar\":{\"outlinewidth\":0,\"ticks\":\"\"}}}],\"scattermapbox\":[{\"type\":\"scattermapbox\",\"marker\":{\"colorbar\":{\"outlinewidth\":0,\"ticks\":\"\"}}}],\"scatterternary\":[{\"type\":\"scatterternary\",\"marker\":{\"colorbar\":{\"outlinewidth\":0,\"ticks\":\"\"}}}],\"scattercarpet\":[{\"type\":\"scattercarpet\",\"marker\":{\"colorbar\":{\"outlinewidth\":0,\"ticks\":\"\"}}}],\"carpet\":[{\"aaxis\":{\"endlinecolor\":\"#2a3f5f\",\"gridcolor\":\"white\",\"linecolor\":\"white\",\"minorgridcolor\":\"white\",\"startlinecolor\":\"#2a3f5f\"},\"baxis\":{\"endlinecolor\":\"#2a3f5f\",\"gridcolor\":\"white\",\"linecolor\":\"white\",\"minorgridcolor\":\"white\",\"startlinecolor\":\"#2a3f5f\"},\"type\":\"carpet\"}],\"table\":[{\"cells\":{\"fill\":{\"color\":\"#EBF0F8\"},\"line\":{\"color\":\"white\"}},\"header\":{\"fill\":{\"color\":\"#C8D4E3\"},\"line\":{\"color\":\"white\"}},\"type\":\"table\"}],\"barpolar\":[{\"marker\":{\"line\":{\"color\":\"#E5ECF6\",\"width\":0.5},\"pattern\":{\"fillmode\":\"overlay\",\"size\":10,\"solidity\":0.2}},\"type\":\"barpolar\"}],\"pie\":[{\"automargin\":true,\"type\":\"pie\"}]},\"layout\":{\"autotypenumbers\":\"strict\",\"colorway\":[\"#636efa\",\"#EF553B\",\"#00cc96\",\"#ab63fa\",\"#FFA15A\",\"#19d3f3\",\"#FF6692\",\"#B6E880\",\"#FF97FF\",\"#FECB52\"],\"font\":{\"color\":\"#2a3f5f\"},\"hovermode\":\"closest\",\"hoverlabel\":{\"align\":\"left\"},\"paper_bgcolor\":\"white\",\"plot_bgcolor\":\"#E5ECF6\",\"polar\":{\"bgcolor\":\"#E5ECF6\",\"angularaxis\":{\"gridcolor\":\"white\",\"linecolor\":\"white\",\"ticks\":\"\"},\"radialaxis\":{\"gridcolor\":\"white\",\"linecolor\":\"white\",\"ticks\":\"\"}},\"ternary\":{\"bgcolor\":\"#E5ECF6\",\"aaxis\":{\"gridcolor\":\"white\",\"linecolor\":\"white\",\"ticks\":\"\"},\"baxis\":{\"gridcolor\":\"white\",\"linecolor\":\"white\",\"ticks\":\"\"},\"caxis\":{\"gridcolor\":\"white\",\"linecolor\":\"white\",\"ticks\":\"\"}},\"coloraxis\":{\"colorbar\":{\"outlinewidth\":0,\"ticks\":\"\"}},\"colorscale\":{\"sequential\":[[0.0,\"#0d0887\"],[0.1111111111111111,\"#46039f\"],[0.2222222222222222,\"#7201a8\"],[0.3333333333333333,\"#9c179e\"],[0.4444444444444444,\"#bd3786\"],[0.5555555555555556,\"#d8576b\"],[0.6666666666666666,\"#ed7953\"],[0.7777777777777778,\"#fb9f3a\"],[0.8888888888888888,\"#fdca26\"],[1.0,\"#f0f921\"]],\"sequentialminus\":[[0.0,\"#0d0887\"],[0.1111111111111111,\"#46039f\"],[0.2222222222222222,\"#7201a8\"],[0.3333333333333333,\"#9c179e\"],[0.4444444444444444,\"#bd3786\"],[0.5555555555555556,\"#d8576b\"],[0.6666666666666666,\"#ed7953\"],[0.7777777777777778,\"#fb9f3a\"],[0.8888888888888888,\"#fdca26\"],[1.0,\"#f0f921\"]],\"diverging\":[[0,\"#8e0152\"],[0.1,\"#c51b7d\"],[0.2,\"#de77ae\"],[0.3,\"#f1b6da\"],[0.4,\"#fde0ef\"],[0.5,\"#f7f7f7\"],[0.6,\"#e6f5d0\"],[0.7,\"#b8e186\"],[0.8,\"#7fbc41\"],[0.9,\"#4d9221\"],[1,\"#276419\"]]},\"xaxis\":{\"gridcolor\":\"white\",\"linecolor\":\"white\",\"ticks\":\"\",\"title\":{\"standoff\":15},\"zerolinecolor\":\"white\",\"automargin\":true,\"zerolinewidth\":2},\"yaxis\":{\"gridcolor\":\"white\",\"linecolor\":\"white\",\"ticks\":\"\",\"title\":{\"standoff\":15},\"zerolinecolor\":\"white\",\"automargin\":true,\"zerolinewidth\":2},\"scene\":{\"xaxis\":{\"backgroundcolor\":\"#E5ECF6\",\"gridcolor\":\"white\",\"linecolor\":\"white\",\"showbackground\":true,\"ticks\":\"\",\"zerolinecolor\":\"white\",\"gridwidth\":2},\"yaxis\":{\"backgroundcolor\":\"#E5ECF6\",\"gridcolor\":\"white\",\"linecolor\":\"white\",\"showbackground\":true,\"ticks\":\"\",\"zerolinecolor\":\"white\",\"gridwidth\":2},\"zaxis\":{\"backgroundcolor\":\"#E5ECF6\",\"gridcolor\":\"white\",\"linecolor\":\"white\",\"showbackground\":true,\"ticks\":\"\",\"zerolinecolor\":\"white\",\"gridwidth\":2}},\"shapedefaults\":{\"line\":{\"color\":\"#2a3f5f\"}},\"annotationdefaults\":{\"arrowcolor\":\"#2a3f5f\",\"arrowhead\":0,\"arrowwidth\":1},\"geo\":{\"bgcolor\":\"white\",\"landcolor\":\"#E5ECF6\",\"subunitcolor\":\"white\",\"showland\":true,\"showlakes\":true,\"lakecolor\":\"white\"},\"title\":{\"x\":0.05},\"mapbox\":{\"style\":\"light\"}}}},                        {\"responsive\": true}                    ).then(function(){\n",
       "                            \n",
       "var gd = document.getElementById('d7f38c74-4857-41af-8b3c-e301b0a0764b');\n",
       "var x = new MutationObserver(function (mutations, observer) {{\n",
       "        var display = window.getComputedStyle(gd).display;\n",
       "        if (!display || display === 'none') {{\n",
       "            console.log([gd, 'removed!']);\n",
       "            Plotly.purge(gd);\n",
       "            observer.disconnect();\n",
       "        }}\n",
       "}});\n",
       "\n",
       "// Listen for the removal of the full notebook cells\n",
       "var notebookContainer = gd.closest('#notebook-container');\n",
       "if (notebookContainer) {{\n",
       "    x.observe(notebookContainer, {childList: true});\n",
       "}}\n",
       "\n",
       "// Listen for the clearing of the current output cell\n",
       "var outputEl = gd.closest('.output');\n",
       "if (outputEl) {{\n",
       "    x.observe(outputEl, {childList: true});\n",
       "}}\n",
       "\n",
       "                        })                };                });            </script>        </div>"
      ]
     },
     "metadata": {},
     "output_type": "display_data"
    }
   ],
   "source": [
    "fig.show()"
   ]
  },
  {
   "cell_type": "code",
   "execution_count": null,
   "id": "18ad82f6-4d21-4890-b896-326053096946",
   "metadata": {},
   "outputs": [],
   "source": [
    "#|export\n",
    "html_filename = \"network_graph.html\"\n",
    "fig.write_html(f'{plots_dir}/{html_filename}')"
   ]
  },
  {
   "cell_type": "markdown",
   "id": "351ba60c-78b7-4795-8b21-0f389c7cf0bd",
   "metadata": {},
   "source": [
    "Export all data to zip:"
   ]
  },
  {
   "cell_type": "code",
   "execution_count": null,
   "id": "23eaafdb-52bd-483d-afb1-2fbcdb1d732f",
   "metadata": {},
   "outputs": [],
   "source": [
    "#|export\n",
    "if shutil.make_archive(f'{const.data_path}/{const.directory_name}', 'zip', f'{const.pre_output_path}'):\n",
    "    print(f\"All files saved to {const.data_path}/{const.directory_name}\")"
   ]
  }
 ],
 "metadata": {
  "kernelspec": {
   "display_name": "python3",
   "language": "python",
   "name": "python3"
  }
 },
 "nbformat": 4,
 "nbformat_minor": 5
}
