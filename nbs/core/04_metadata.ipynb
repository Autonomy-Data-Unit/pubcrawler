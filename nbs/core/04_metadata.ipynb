{
 "cells": [
  {
   "cell_type": "markdown",
   "id": "6c6fca1b-c8cf-449c-9d5c-d8bb10d890ff",
   "metadata": {},
   "source": [
    "# 04 Get Metadata\n",
    "\n",
    "> Get medata from files."
   ]
  },
  {
   "cell_type": "code",
   "execution_count": null,
   "id": "33d30996-0eaa-4130-8f1d-a8c395d089de",
   "metadata": {},
   "outputs": [],
   "source": [
    "#|default_exp core.04_metadata"
   ]
  },
  {
   "cell_type": "code",
   "execution_count": null,
   "id": "5d954f1d-5e1b-44f9-bf9c-86be2ec2d202",
   "metadata": {},
   "outputs": [],
   "source": [
    "#|hide\n",
    "import nbdev; nbdev.nbdev_export()"
   ]
  },
  {
   "cell_type": "code",
   "execution_count": null,
   "id": "ef5c2ab3-3206-4809-a60b-d2742f5c5ac4",
   "metadata": {},
   "outputs": [],
   "source": [
    "#|hide\n",
    "from nbdev.showdoc import show_doc"
   ]
  },
  {
   "cell_type": "code",
   "execution_count": null,
   "id": "86bf1d1d-d0ad-4369-97dc-66aaafa920cc",
   "metadata": {},
   "outputs": [],
   "source": [
    "#|export\n",
    "import pubcrawler as proj\n",
    "from pubcrawler import const, log, utils, tools\n",
    "# import adu_proj.utils as adutils"
   ]
  },
  {
   "cell_type": "code",
   "execution_count": null,
   "id": "2c47b2cb-daa3-478e-becc-642b9ca89541",
   "metadata": {},
   "outputs": [],
   "source": [
    "#|export\n",
    "import json\n",
    "import PyPDF2\n",
    "from openai import OpenAI\n",
    "from dotenv import load_dotenv\n",
    "import os\n",
    "from tqdm import tqdm\n",
    "import pandas as pd\n",
    "import functools\n",
    "import time\n",
    "import signal\n",
    "from functools import wraps"
   ]
  },
  {
   "cell_type": "code",
   "execution_count": null,
   "id": "34affa9d-5401-427c-9fe5-3a1fcdba180a",
   "metadata": {},
   "outputs": [],
   "source": [
    "#|export\n",
    "load_dotenv()\n",
    "API_KEY = os.getenv(\"OPENAI_API_KEY\")\n",
    "client = OpenAI(\n",
    "    api_key=API_KEY,\n",
    ")"
   ]
  },
  {
   "cell_type": "markdown",
   "id": "8852ec69-3bf6-4b2d-a3e2-33f13c97f72d",
   "metadata": {},
   "source": [
    "We will attempt to get metadata from each file. Currently this script assumes the file is a pdf although in the future its possible to add new methods here for extracting data from different file types. \n",
    "\n",
    "Passing entire documents to an LLM can be expensive so we instead only pass a subsection (first 5 pages). "
   ]
  },
  {
   "cell_type": "code",
   "execution_count": null,
   "id": "a8b9bd3e-98ba-4a5d-9bde-9029f922eccc",
   "metadata": {},
   "outputs": [],
   "source": [
    "#|export\n",
    "with open(f'{const.pre_output_path}/data_files.json', 'r') as f:\n",
    "    file_links = json.load(f)"
   ]
  },
  {
   "cell_type": "code",
   "execution_count": null,
   "id": "5b43ccf0-bc09-4e5e-8c77-4b38add7c281",
   "metadata": {},
   "outputs": [],
   "source": [
    "#|export\n",
    "def extract_text_from_first_n_pages(filepath, n):\n",
    "    text = \"\"\n",
    "    with open(filepath, 'rb') as file:\n",
    "        reader = PyPDF2.PdfReader(file)\n",
    "        for i in range(min(n, len(reader.pages))):\n",
    "            page = reader.pages[i]\n",
    "            text += page.extract_text()\n",
    "    return text"
   ]
  },
  {
   "cell_type": "code",
   "execution_count": null,
   "id": "8a902165-87bc-44e5-9cdd-421c3231f493",
   "metadata": {},
   "outputs": [],
   "source": [
    "#|export\n",
    "def extract_text_from_last_n_pages(filepath, n):\n",
    "    text = \"\"\n",
    "    with open(filepath, 'rb') as file:\n",
    "        reader = PyPDF2.PdfReader(file)\n",
    "        total_pages = len(reader.pages)\n",
    "        start_page = max(total_pages - n, 0)  # Ensures we don't start before the first page\n",
    "        for i in range(start_page, total_pages):\n",
    "            page = reader.pages[i]\n",
    "            text += page.extract_text()\n",
    "    return text"
   ]
  },
  {
   "cell_type": "markdown",
   "id": "cc1ac747-b983-49cc-ae39-806eea8b4a38",
   "metadata": {},
   "source": [
    "Passing every document can also be expensive so we may want to try and filter the documents such that we are left with documents that are likely to be produced by the organisation in question. To do this we could search the beginning of each document to see if it contains mention of the organisations name(s)."
   ]
  },
  {
   "cell_type": "code",
   "execution_count": null,
   "id": "92729082-3fcf-4b3c-bc0d-f79992ad0c8e",
   "metadata": {},
   "outputs": [],
   "source": [
    "#|export\n",
    "org_names = [name for name in [const.org_name, const.org_name_2, const.org_name_3] if name]"
   ]
  },
  {
   "cell_type": "code",
   "execution_count": null,
   "id": "8d1d4a1e-cbc6-4125-b327-ef2366dc1522",
   "metadata": {},
   "outputs": [],
   "source": [
    "#|export\n",
    "def get_org_files(org_names, file_links):\n",
    "    org_file_links = {}\n",
    "    for i,file in enumerate(tqdm(file_links)):\n",
    "        try:\n",
    "            pages = extract_text_from_first_n_pages(file_links[file]['file_path'], 5)\n",
    "            if any(element in pages.lower() for element in org_names):\n",
    "                org_file_links[file] = file_links[file]\n",
    "        except:\n",
    "            pass\n",
    "    return org_file_links"
   ]
  },
  {
   "cell_type": "code",
   "execution_count": null,
   "id": "0911a647-edad-42d5-a3a1-9dc3423931d8",
   "metadata": {},
   "outputs": [],
   "source": [
    "#|export\n",
    "if const.org_file_filter:\n",
    "    file_links = get_org_files(org_names, file_links)"
   ]
  },
  {
   "cell_type": "markdown",
   "id": "f51d0b2a-652a-4565-869e-fe4c7fc15c7d",
   "metadata": {},
   "source": [
    "We can also get the page number and word count for each document:"
   ]
  },
  {
   "cell_type": "code",
   "execution_count": null,
   "id": "03a49e78-d2b9-4cfa-b688-c73ac33e84d2",
   "metadata": {},
   "outputs": [],
   "source": [
    "#|export\n",
    "def pdf_pages_and_word_count(file_path):\n",
    "    with open(file_path, 'rb') as file:\n",
    "        reader = PyPDF2.PdfReader(file)\n",
    "        num_pages = len(reader.pages)\n",
    "        total_words = 0\n",
    "        for page_num in range(num_pages):\n",
    "            page = reader.pages[page_num]\n",
    "            text = page.extract_text()\n",
    "            words = text.split()\n",
    "            total_words += len(words)\n",
    "    return num_pages, total_words"
   ]
  },
  {
   "cell_type": "code",
   "execution_count": null,
   "id": "cbc8b013-234c-4b7b-bc7e-5de1ce1c3389",
   "metadata": {},
   "outputs": [],
   "source": [
    "#|export\n",
    "for file in tqdm(file_links):\n",
    "    pages, words = pdf_pages_and_word_count(file_links[file]['file_path'])\n",
    "    file_links[file]['wordcount'] = words\n",
    "    file_links[file]['pages'] = pages"
   ]
  },
  {
   "cell_type": "markdown",
   "id": "0190c1d8-850e-4011-8868-eb37f9e9da17",
   "metadata": {},
   "source": [
    "Lets now get metadata from this section of pdf via function calling:"
   ]
  },
  {
   "cell_type": "code",
   "execution_count": null,
   "id": "d6cf7d1f-d4b4-4b87-a6ad-fff3f958cfc9",
   "metadata": {},
   "outputs": [],
   "source": [
    "#|export\n",
    "class TimeoutException(Exception):\n",
    "    pass\n",
    "\n",
    "def timeout_handler(signum, frame):\n",
    "    raise TimeoutException\n",
    "\n",
    "def retry_on_timeout(retries=3, timeout=30):\n",
    "    def decorator(func):\n",
    "        @wraps(func)\n",
    "        def wrapper(*args, **kwargs):\n",
    "            for _ in range(retries):\n",
    "                try:\n",
    "                    signal.signal(signal.SIGALRM, timeout_handler)\n",
    "                    signal.alarm(timeout)\n",
    "                    result = func(*args, **kwargs)\n",
    "                    signal.alarm(0)  # Reset the alarm\n",
    "                    return result\n",
    "                except TimeoutException:\n",
    "                    print(f\"Function {func.__name__} timed out, retrying...\")\n",
    "                finally:\n",
    "                    signal.alarm(0)  # Ensure the alarm is cleared\n",
    "            raise TimeoutException(f\"Function {func.__name__} failed after {retries} retries\")\n",
    "        return wrapper\n",
    "    return decorator"
   ]
  },
  {
   "cell_type": "code",
   "execution_count": null,
   "id": "6be402fc-cac2-4d84-860a-1b5f20a04d66",
   "metadata": {},
   "outputs": [],
   "source": [
    "#|export\n",
    "@retry_on_timeout(retries=2, timeout=30)\n",
    "def get_pdf_metadata(report_text):\n",
    "    functions = [{\n",
    "            \"name\": \"generate_citation\",\n",
    "            \"description\": \"Generate a citation for report\",\n",
    "            \"parameters\": {\n",
    "                \"type\": \"object\",\n",
    "                \"properties\": {\n",
    "                    \"title\": {\n",
    "                        \"type\": \"string\",\n",
    "                        \"description\": \"Report title. If unknown leave empty\",\n",
    "                    },\n",
    "                    \"authors\": {\n",
    "                        \"type\": \"array\",\n",
    "                        \"description\": \"Array of the author's full names. If unknown leave empty\",\n",
    "                        \"items\": {\n",
    "                                \"description\": \"Author's full name\",\n",
    "                                \"type\": \"string\"\n",
    "                            }\n",
    "                    },\n",
    "                    \"organisation\": {\n",
    "                        \"type\": \"array\",\n",
    "                        \"description\": \"Array containing the names of the research organisations that produced the report. If unknown leave empty\",\n",
    "                        \"items\": {\n",
    "                                \"description\": \"Research organisation's name\",\n",
    "                                \"type\": \"string\"\n",
    "                            }\n",
    "                    },\n",
    "                    \"date\": {\n",
    "                        \"type\": \"string\",\n",
    "                        \"description\": \"Date the report was published on. Try to find the day, month and year. If unknown leave empty\",\n",
    "                    },\n",
    "                    \"keywords\": {\n",
    "                        \"type\": \"array\",\n",
    "                        \"description\": \"Array of keywords that indicate the content of the report. If unknown leave empty\",\n",
    "                        \"items\": {\n",
    "                                \"description\": \"Keyword title ie 'feminism'\",\n",
    "                                \"type\": \"string\"\n",
    "                            }\n",
    "                    },\n",
    "                    \"funders\": {\n",
    "                        \"type\": \"array\",\n",
    "                        \"description\": \"Array of organisations that provided funding or financial support. If unknown leave empty\",\n",
    "                        \"items\": {\n",
    "                                \"description\": \"Name of funding organisation\",\n",
    "                                \"type\": \"string\"\n",
    "                            }\n",
    "                    }\n",
    "                },\n",
    "                \"required\": [\"title\", \"authors\", \"organisation\", \"date\", \"keywords\", \"funders\"]\n",
    "            },\n",
    "        }]\n",
    "    messages = []\n",
    "    messages.append({\"role\": \"system\", \"content\": \"Don't make assumptions about what values to plug into functions. Ask for clarification if a user request is ambiguous.\"})\n",
    "    messages.append({\"role\": \"user\", \"content\": f\"Generate a citation for the report based on the following excerpt: {report_text}\"})\n",
    "    chat_response = client.chat.completions.create(\n",
    "        messages=messages, functions=functions, model='gpt-4'\n",
    "    )\n",
    "    assistant_response = json.loads(chat_response.choices[0].message.function_call.arguments)\n",
    "    return assistant_response    "
   ]
  },
  {
   "cell_type": "markdown",
   "id": "044d29b0-ab3f-4f3f-81be-36352e05f7a9",
   "metadata": {},
   "source": [
    "Now we can loop through all the files getting metadata:"
   ]
  },
  {
   "cell_type": "code",
   "execution_count": null,
   "id": "8b1e5a03-8557-4b04-9311-1305fbfa9a53",
   "metadata": {},
   "outputs": [],
   "source": [
    "#|export\n",
    "for key in tqdm(file_links):\n",
    "    try:\n",
    "        m = get_pdf_metadata(extract_text_from_first_n_pages(file_links[key]['file_path'], 5))\n",
    "        file_links[key]['title'] = m['title']\n",
    "        file_links[key]['authors'] = m['authors']\n",
    "        file_links[key]['organisation'] = m['organisation']\n",
    "        file_links[key]['date'] = m['date']\n",
    "        file_links[key]['keywords'] = m['keywords']\n",
    "        file_links[key]['funders'] = m['funders']\n",
    "    except Exception as e:\n",
    "        print(e)\n",
    "        print(f\"failed on {key}\")"
   ]
  },
  {
   "cell_type": "code",
   "execution_count": null,
   "id": "19651438-6c9b-4853-b065-fdbc90068a86",
   "metadata": {},
   "outputs": [],
   "source": [
    "#|export\n",
    "pub_metadata = pd.DataFrame([file_links[key] for key in file_links]).dropna()"
   ]
  },
  {
   "cell_type": "code",
   "execution_count": null,
   "id": "d22089b4-5728-4e65-968c-0c358fcaf1cc",
   "metadata": {},
   "outputs": [],
   "source": [
    "#|export\n",
    "pub_metadata.to_csv(f'{const.pre_output_path}/pub_metadata.csv', index=False)"
   ]
  },
  {
   "cell_type": "code",
   "execution_count": null,
   "id": "f852ff89-67c0-4ff0-a55c-3168cf8a3cd3",
   "metadata": {},
   "outputs": [],
   "source": []
  }
 ],
 "metadata": {
  "kernelspec": {
   "display_name": "python3",
   "language": "python",
   "name": "python3"
  }
 },
 "nbformat": 4,
 "nbformat_minor": 5
}
