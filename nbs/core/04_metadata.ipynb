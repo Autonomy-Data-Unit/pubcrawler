{
 "cells": [
  {
   "cell_type": "markdown",
   "id": "6c6fca1b-c8cf-449c-9d5c-d8bb10d890ff",
   "metadata": {},
   "source": [
    "# 04 Get Metadata\n",
    "\n",
    "> Get medata from files."
   ]
  },
  {
   "cell_type": "code",
   "execution_count": null,
   "id": "33d30996-0eaa-4130-8f1d-a8c395d089de",
   "metadata": {},
   "outputs": [],
   "source": [
    "#|default_exp core.04_metadata"
   ]
  },
  {
   "cell_type": "code",
   "execution_count": null,
   "id": "5d954f1d-5e1b-44f9-bf9c-86be2ec2d202",
   "metadata": {},
   "outputs": [],
   "source": [
    "#|hide\n",
    "import nbdev; nbdev.nbdev_export()"
   ]
  },
  {
   "cell_type": "code",
   "execution_count": null,
   "id": "ef5c2ab3-3206-4809-a60b-d2742f5c5ac4",
   "metadata": {},
   "outputs": [],
   "source": [
    "#|hide\n",
    "from nbdev.showdoc import show_doc"
   ]
  },
  {
   "cell_type": "code",
   "execution_count": null,
   "id": "86bf1d1d-d0ad-4369-97dc-66aaafa920cc",
   "metadata": {},
   "outputs": [],
   "source": [
    "#|export\n",
    "import pubcrawler as proj\n",
    "from pubcrawler import const, log, utils, tools\n",
    "import adu_proj.utils as adutils"
   ]
  },
  {
   "cell_type": "code",
   "execution_count": null,
   "id": "2c47b2cb-daa3-478e-becc-642b9ca89541",
   "metadata": {},
   "outputs": [],
   "source": [
    "import json\n",
    "import PyPDF2\n",
    "from openai import OpenAI\n",
    "from dotenv import load_dotenv\n",
    "import os\n",
    "from tqdm import tqdm\n",
    "import pandas as pd"
   ]
  },
  {
   "cell_type": "code",
   "execution_count": null,
   "id": "34affa9d-5401-427c-9fe5-3a1fcdba180a",
   "metadata": {},
   "outputs": [],
   "source": [
    "#|export\n",
    "load_dotenv()\n",
    "API_KEY = os.getenv(\"OPENAI_API_KEY\")\n",
    "client = OpenAI(\n",
    "    # This is the default and can be omitted\n",
    "    api_key=API_KEY,\n",
    ")"
   ]
  },
  {
   "cell_type": "markdown",
   "id": "8852ec69-3bf6-4b2d-a3e2-33f13c97f72d",
   "metadata": {},
   "source": [
    "We will attempt to get metadata from each file. Currently this script assumes the file is a pdf although in the future its possible to add new methods here for extracting data from different file types. \n",
    "\n",
    "Passing entire documents to an LLM can be expensive so we instead only pass a subsection (first 5 pages). "
   ]
  },
  {
   "cell_type": "code",
   "execution_count": null,
   "id": "a8b9bd3e-98ba-4a5d-9bde-9029f922eccc",
   "metadata": {},
   "outputs": [],
   "source": [
    "#|export\n",
    "with open(f'{const.pre_output_path}/data_files.json', 'r') as f:\n",
    "    file_links = json.load(f)"
   ]
  },
  {
   "cell_type": "code",
   "execution_count": null,
   "id": "5b43ccf0-bc09-4e5e-8c77-4b38add7c281",
   "metadata": {},
   "outputs": [],
   "source": [
    "#|export\n",
    "def extract_text_from_first_n_pages(filepath, n):\n",
    "    text = \"\"\n",
    "    with open(filepath, 'rb') as file:\n",
    "        reader = PyPDF2.PdfReader(file)\n",
    "        for i in range(min(n, len(reader.pages))):\n",
    "            page = reader.pages[i]\n",
    "            text += page.extract_text()\n",
    "    return text"
   ]
  },
  {
   "cell_type": "code",
   "execution_count": null,
   "id": "4b97a817-c56d-4805-beef-85c33a70cf61",
   "metadata": {},
   "outputs": [
    {
     "data": {
      "text/plain": [
       "'The Shorter \\nWorking Week:\\nA Radical And  \\nPrag matic Proposal\\nEdited by \\nWill Stronge and \\nAidan Harper\\nContributors include:\\nDanielle Guizzo\\nKyle Lewis\\nMadeleine Ellis-Petersen\\nAidan Harper\\nNic Murray\\nWill Stronge\\nWith other  \\ncontributions from:\\nHelen Hester \\nMatt Cole\\nPublished 2019 by: \\n© Autonomy\\nAutonomy Research Ltd\\nCranbourne\\nPilcot Road\\nCrookham Village\\nHampshire\\nGU51 1DY\\nCover photograph by Ryan Tang  \\nReport design by Jack Haslehurst  \\nfor Autonomy\\nIn collaboration with members  \\nof the 4 Day Week Campaign\\nThe Shorter Working Week: Jan 20192\\nAutonomyTransition to a Shorter \\nWorking Week\\nCurrent Model of Work\\nFuture Model of Work-TimeTransition \\nto a  \\nShorter \\nWorking \\nWeekTransition \\nto a  \\nShorter \\nWorking \\nWeek\\nHappy \\nProductive \\nworkforce \\nwith a healthy \\nwork-life \\nbalanceLow \\nproductivity \\ncaused by \\npoor mental \\nhealth and \\nwellbeing\\nMore rest, \\nsleep, free \\ntime and \\nautonomyGender \\ninequality \\nin paid and \\nunpaid work\\nIncreased \\npaternity \\nleave, well-\\npaid part-time \\njobs become \\nthe norm, \\nmore time \\nfor caring \\nresponsibilitiesGrowing \\nprecarious \\nand low-paid \\nwork as well \\nas plenty of \\noverwork\\nGood quality, \\nwell paid jobs \\nshared evenly, \\nfacilitated \\nby raised \\nwages and \\nopportunities \\nto reduce \\nhours via \\nan updated \\nwelfare stateAutomation \\neither \\neliminating \\njobs or \\nhollowing \\nout middle-\\nincome roles\\nAllocated \\ntime for \\nupskilling \\nworkforce, \\nan economy \\nenhanced by \\nwell managed \\nautomation \\naimed at \\nwork time \\nreductionHigh carbon \\nemission and \\nlocal pollution\\nMore time for \\nsustainable \\nleisure \\nand travel \\nsupported \\nby policies \\nincentivising \\nlow carbon \\nalternatives \\nHigher gender \\nequality in \\npaid and \\nunpaid workQuality, \\nwell-paid \\nand secure \\nemployment \\navailable \\nfor allHigh-skilled \\nworkforce, \\nreduced work \\ntime, more \\nproductive \\neconomyA sustainable \\neconomy\\nThe Shorter Working Week: Jan 20193\\nAutonomy“This is a vital contribution to the growing debate around free time and \\nreducing the working week. With millions saying they would like to work \\nshorter hours, and millions of others without a job or wanting more hours, \\nit’s essential that we consider how we address the problems in the labour \\nmarket as well as preparing for the future challenges of automation.”\\nJohn McDonnell, Labour Shadow Chancellor\\n“This report is part of an important and growing body of research that \\nis steadfastly putting paid to the idea that the length of the working \\nweek is set in stone. It’s increasingly clear it is not. In fact, as this report \\ndemonstrates, working less may actually be the key to better distributed, \\nsustainable economic prosperity. Whether the 4th industrial revolution \\nand its implications for the future of labour happen as many predict or \\nnot, the issue of catastrophic climate and ecosystem breakdown is real \\nand upon us now. The science tells we have around a decade to take \\nradical action. Fail to do so and the implications for global civilisation \\nare grim. Working fewer hours, reducing consumption for its own sake, \\nexpanding our free time, improving ourselves and moving towards a \\nmore post-material society maybe all that stands between a prosperous \\nfuture and a dark, dystopian one.”\\nClive Lewis MP, for Norwich South\\n“This report clearly puts forward the case for a shorter working week as \\na realistic ambition, and the critical role of trade unions in helping to \\nachieve it. From the eight-hour day to guaranteed bank holidays, the \\ntrade union movement has always stood up for working people’s right to \\ntake time off. This report will help us to keep winning for workers in the \\n21st century.”\\nKate Bell, Head of Rights, International, Social and Economics at \\nthe TUC (Trades Union Congress)\\n“Workers in the UK have never been under more pressure to work harder \\nand faster, for longer hours and for less. As this report underlines, \\nwith growing levels of workplace stress and a huge increase in mental \\nhealth issues, this simply isn’t a sustainable path and we need a radical \\nchange in direction. We have to get away from a low-investment, low-\\npay, low-productivity economy and a shorter working week should be \\nat the heart of the fight for change. This is not a distant prospect – the \\nCommunication Workers Union has agreed a shorter working week in \\nRoyal Mail, one of the biggest employers in the country, which aims to \\ntake four hours off the working week thousands of postmen and women \\nbetween 2018 and the end of 2021. There are huge benefits from \\nreducing working time for workers, employers and the country as a whole \\nand the government should be driving this agenda forward now.”\\nDave Ward, General Secretary of the Communication Workers’ \\nUnion (CWU)\\nThe Shorter Working Week: Jan 20194\\nAutonomy'"
      ]
     },
     "execution_count": null,
     "metadata": {},
     "output_type": "execute_result"
    }
   ],
   "source": [
    "extract_text_from_first_n_pages(file_links[next(iter(file_links))]['file_path'], 4)"
   ]
  },
  {
   "cell_type": "markdown",
   "id": "0190c1d8-850e-4011-8868-eb37f9e9da17",
   "metadata": {},
   "source": [
    "Lets now get metadata from this section of pdf via function calling:"
   ]
  },
  {
   "cell_type": "code",
   "execution_count": null,
   "id": "6be402fc-cac2-4d84-860a-1b5f20a04d66",
   "metadata": {},
   "outputs": [],
   "source": [
    "def get_pdf_metadata(report_text):\n",
    "    functions = [{\n",
    "            \"name\": \"generate_citation\",\n",
    "            \"description\": \"Generate a citation for report\",\n",
    "            \"parameters\": {\n",
    "                \"type\": \"object\",\n",
    "                \"properties\": {\n",
    "                    \"title\": {\n",
    "                        \"type\": \"string\",\n",
    "                        \"description\": \"Report title. If unknown leave empty\",\n",
    "                    },\n",
    "                    \"authors\": {\n",
    "                        \"type\": \"array\",\n",
    "                        \"description\": \"Array of the author's full names. If unknown leave empty\",\n",
    "                        \"items\": {\n",
    "                                \"description\": \"Author's full name\",\n",
    "                                \"type\": \"string\"\n",
    "                            }\n",
    "                    },\n",
    "                    \"organisation\": {\n",
    "                        \"type\": \"array\",\n",
    "                        \"description\": \"Array containing the names of the research organisations that produced the report. If unknown leave empty\",\n",
    "                        \"items\": {\n",
    "                                \"description\": \"Research organisation's name\",\n",
    "                                \"type\": \"string\"\n",
    "                            }\n",
    "                    },\n",
    "                    \"date\": {\n",
    "                        \"type\": \"string\",\n",
    "                        \"description\": \"Date the report was published on. Try to find the day, month and year. If unknown leave empty\",\n",
    "                    },\n",
    "                    \"keywords\": {\n",
    "                        \"type\": \"array\",\n",
    "                        \"description\": \"Array of keywords that indicate the content of the report. If unknown leave empty\",\n",
    "                        \"items\": {\n",
    "                                \"description\": \"Keyword title ie 'feminism'\",\n",
    "                                \"type\": \"string\"\n",
    "                            }\n",
    "                    },\n",
    "                    \"funders\": {\n",
    "                        \"type\": \"array\",\n",
    "                        \"description\": \"Array of organisations that provided funding or financial support. If unknown leave empty\",\n",
    "                        \"items\": {\n",
    "                                \"description\": \"Name of funding organisation\",\n",
    "                                \"type\": \"string\"\n",
    "                            }\n",
    "                    }\n",
    "                },\n",
    "                \"required\": [\"title\", \"authors\", \"organisation\", \"date\", \"keywords\", \"funders\"]\n",
    "            },\n",
    "        }]\n",
    "    messages = []\n",
    "    messages.append({\"role\": \"system\", \"content\": \"Don't make assumptions about what values to plug into functions. Ask for clarification if a user request is ambiguous.\"})\n",
    "    messages.append({\"role\": \"user\", \"content\": f\"Generate a citation for the report based on the following excerpt: {report_text}\"})\n",
    "    chat_response = client.chat.completions.create(\n",
    "        messages=messages, functions=functions, model=const.model\n",
    "    )\n",
    "    assistant_response = json.loads(c.choices[0].message.function_call.arguments)\n",
    "    return assistant_response    "
   ]
  },
  {
   "cell_type": "code",
   "execution_count": null,
   "id": "3eadff18-61d1-4632-98bb-2c2b38359d24",
   "metadata": {},
   "outputs": [
    {
     "data": {
      "text/plain": [
       "{'title': 'The Shorter Working Week: A Radical And Pragmatic Proposal',\n",
       " 'authors': ['Will Stronge', 'Aidan Harper'],\n",
       " 'organisation': ['Autonomy Research Ltd',\n",
       "  'In collaboration with members of the 4 Day Week Campaign'],\n",
       " 'date': '2019',\n",
       " 'keywords': ['shorter working week',\n",
       "  'work-life balance',\n",
       "  'gender equality',\n",
       "  'automation',\n",
       "  'sustainable leisure',\n",
       "  'low carbon alternatives',\n",
       "  'high-skilled workforce',\n",
       "  'sustainable economy'],\n",
       " 'funders': ['Autonomy']}"
      ]
     },
     "execution_count": null,
     "metadata": {},
     "output_type": "execute_result"
    }
   ],
   "source": [
    "get_pdf_metadata(extract_text_from_first_n_pages(file_links[next(iter(file_links))]['file_path'], 5))"
   ]
  },
  {
   "cell_type": "markdown",
   "id": "044d29b0-ab3f-4f3f-81be-36352e05f7a9",
   "metadata": {},
   "source": [
    "Now we can loop through all the files getting metadata:"
   ]
  },
  {
   "cell_type": "code",
   "execution_count": null,
   "id": "8b1e5a03-8557-4b04-9311-1305fbfa9a53",
   "metadata": {},
   "outputs": [
    {
     "name": "stderr",
     "output_type": "stream",
     "text": [
      "100%|█████████████████████████████████████████████████████████| 2/2 [00:07<00:00,  3.85s/it]\n"
     ]
    }
   ],
   "source": [
    "for key in tqdm(file_links):\n",
    "    try:\n",
    "        m = get_pdf_metadata(extract_text_from_first_n_pages(file_links[key]['file_path'], 5))\n",
    "        file_links[key]['title'] = m['title']\n",
    "        file_links[key]['authors'] = m['authors']\n",
    "        file_links[key]['organisation'] = m['organisation']\n",
    "        file_links[key]['date'] = m['date']\n",
    "        file_links[key]['keywords'] = m['keywords']\n",
    "        file_links[key]['funders'] = m['funders']\n",
    "    except:\n",
    "        print(f\"failed on {key}\")"
   ]
  },
  {
   "cell_type": "code",
   "execution_count": null,
   "id": "19651438-6c9b-4853-b065-fdbc90068a86",
   "metadata": {},
   "outputs": [],
   "source": [
    "pub_metadata = pd.DataFrame([file_links[key] for key in file_links]).dropna()"
   ]
  },
  {
   "cell_type": "code",
   "execution_count": null,
   "id": "d22089b4-5728-4e65-968c-0c358fcaf1cc",
   "metadata": {},
   "outputs": [],
   "source": [
    "pub_metadata.to_csv(f'{const.pre_output_path}/pub_metadata.csv', index=False)"
   ]
  }
 ],
 "metadata": {
  "kernelspec": {
   "display_name": "python3",
   "language": "python",
   "name": "python3"
  }
 },
 "nbformat": 4,
 "nbformat_minor": 5
}
