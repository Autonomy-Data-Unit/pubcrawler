{
 "cells": [
  {
   "cell_type": "markdown",
   "id": "6c6fca1b-c8cf-449c-9d5c-d8bb10d890ff",
   "metadata": {},
   "source": [
    "# 04 Get Metadata\n",
    "\n",
    "> Get medata from files."
   ]
  },
  {
   "cell_type": "code",
   "execution_count": null,
   "id": "33d30996-0eaa-4130-8f1d-a8c395d089de",
   "metadata": {},
   "outputs": [],
   "source": [
    "#|default_exp core.04_metadata"
   ]
  },
  {
   "cell_type": "code",
   "execution_count": null,
   "id": "5d954f1d-5e1b-44f9-bf9c-86be2ec2d202",
   "metadata": {},
   "outputs": [],
   "source": [
    "#|hide\n",
    "import nbdev; nbdev.nbdev_export()"
   ]
  },
  {
   "cell_type": "code",
   "execution_count": null,
   "id": "ef5c2ab3-3206-4809-a60b-d2742f5c5ac4",
   "metadata": {},
   "outputs": [],
   "source": [
    "#|hide\n",
    "from nbdev.showdoc import show_doc"
   ]
  },
  {
   "cell_type": "code",
   "execution_count": null,
   "id": "86bf1d1d-d0ad-4369-97dc-66aaafa920cc",
   "metadata": {},
   "outputs": [],
   "source": [
    "#|export\n",
    "import pubcrawler as proj\n",
    "from pubcrawler import const, log, utils, tools\n",
    "import adu_proj.utils as adutils"
   ]
  },
  {
   "cell_type": "code",
   "execution_count": null,
   "id": "2c47b2cb-daa3-478e-becc-642b9ca89541",
   "metadata": {},
   "outputs": [],
   "source": [
    "#|export\n",
    "import json\n",
    "import PyPDF2\n",
    "from openai import OpenAI\n",
    "from dotenv import load_dotenv\n",
    "import os\n",
    "from tqdm import tqdm\n",
    "import pandas as pd\n",
    "import functools\n",
    "import time"
   ]
  },
  {
   "cell_type": "code",
   "execution_count": null,
   "id": "34affa9d-5401-427c-9fe5-3a1fcdba180a",
   "metadata": {},
   "outputs": [],
   "source": [
    "#|export\n",
    "load_dotenv()\n",
    "API_KEY = os.getenv(\"OPENAI_API_KEY\")\n",
    "client = OpenAI(\n",
    "    # This is the default and can be omitted\n",
    "    api_key=API_KEY,\n",
    ")"
   ]
  },
  {
   "cell_type": "markdown",
   "id": "8852ec69-3bf6-4b2d-a3e2-33f13c97f72d",
   "metadata": {},
   "source": [
    "We will attempt to get metadata from each file. Currently this script assumes the file is a pdf although in the future its possible to add new methods here for extracting data from different file types. \n",
    "\n",
    "Passing entire documents to an LLM can be expensive so we instead only pass a subsection (first 5 pages). "
   ]
  },
  {
   "cell_type": "code",
   "execution_count": null,
   "id": "a8b9bd3e-98ba-4a5d-9bde-9029f922eccc",
   "metadata": {},
   "outputs": [],
   "source": [
    "#|export\n",
    "with open(f'{const.pre_output_path}/data_files.json', 'r') as f:\n",
    "    file_links = json.load(f)"
   ]
  },
  {
   "cell_type": "code",
   "execution_count": null,
   "id": "5b43ccf0-bc09-4e5e-8c77-4b38add7c281",
   "metadata": {},
   "outputs": [],
   "source": [
    "#|export\n",
    "def extract_text_from_first_n_pages(filepath, n):\n",
    "    text = \"\"\n",
    "    with open(filepath, 'rb') as file:\n",
    "        reader = PyPDF2.PdfReader(file)\n",
    "        for i in range(min(n, len(reader.pages))):\n",
    "            page = reader.pages[i]\n",
    "            text += page.extract_text()\n",
    "    return text"
   ]
  },
  {
   "cell_type": "code",
   "execution_count": null,
   "id": "4b97a817-c56d-4805-beef-85c33a70cf61",
   "metadata": {},
   "outputs": [
    {
     "data": {
      "text/plain": [
       "' \\nTHE STATE OF THE CLIMATE 2021\\nOle Humlum\\nThe Global Warming Policy Foundation\\nReport 51The State of the Climate 2021\\nOle Humlum\\nReport 51, The Global Warming Policy Foundation\\n© Copyright 2022, The Global Warming Policy Foundation\\nAbout the author\\nOle Humlum is former Professor of Physical Geography at the University Centre in Svalbard, Nor -\\nway, and Emeritus Professor of Physical Geography, University of Oslo, Norway.Contents\\nAbout the author  ii\\nGeneral overview 2021  2\\n1. Air temperatures  4\\nSurface: spatial pattern  4\\nLower Troposphere: monthly  6\\nLower Troposphere: annual means  7\\nSurface: monthly  8\\nSurface: annual means  10\\nError, consistency and quality  11\\nSurface versus lower Troposphere  14\\nLower Troposphere: land versus ocean  15\\nBy altitude  16\\nZonal air temperatures  17\\nPolar air temperatures  18\\n2. Atmospheric greenhouse gases  19\\nWater vapour  19\\nCarbon dioxide  20\\n3. Ocean temperatures  22\\nRecent surface temperature anomalies  22\\nBy latitude  24\\nBy depth  25\\nBy region and depth  27\\nOcean temperature net change 2004–2020 in selected sectors  28\\n4. Ocean oscillations  31\\nSouthern Oscillation Index  31\\nPacific Decadal Oscillation  31\\nAtlantic Multidecadal Oscillation  31\\n5. Sea-level  33\\nIn general  33\\nFrom satellite altimetry  34\\nFrom tide gauges  35\\nModelled for the future  36\\n6. Snow and ice  39\\nGlobal, Arctic and Antarctic sea ice extent  39\\nNorthern Hemisphere snow cover extent  41\\n7. Storms and wind  43\\nAccumulated cyclone energy  43\\nOther storm and wind observations  45\\n8. Written references  46\\n9. Links to data sources  46\\nReview process   50\\nAbout the Global Warming Policy Foundation  50THE STATE OF \\nTHE CLIMATE \\n2021\\nOle Humlum'"
      ]
     },
     "execution_count": null,
     "metadata": {},
     "output_type": "execute_result"
    }
   ],
   "source": [
    "extract_text_from_first_n_pages(file_links[next(iter(file_links))]['file_path'], 4)"
   ]
  },
  {
   "cell_type": "markdown",
   "id": "0190c1d8-850e-4011-8868-eb37f9e9da17",
   "metadata": {},
   "source": [
    "Lets now get metadata from this section of pdf via function calling:"
   ]
  },
  {
   "cell_type": "code",
   "execution_count": null,
   "id": "d6cf7d1f-d4b4-4b87-a6ad-fff3f958cfc9",
   "metadata": {},
   "outputs": [],
   "source": [
    "import signal\n",
    "from functools import wraps\n",
    "\n",
    "class TimeoutException(Exception):\n",
    "    pass\n",
    "\n",
    "def timeout_handler(signum, frame):\n",
    "    raise TimeoutException\n",
    "\n",
    "def retry_on_timeout(retries=3, timeout=30):\n",
    "    def decorator(func):\n",
    "        @wraps(func)\n",
    "        def wrapper(*args, **kwargs):\n",
    "            for _ in range(retries):\n",
    "                try:\n",
    "                    signal.signal(signal.SIGALRM, timeout_handler)\n",
    "                    signal.alarm(timeout)\n",
    "                    result = func(*args, **kwargs)\n",
    "                    signal.alarm(0)  # Reset the alarm\n",
    "                    return result\n",
    "                except TimeoutException:\n",
    "                    print(f\"Function {func.__name__} timed out, retrying...\")\n",
    "                finally:\n",
    "                    signal.alarm(0)  # Ensure the alarm is cleared\n",
    "            raise TimeoutException(f\"Function {func.__name__} failed after {retries} retries\")\n",
    "        return wrapper\n",
    "    return decorator"
   ]
  },
  {
   "cell_type": "code",
   "execution_count": null,
   "id": "6be402fc-cac2-4d84-860a-1b5f20a04d66",
   "metadata": {},
   "outputs": [],
   "source": [
    "#|export\n",
    "@retry_on_timeout(retries=2, timeout=30)\n",
    "def get_pdf_metadata(report_text):\n",
    "    functions = [{\n",
    "            \"name\": \"generate_citation\",\n",
    "            \"description\": \"Generate a citation for report\",\n",
    "            \"parameters\": {\n",
    "                \"type\": \"object\",\n",
    "                \"properties\": {\n",
    "                    \"title\": {\n",
    "                        \"type\": \"string\",\n",
    "                        \"description\": \"Report title. If unknown leave empty\",\n",
    "                    },\n",
    "                    \"authors\": {\n",
    "                        \"type\": \"array\",\n",
    "                        \"description\": \"Array of the author's full names. If unknown leave empty\",\n",
    "                        \"items\": {\n",
    "                                \"description\": \"Author's full name\",\n",
    "                                \"type\": \"string\"\n",
    "                            }\n",
    "                    },\n",
    "                    \"organisation\": {\n",
    "                        \"type\": \"array\",\n",
    "                        \"description\": \"Array containing the names of the research organisations that produced the report. If unknown leave empty\",\n",
    "                        \"items\": {\n",
    "                                \"description\": \"Research organisation's name\",\n",
    "                                \"type\": \"string\"\n",
    "                            }\n",
    "                    },\n",
    "                    \"date\": {\n",
    "                        \"type\": \"string\",\n",
    "                        \"description\": \"Date the report was published on. Try to find the day, month and year. If unknown leave empty\",\n",
    "                    },\n",
    "                    \"keywords\": {\n",
    "                        \"type\": \"array\",\n",
    "                        \"description\": \"Array of keywords that indicate the content of the report. If unknown leave empty\",\n",
    "                        \"items\": {\n",
    "                                \"description\": \"Keyword title ie 'feminism'\",\n",
    "                                \"type\": \"string\"\n",
    "                            }\n",
    "                    },\n",
    "                    \"funders\": {\n",
    "                        \"type\": \"array\",\n",
    "                        \"description\": \"Array of organisations that provided funding or financial support. If unknown leave empty\",\n",
    "                        \"items\": {\n",
    "                                \"description\": \"Name of funding organisation\",\n",
    "                                \"type\": \"string\"\n",
    "                            }\n",
    "                    }\n",
    "                },\n",
    "                \"required\": [\"title\", \"authors\", \"organisation\", \"date\", \"keywords\", \"funders\"]\n",
    "            },\n",
    "        }]\n",
    "    messages = []\n",
    "    messages.append({\"role\": \"system\", \"content\": \"Don't make assumptions about what values to plug into functions. Ask for clarification if a user request is ambiguous.\"})\n",
    "    messages.append({\"role\": \"user\", \"content\": f\"Generate a citation for the report based on the following excerpt: {report_text}\"})\n",
    "    chat_response = client.chat.completions.create(\n",
    "        messages=messages, functions=functions, model=const.model\n",
    "    )\n",
    "    assistant_response = json.loads(chat_response.choices[0].message.function_call.arguments)\n",
    "    return assistant_response    "
   ]
  },
  {
   "cell_type": "code",
   "execution_count": null,
   "id": "3eadff18-61d1-4632-98bb-2c2b38359d24",
   "metadata": {},
   "outputs": [
    {
     "data": {
      "text/plain": [
       "{'title': 'The State of the Climate 2021',\n",
       " 'authors': ['Ole Humlum'],\n",
       " 'organisation': ['The Global Warming Policy Foundation'],\n",
       " 'date': '2022',\n",
       " 'keywords': [],\n",
       " 'funders': ['The Global Warming Policy Foundation']}"
      ]
     },
     "execution_count": null,
     "metadata": {},
     "output_type": "execute_result"
    }
   ],
   "source": [
    "get_pdf_metadata(extract_text_from_first_n_pages(file_links[next(iter(file_links))]['file_path'], 5))"
   ]
  },
  {
   "cell_type": "markdown",
   "id": "044d29b0-ab3f-4f3f-81be-36352e05f7a9",
   "metadata": {},
   "source": [
    "Now we can loop through all the files getting metadata:"
   ]
  },
  {
   "cell_type": "code",
   "execution_count": null,
   "id": "8b1e5a03-8557-4b04-9311-1305fbfa9a53",
   "metadata": {},
   "outputs": [
    {
     "name": "stderr",
     "output_type": "stream",
     "text": [
      "  3%|█▍                                                     | 8/297 [00:21<12:49,  2.66s/it]"
     ]
    },
    {
     "name": "stdout",
     "output_type": "stream",
     "text": [
      "failed on https://www.thegwpf.org/content/uploads/2023/02/Ridd-State-of-Coral-Reefs.pdf\n"
     ]
    },
    {
     "name": "stderr",
     "output_type": "stream",
     "text": [
      "  5%|██▉                                                   | 16/297 [00:41<13:05,  2.80s/it]"
     ]
    },
    {
     "name": "stdout",
     "output_type": "stream",
     "text": [
      "failed on https://www.thegwpf.org/content/uploads/2019/07/wind-impact.pdf\n"
     ]
    },
    {
     "name": "stderr",
     "output_type": "stream",
     "text": [
      "  7%|███▋                                                  | 20/297 [00:52<12:35,  2.73s/it]"
     ]
    },
    {
     "name": "stdout",
     "output_type": "stream",
     "text": [
      "failed on https://www.thegwpf.org/content/uploads/2023/07/TGoC-CN-Archive.pdf\n"
     ]
    },
    {
     "name": "stderr",
     "output_type": "stream",
     "text": [
      " 17%|████████▊                                           | 50/297 [12:27<2:16:15, 33.10s/it]"
     ]
    },
    {
     "name": "stdout",
     "output_type": "stream",
     "text": [
      "failed on https://www.thegwpf.org/content/uploads/2022/01/Onshore-Wind-LCOE-1.pdf\n"
     ]
    },
    {
     "name": "stderr",
     "output_type": "stream",
     "text": [
      " 40%|█████████████████████                                | 118/297 [16:03<09:20,  3.13s/it]"
     ]
    },
    {
     "name": "stdout",
     "output_type": "stream",
     "text": [
      "failed on https://www.ipcc.ch/site/assets/uploads/sites/2/2018/11/SR15_Chapter1_Low_Res.pdf\n"
     ]
    },
    {
     "name": "stderr",
     "output_type": "stream",
     "text": [
      " 71%|█████████████████████████████████████▍               | 210/297 [30:36<03:49,  2.64s/it]"
     ]
    },
    {
     "name": "stdout",
     "output_type": "stream",
     "text": [
      "failed on http://www.thegwpf.org/content/uploads/2013/02/Ridley-Lukewarmer%20Ten%20Tests.pdf\n"
     ]
    },
    {
     "name": "stderr",
     "output_type": "stream",
     "text": [
      " 82%|███████████████████████████████████████████▋         | 245/297 [32:11<02:24,  2.77s/it]"
     ]
    },
    {
     "name": "stdout",
     "output_type": "stream",
     "text": [
      "failed on https://www.ipsos.com/sites/default/files/ct/news/documents/2022-11/Net%20Zero%20Policies_October_2022.pdf\n"
     ]
    },
    {
     "name": "stderr",
     "output_type": "stream",
     "text": [
      " 84%|████████████████████████████████████████████▎        | 248/297 [32:21<02:48,  3.44s/it]"
     ]
    },
    {
     "name": "stdout",
     "output_type": "stream",
     "text": [
      "failed on https://nicholaslewis.org/wp-content/uploads/2022/09/Lewis_Objectively-combining-climate-sensitivity-evidence_2022-Clim-Dyn-Detailed-Summary.pdf\n"
     ]
    },
    {
     "name": "stderr",
     "output_type": "stream",
     "text": [
      " 86%|█████████████████████████████████████████████▌       | 255/297 [32:43<02:09,  3.08s/it]"
     ]
    },
    {
     "name": "stdout",
     "output_type": "stream",
     "text": [
      "failed on https://www.thegwpf.org/content/uploads/2019/12/RuthLea-Carbon-Futility.pdf\n"
     ]
    },
    {
     "name": "stderr",
     "output_type": "stream",
     "text": [
      " 87%|██████████████████████████████████████████████       | 258/297 [32:49<01:40,  2.58s/it]"
     ]
    },
    {
     "name": "stdout",
     "output_type": "stream",
     "text": [
      "failed on https://www.thegwpf.org/content/uploads/2019/10/IPCC-letter-Oct2019.pdf\n"
     ]
    },
    {
     "name": "stderr",
     "output_type": "stream",
     "text": [
      " 88%|██████████████████████████████████████████████▍      | 260/297 [32:56<01:54,  3.09s/it]"
     ]
    },
    {
     "name": "stdout",
     "output_type": "stream",
     "text": [
      "failed on https://www.thegwpf.org/content/uploads/2019/02/PNAS-Complaint_010219.pdf\n"
     ]
    },
    {
     "name": "stderr",
     "output_type": "stream",
     "text": [
      " 91%|████████████████████████████████████████████████▏    | 270/297 [33:23<01:15,  2.81s/it]"
     ]
    },
    {
     "name": "stdout",
     "output_type": "stream",
     "text": [
      "failed on http://www.indiaenvironmentportal.org.in/files/file/global%20temperature%20trends.pdf\n"
     ]
    },
    {
     "name": "stderr",
     "output_type": "stream",
     "text": [
      " 92%|████████████████████████████████████████████████▌    | 272/297 [33:28<01:03,  2.54s/it]"
     ]
    },
    {
     "name": "stdout",
     "output_type": "stream",
     "text": [
      "failed on http://www2.ametsoc.org/ams/assets/File/publications/BAMS_EEE_2013_Full_Report_high_res.pdf\n",
      "failed on http://www.gwpf.net/content/uploads/2013/11/Khandekar-Extreme-Weather.pdf\n"
     ]
    },
    {
     "name": "stderr",
     "output_type": "stream",
     "text": [
      " 94%|█████████████████████████████████████████████████▊   | 279/297 [33:40<00:36,  2.04s/it]"
     ]
    },
    {
     "name": "stdout",
     "output_type": "stream",
     "text": [
      "failed on http://www.gwpf.net/content/uploads/2013/03/Nurse.pdf\n",
      "failed on http://www.gwpf.net/content/uploads/2013/03/Lawson-Nurse.pdf\n"
     ]
    },
    {
     "name": "stderr",
     "output_type": "stream",
     "text": [
      " 95%|██████████████████████████████████████████████████▎  | 282/297 [33:43<00:22,  1.51s/it]"
     ]
    },
    {
     "name": "stdout",
     "output_type": "stream",
     "text": [
      "failed on http://www.gwpf.net/content/uploads/2013/05/Sir-Paul-Nurse-to-NL_30Apr13.pdf\n",
      "failed on http://www.gwpf.net/content/uploads/2013/05/RS-Invitations.pdf\n",
      "failed on http://www.gwpf.net/content/uploads/2013/05/Sir-Paul-Nurse-March2013.pdf\n",
      "failed on http://www.gwpf.net/content/uploads/2013/05/GWPF-Background-Paper.pdf\n",
      "failed on http://www.gwpf.net/content/uploads/2012/12/GWPF-letter-to-Lord-Hall.pdf\n",
      "failed on http://www.gwpf.net/content/uploads/2012/10/Letter-to-Lord-Patten-29-October2012.pdf\n",
      "failed on http://www.metoffice.gov.uk/media/pdf/j/j/global_temperatures_09.pdf\n"
     ]
    },
    {
     "name": "stderr",
     "output_type": "stream",
     "text": [
      "100%|████████████████████████████████████████████████████▊| 296/297 [34:01<00:01,  1.88s/it]"
     ]
    },
    {
     "name": "stdout",
     "output_type": "stream",
     "text": [
      "failed on https://www.thegwpf.org/content/uploads/2023/09/gwpf-open-peer-review-Kelly-et-al-Review-Draft.pdf\n"
     ]
    },
    {
     "name": "stderr",
     "output_type": "stream",
     "text": [
      "100%|█████████████████████████████████████████████████████| 297/297 [34:04<00:00,  6.88s/it]\n"
     ]
    }
   ],
   "source": [
    "#|export\n",
    "for key in tqdm(file_links):\n",
    "    try:\n",
    "        m = get_pdf_metadata(extract_text_from_first_n_pages(file_links[key]['file_path'], 5))\n",
    "        file_links[key]['title'] = m['title']\n",
    "        file_links[key]['authors'] = m['authors']\n",
    "        file_links[key]['organisation'] = m['organisation']\n",
    "        file_links[key]['date'] = m['date']\n",
    "        file_links[key]['keywords'] = m['keywords']\n",
    "        file_links[key]['funders'] = m['funders']\n",
    "    except:\n",
    "        print(f\"failed on {key}\")"
   ]
  },
  {
   "cell_type": "code",
   "execution_count": null,
   "id": "19651438-6c9b-4853-b065-fdbc90068a86",
   "metadata": {},
   "outputs": [],
   "source": [
    "#|export\n",
    "pub_metadata = pd.DataFrame([file_links[key] for key in file_links]).dropna()"
   ]
  },
  {
   "cell_type": "code",
   "execution_count": null,
   "id": "d22089b4-5728-4e65-968c-0c358fcaf1cc",
   "metadata": {},
   "outputs": [],
   "source": [
    "#|export\n",
    "pub_metadata.to_csv(f'{const.pre_output_path}/pub_metadata.csv', index=False)"
   ]
  },
  {
   "cell_type": "code",
   "execution_count": null,
   "id": "735a8fe7-cde9-4e4b-a1ab-10ee7d754ee7",
   "metadata": {},
   "outputs": [],
   "source": []
  }
 ],
 "metadata": {
  "kernelspec": {
   "display_name": "python3",
   "language": "python",
   "name": "python3"
  }
 },
 "nbformat": 4,
 "nbformat_minor": 5
}
