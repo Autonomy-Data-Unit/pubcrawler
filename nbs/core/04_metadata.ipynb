{
 "cells": [
  {
   "cell_type": "markdown",
   "id": "6c6fca1b-c8cf-449c-9d5c-d8bb10d890ff",
   "metadata": {},
   "source": [
    "# 04 Get Metadata\n",
    "\n",
    "> Get medata from files."
   ]
  },
  {
   "cell_type": "code",
   "execution_count": null,
   "id": "33d30996-0eaa-4130-8f1d-a8c395d089de",
   "metadata": {},
   "outputs": [],
   "source": [
    "#|default_exp core.04_metadata"
   ]
  },
  {
   "cell_type": "code",
   "execution_count": null,
   "id": "5d954f1d-5e1b-44f9-bf9c-86be2ec2d202",
   "metadata": {},
   "outputs": [],
   "source": [
    "#|hide\n",
    "import nbdev; nbdev.nbdev_export()"
   ]
  },
  {
   "cell_type": "code",
   "execution_count": null,
   "id": "ef5c2ab3-3206-4809-a60b-d2742f5c5ac4",
   "metadata": {},
   "outputs": [],
   "source": [
    "#|hide\n",
    "from nbdev.showdoc import show_doc"
   ]
  },
  {
   "cell_type": "code",
   "execution_count": null,
   "id": "86bf1d1d-d0ad-4369-97dc-66aaafa920cc",
   "metadata": {},
   "outputs": [],
   "source": [
    "#|export\n",
    "import pubcrawler as proj\n",
    "from pubcrawler import const, log, utils, tools\n",
    "import adu_proj.utils as adutils"
   ]
  },
  {
   "cell_type": "code",
   "execution_count": null,
   "id": "2c47b2cb-daa3-478e-becc-642b9ca89541",
   "metadata": {},
   "outputs": [],
   "source": [
    "#|export\n",
    "import json\n",
    "import PyPDF2\n",
    "from openai import OpenAI\n",
    "from dotenv import load_dotenv\n",
    "import os\n",
    "from tqdm import tqdm\n",
    "import pandas as pd\n",
    "import functools\n",
    "import time\n",
    "import signal\n",
    "from functools import wraps"
   ]
  },
  {
   "cell_type": "code",
   "execution_count": null,
   "id": "34affa9d-5401-427c-9fe5-3a1fcdba180a",
   "metadata": {},
   "outputs": [],
   "source": [
    "#|export\n",
    "load_dotenv()\n",
    "API_KEY = os.getenv(\"OPENAI_API_KEY\")\n",
    "client = OpenAI(\n",
    "    api_key=API_KEY,\n",
    ")"
   ]
  },
  {
   "cell_type": "markdown",
   "id": "8852ec69-3bf6-4b2d-a3e2-33f13c97f72d",
   "metadata": {},
   "source": [
    "We will attempt to get metadata from each file. Currently this script assumes the file is a pdf although in the future its possible to add new methods here for extracting data from different file types. \n",
    "\n",
    "Passing entire documents to an LLM can be expensive so we instead only pass a subsection (first 5 pages). "
   ]
  },
  {
   "cell_type": "code",
   "execution_count": null,
   "id": "a8b9bd3e-98ba-4a5d-9bde-9029f922eccc",
   "metadata": {},
   "outputs": [],
   "source": [
    "#|export\n",
    "with open(f'{const.pre_output_path}/data_files.json', 'r') as f:\n",
    "    file_links = json.load(f)"
   ]
  },
  {
   "cell_type": "code",
   "execution_count": null,
   "id": "5b43ccf0-bc09-4e5e-8c77-4b38add7c281",
   "metadata": {},
   "outputs": [],
   "source": [
    "#|export\n",
    "def extract_text_from_first_n_pages(filepath, n):\n",
    "    text = \"\"\n",
    "    with open(filepath, 'rb') as file:\n",
    "        reader = PyPDF2.PdfReader(file)\n",
    "        for i in range(min(n, len(reader.pages))):\n",
    "            page = reader.pages[i]\n",
    "            text += page.extract_text()\n",
    "    return text"
   ]
  },
  {
   "cell_type": "markdown",
   "id": "0190c1d8-850e-4011-8868-eb37f9e9da17",
   "metadata": {},
   "source": [
    "Lets now get metadata from this section of pdf via function calling:"
   ]
  },
  {
   "cell_type": "code",
   "execution_count": null,
   "id": "d6cf7d1f-d4b4-4b87-a6ad-fff3f958cfc9",
   "metadata": {},
   "outputs": [],
   "source": [
    "#|export\n",
    "class TimeoutException(Exception):\n",
    "    pass\n",
    "\n",
    "def timeout_handler(signum, frame):\n",
    "    raise TimeoutException\n",
    "\n",
    "def retry_on_timeout(retries=3, timeout=30):\n",
    "    def decorator(func):\n",
    "        @wraps(func)\n",
    "        def wrapper(*args, **kwargs):\n",
    "            for _ in range(retries):\n",
    "                try:\n",
    "                    signal.signal(signal.SIGALRM, timeout_handler)\n",
    "                    signal.alarm(timeout)\n",
    "                    result = func(*args, **kwargs)\n",
    "                    signal.alarm(0)  # Reset the alarm\n",
    "                    return result\n",
    "                except TimeoutException:\n",
    "                    print(f\"Function {func.__name__} timed out, retrying...\")\n",
    "                finally:\n",
    "                    signal.alarm(0)  # Ensure the alarm is cleared\n",
    "            raise TimeoutException(f\"Function {func.__name__} failed after {retries} retries\")\n",
    "        return wrapper\n",
    "    return decorator"
   ]
  },
  {
   "cell_type": "code",
   "execution_count": null,
   "id": "6be402fc-cac2-4d84-860a-1b5f20a04d66",
   "metadata": {},
   "outputs": [],
   "source": [
    "#|export\n",
    "@retry_on_timeout(retries=2, timeout=30)\n",
    "def get_pdf_metadata(report_text):\n",
    "    functions = [{\n",
    "            \"name\": \"generate_citation\",\n",
    "            \"description\": \"Generate a citation for report\",\n",
    "            \"parameters\": {\n",
    "                \"type\": \"object\",\n",
    "                \"properties\": {\n",
    "                    \"title\": {\n",
    "                        \"type\": \"string\",\n",
    "                        \"description\": \"Report title. If unknown leave empty\",\n",
    "                    },\n",
    "                    \"authors\": {\n",
    "                        \"type\": \"array\",\n",
    "                        \"description\": \"Array of the author's full names. If unknown leave empty\",\n",
    "                        \"items\": {\n",
    "                                \"description\": \"Author's full name\",\n",
    "                                \"type\": \"string\"\n",
    "                            }\n",
    "                    },\n",
    "                    \"organisation\": {\n",
    "                        \"type\": \"array\",\n",
    "                        \"description\": \"Array containing the names of the research organisations that produced the report. If unknown leave empty\",\n",
    "                        \"items\": {\n",
    "                                \"description\": \"Research organisation's name\",\n",
    "                                \"type\": \"string\"\n",
    "                            }\n",
    "                    },\n",
    "                    \"date\": {\n",
    "                        \"type\": \"string\",\n",
    "                        \"description\": \"Date the report was published on. Try to find the day, month and year. If unknown leave empty\",\n",
    "                    },\n",
    "                    \"keywords\": {\n",
    "                        \"type\": \"array\",\n",
    "                        \"description\": \"Array of keywords that indicate the content of the report. If unknown leave empty\",\n",
    "                        \"items\": {\n",
    "                                \"description\": \"Keyword title ie 'feminism'\",\n",
    "                                \"type\": \"string\"\n",
    "                            }\n",
    "                    },\n",
    "                    \"funders\": {\n",
    "                        \"type\": \"array\",\n",
    "                        \"description\": \"Array of organisations that provided funding or financial support. If unknown leave empty\",\n",
    "                        \"items\": {\n",
    "                                \"description\": \"Name of funding organisation\",\n",
    "                                \"type\": \"string\"\n",
    "                            }\n",
    "                    }\n",
    "                },\n",
    "                \"required\": [\"title\", \"authors\", \"organisation\", \"date\", \"keywords\", \"funders\"]\n",
    "            },\n",
    "        }]\n",
    "    messages = []\n",
    "    messages.append({\"role\": \"system\", \"content\": \"Don't make assumptions about what values to plug into functions. Ask for clarification if a user request is ambiguous.\"})\n",
    "    messages.append({\"role\": \"user\", \"content\": f\"Generate a citation for the report based on the following excerpt: {report_text}\"})\n",
    "    chat_response = client.chat.completions.create(\n",
    "        messages=messages, functions=functions, model='gpt-4'\n",
    "    )\n",
    "    assistant_response = json.loads(chat_response.choices[0].message.function_call.arguments)\n",
    "    return assistant_response    "
   ]
  },
  {
   "cell_type": "markdown",
   "id": "044d29b0-ab3f-4f3f-81be-36352e05f7a9",
   "metadata": {},
   "source": [
    "Now we can loop through all the files getting metadata:"
   ]
  },
  {
   "cell_type": "code",
   "execution_count": null,
   "id": "8b1e5a03-8557-4b04-9311-1305fbfa9a53",
   "metadata": {},
   "outputs": [
    {
     "name": "stderr",
     "output_type": "stream",
     "text": [
      " 12%|██████▌                                               | 23/190 [04:36<41:02, 14.74s/it]"
     ]
    },
    {
     "name": "stdout",
     "output_type": "stream",
     "text": [
      "failed on https://www.homeless.org.uk/sites/default/files/site-attachments/Homeless%20Link%20and%20St%20Mungo%20briefing%20on%20Universal%20Credit%20-%20money%20management%20debate.pdf\n",
      "failed on https://hummedia.manchester.ac.uk/institutes/cresc/research/WDTMG%20FINAL%20-01-3-2016.pdf\n"
     ]
    },
    {
     "name": "stderr",
     "output_type": "stream",
     "text": [
      " 17%|█████████▍                                            | 33/190 [05:58<31:13, 11.93s/it]"
     ]
    },
    {
     "name": "stdout",
     "output_type": "stream",
     "text": [
      "failed on https://orca.cf.ac.uk/18439/1/Quality%20%26%20Independence%20of%20British%20Journalism.pdf\n"
     ]
    },
    {
     "name": "stderr",
     "output_type": "stream",
     "text": [
      " 28%|███████████████                                       | 53/190 [09:06<25:49, 11.31s/it]"
     ]
    },
    {
     "name": "stdout",
     "output_type": "stream",
     "text": [
      "failed on https://www.climatechangecommunication.org/wp-content/uploads/2019/10/America_Misled.pdf\n"
     ]
    },
    {
     "name": "stderr",
     "output_type": "stream",
     "text": [
      " 32%|█████████████████                                     | 60/190 [10:12<20:19,  9.38s/it]"
     ]
    },
    {
     "name": "stdout",
     "output_type": "stream",
     "text": [
      "failed on http://www.fatherhoodinstitute.org/wp-content/uploads/2021/05/Lockdown-Fathers-Full-Report.pdf\n"
     ]
    },
    {
     "name": "stderr",
     "output_type": "stream",
     "text": [
      " 33%|█████████████████▉                                    | 63/190 [10:40<20:11,  9.54s/it]"
     ]
    },
    {
     "name": "stdout",
     "output_type": "stream",
     "text": [
      "failed on https://static1.squarespace.com/static/6281708e8ff18c23842b1d0b/t/6283204b3556a5125ce13b37/1652760661661/The+Carbon+Bankroll+Report+%285-17-2022%29.pdf\n"
     ]
    },
    {
     "name": "stderr",
     "output_type": "stream",
     "text": [
      " 34%|██████████████████▍                                   | 65/190 [10:50<16:01,  7.69s/it]"
     ]
    },
    {
     "name": "stdout",
     "output_type": "stream",
     "text": [
      "failed on http://www.bath.ac.uk/cds/publications/bdp55.pdf\n"
     ]
    },
    {
     "name": "stderr",
     "output_type": "stream",
     "text": [
      " 44%|███████████████████████▊                              | 84/190 [14:11<16:14,  9.19s/it]"
     ]
    },
    {
     "name": "stdout",
     "output_type": "stream",
     "text": [
      "failed on https://economicsecurityproject.org/wp-content/uploads/2303-Cash-Policy-Talking-Points.pdf\n"
     ]
    },
    {
     "name": "stderr",
     "output_type": "stream",
     "text": [
      " 47%|█████████████████████████▎                            | 89/190 [15:54<31:38, 18.80s/it]"
     ]
    },
    {
     "name": "stdout",
     "output_type": "stream",
     "text": [
      "failed on https://autonomy.work/wp-content/uploads/2023/02/4DW-UK-pilot.pdf\n"
     ]
    },
    {
     "name": "stderr",
     "output_type": "stream",
     "text": [
      " 55%|█████████████████████████████▎                       | 105/190 [18:51<28:12, 19.91s/it]"
     ]
    },
    {
     "name": "stdout",
     "output_type": "stream",
     "text": [
      "failed on https://www.feps-europe.eu/attachments/publications/platform%20work%20in%20the%20uk%202016-2019%20v3-converted.pdf\n"
     ]
    },
    {
     "name": "stderr",
     "output_type": "stream",
     "text": [
      " 57%|██████████████████████████████▏                      | 108/190 [19:07<15:26, 11.30s/it]"
     ]
    },
    {
     "name": "stdout",
     "output_type": "stream",
     "text": [
      "failed on https://publications.parliament.uk/pa/ld201213/ldselect/ldpublic/140/140.pdf\n",
      "failed on https://www.hse.gov.uk/statistics/causdis/stress.pdf\n"
     ]
    },
    {
     "name": "stderr",
     "output_type": "stream",
     "text": [
      " 58%|██████████████████████████████▉                      | 111/190 [19:08<07:29,  5.69s/it]"
     ]
    },
    {
     "name": "stdout",
     "output_type": "stream",
     "text": [
      "failed on https://autonomy.work/wp-content/uploads/2020/10/FINAL-Platforms-We-Need-Platforms-We-Want.pdf\n"
     ]
    },
    {
     "name": "stderr",
     "output_type": "stream",
     "text": [
      " 59%|███████████████████████████████▏                     | 112/190 [19:19<08:38,  6.65s/it]"
     ]
    },
    {
     "name": "stdout",
     "output_type": "stream",
     "text": [
      "failed on https://www.compassonline.org.uk/wp-content/uploads/2019/03/Compass_BasicIncomeForAll_2019.pdf\n"
     ]
    },
    {
     "name": "stderr",
     "output_type": "stream",
     "text": [
      " 62%|████████████████████████████████▋                    | 117/190 [20:15<13:23, 11.01s/it]"
     ]
    },
    {
     "name": "stdout",
     "output_type": "stream",
     "text": [
      "failed on https://progressiveeconomyforum.com/wp-content/uploads/2019/08/PEF_Skidelsky_How_to_achieve_shorter_working_hours.pdf\n",
      "failed on http://www.carersuk.org/images/News__campaigns/CUK_State_of_Caring_2019_Report.pdf\n",
      "failed on https://www.skillsforcare.org.uk/adult-social-care-workforce-data/Workforce-intelligence/documents/State-of-the-adult-social-care-sector/State-of-Report-2019.pdf\n"
     ]
    },
    {
     "name": "stderr",
     "output_type": "stream",
     "text": [
      " 72%|██████████████████████████████████████▏              | 137/190 [24:13<11:45, 13.30s/it]"
     ]
    },
    {
     "name": "stdout",
     "output_type": "stream",
     "text": [
      "failed on http://www.hse.gov.uk/statistics/causdis/stress.pdf\n"
     ]
    },
    {
     "name": "stderr",
     "output_type": "stream",
     "text": [
      " 74%|███████████████████████████████████████              | 140/190 [24:37<08:46, 10.53s/it]"
     ]
    },
    {
     "name": "stdout",
     "output_type": "stream",
     "text": [
      "failed on https://www2.deloitte.com/content/dam/Deloitte/uk/Documents/public-sector/deloitte-uk-mental-health-employers-monitor-deloitte-oct-2017.pdf\n",
      "failed on http://eprints.whiterose.ac.uk/125589/3/VERSION%20FOR%20ARCHIVING.pdf\n",
      "failed on https://www.greenparty.org.uk/assets/files/Elections/Green%20Party%20Manifesto%202019.pdf\n",
      "failed on https://assets-global.website-files.com/5da42e2cae7ebd3f8bde353c/5dda924905da587992a064ba_Conservative%202019%20Manifesto.pdf\n"
     ]
    },
    {
     "name": "stderr",
     "output_type": "stream",
     "text": [
      " 77%|████████████████████████████████████████▋            | 146/190 [24:57<04:14,  5.79s/it]"
     ]
    },
    {
     "name": "stdout",
     "output_type": "stream",
     "text": [
      "failed on https://www.nfer.ac.uk/publications/NUFS05/NUFS05.pdf\n"
     ]
    },
    {
     "name": "stderr",
     "output_type": "stream",
     "text": [
      " 79%|█████████████████████████████████████████▊           | 150/190 [25:47<07:47, 11.69s/it]"
     ]
    },
    {
     "name": "stdout",
     "output_type": "stream",
     "text": [
      "failed on http://www.labour.org.uk/page/-/PDFs/9472_Alternative%20Models%20of%20Ownership%20all_v4.pdf\n"
     ]
    },
    {
     "name": "stderr",
     "output_type": "stream",
     "text": [
      " 83%|████████████████████████████████████████████         | 158/190 [26:58<05:40, 10.65s/it]"
     ]
    },
    {
     "name": "stdout",
     "output_type": "stream",
     "text": [
      "failed on https://www.release.org.uk/sites/default/files/pdf/publications/SEX_WORKERS_%26_THE_LAW_2017.pdf\n"
     ]
    },
    {
     "name": "stderr",
     "output_type": "stream",
     "text": [
      " 86%|█████████████████████████████████████████████▍       | 163/190 [27:38<04:10,  9.28s/it]"
     ]
    },
    {
     "name": "stdout",
     "output_type": "stream",
     "text": [
      "failed on http://libcom.org/files/Queering%20Anarchism,%20Essays%20on%20Gender,%20Power%20and%20Desire%20-%20Deric%20Shannon,%20Abbey%20Volcano%20et%20al.pdf\n",
      "failed on https://www.cambridge.org/core/services/aop-cambridge-core/content/view/7B5E10EEC0F410D3A52371CC099D6445/9781108471930c5_69-82.pdf/sex_work_in_a_postwork_imaginary_on_abolitionism_careerism_and_respectability.pdf\n"
     ]
    },
    {
     "name": "stderr",
     "output_type": "stream",
     "text": [
      " 89%|███████████████████████████████████████████████▏     | 169/190 [28:15<02:37,  7.52s/it]"
     ]
    },
    {
     "name": "stdout",
     "output_type": "stream",
     "text": [
      "failed on https://www.livingwage.org.uk/sites/default/files/Living%20Hours%20Final%20Report%20110619.pdf\n"
     ]
    },
    {
     "name": "stderr",
     "output_type": "stream",
     "text": [
      " 91%|████████████████████████████████████████████████▎    | 173/190 [28:37<01:49,  6.43s/it]"
     ]
    },
    {
     "name": "stdout",
     "output_type": "stream",
     "text": [
      "failed on http://www.hse.gov.uk/statistics/overall/hssh1718.pdf\n",
      "failed on http://www.compassonline.org.uk/wp-content/uploads/2019/03/Compass_BasicIncomeForAll_2019.pdf\n"
     ]
    },
    {
     "name": "stderr",
     "output_type": "stream",
     "text": [
      " 95%|██████████████████████████████████████████████████▏  | 180/190 [29:28<01:18,  7.88s/it]"
     ]
    },
    {
     "name": "stdout",
     "output_type": "stream",
     "text": [
      "failed on http://www.autonomyinstitute.org/wp-content/uploads/2017/07/Work-and-gender-V6.pdf\n"
     ]
    },
    {
     "name": "stderr",
     "output_type": "stream",
     "text": [
      " 97%|███████████████████████████████████████████████████▌ | 185/190 [30:03<00:40,  8.10s/it]"
     ]
    },
    {
     "name": "stdout",
     "output_type": "stream",
     "text": [
      "failed on http://www.datascienceassn.org/sites/default/files/The%20Scored%20Society%20-%20Due%20Process%20for%20Automated%20Predictions.pdf\n"
     ]
    },
    {
     "name": "stderr",
     "output_type": "stream",
     "text": [
      "100%|█████████████████████████████████████████████████████| 190/190 [30:31<00:00,  9.64s/it]"
     ]
    },
    {
     "name": "stdout",
     "output_type": "stream",
     "text": [
      "failed on http://www.autonomyinstitute.org/wp-content/uploads/2017/07/Precarious-work-V8.pdf\n",
      "failed on http://www.autonomyinstitute.org/wp-content/uploads/2017/07/Automation-V5.pdf\n"
     ]
    },
    {
     "name": "stderr",
     "output_type": "stream",
     "text": [
      "\n"
     ]
    }
   ],
   "source": [
    "#|export\n",
    "for key in tqdm(file_links):\n",
    "    try:\n",
    "        m = get_pdf_metadata(extract_text_from_first_n_pages(file_links[key]['file_path'], 5))\n",
    "        file_links[key]['title'] = m['title']\n",
    "        file_links[key]['authors'] = m['authors']\n",
    "        file_links[key]['organisation'] = m['organisation']\n",
    "        file_links[key]['date'] = m['date']\n",
    "        file_links[key]['keywords'] = m['keywords']\n",
    "        file_links[key]['funders'] = m['funders']\n",
    "    except:\n",
    "        print(f\"failed on {key}\")"
   ]
  },
  {
   "cell_type": "code",
   "execution_count": null,
   "id": "19651438-6c9b-4853-b065-fdbc90068a86",
   "metadata": {},
   "outputs": [],
   "source": [
    "#|export\n",
    "pub_metadata = pd.DataFrame([file_links[key] for key in file_links]).dropna()"
   ]
  },
  {
   "cell_type": "code",
   "execution_count": null,
   "id": "d22089b4-5728-4e65-968c-0c358fcaf1cc",
   "metadata": {},
   "outputs": [],
   "source": [
    "#|export\n",
    "pub_metadata.to_csv(f'{const.pre_output_path}/pub_metadata.csv', index=False)"
   ]
  },
  {
   "cell_type": "code",
   "execution_count": null,
   "id": "735a8fe7-cde9-4e4b-a1ab-10ee7d754ee7",
   "metadata": {},
   "outputs": [],
   "source": []
  }
 ],
 "metadata": {
  "kernelspec": {
   "display_name": "python3",
   "language": "python",
   "name": "python3"
  }
 },
 "nbformat": 4,
 "nbformat_minor": 5
}
