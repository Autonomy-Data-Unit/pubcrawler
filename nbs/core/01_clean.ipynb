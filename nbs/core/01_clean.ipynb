{
 "cells": [
  {
   "cell_type": "markdown",
   "id": "6c6fca1b-c8cf-449c-9d5c-d8bb10d890ff",
   "metadata": {},
   "source": [
    "# 01 Clean Directory\n",
    "\n",
    "> Removes all files from `const.pre_output_path`"
   ]
  },
  {
   "cell_type": "code",
   "execution_count": null,
   "id": "33d30996-0eaa-4130-8f1d-a8c395d089de",
   "metadata": {},
   "outputs": [],
   "source": [
    "#|default_exp core.01_clear_dir"
   ]
  },
  {
   "cell_type": "code",
   "execution_count": null,
   "id": "5d954f1d-5e1b-44f9-bf9c-86be2ec2d202",
   "metadata": {},
   "outputs": [],
   "source": [
    "#|hide\n",
    "import nbdev; nbdev.nbdev_export()"
   ]
  },
  {
   "cell_type": "code",
   "execution_count": null,
   "id": "ef5c2ab3-3206-4809-a60b-d2742f5c5ac4",
   "metadata": {},
   "outputs": [],
   "source": [
    "#|hide\n",
    "from nbdev.showdoc import show_doc"
   ]
  },
  {
   "cell_type": "code",
   "execution_count": null,
   "id": "86bf1d1d-d0ad-4369-97dc-66aaafa920cc",
   "metadata": {},
   "outputs": [],
   "source": [
    "#|export\n",
    "import pubcrawler as proj\n",
    "from pubcrawler import const, log, utils, tools\n",
    "import adu_proj.utils as adutils"
   ]
  },
  {
   "cell_type": "code",
   "execution_count": null,
   "id": "cd47c82a-8285-4ed0-92fc-03e136c70171",
   "metadata": {},
   "outputs": [],
   "source": [
    "#|export\n",
    "import os\n",
    "import shutil"
   ]
  },
  {
   "cell_type": "code",
   "execution_count": null,
   "id": "7a15e029-52f8-4671-9a09-c32a5b104da1",
   "metadata": {},
   "outputs": [],
   "source": [
    "#|export\n",
    "def delete_all_files_from_dir(target_dir):\n",
    "    # Ensure the directory exists\n",
    "    if not os.path.exists(target_dir):\n",
    "        print(\"The specified directory does not exist.\")\n",
    "        return\n",
    "    # Loop through all the files and subdirectories in the target directory\n",
    "    for filename in os.listdir(target_dir):\n",
    "        file_path = os.path.join(target_dir, filename)\n",
    "        try:\n",
    "            # If it's a directory, use shutil.rmtree to delete it and its contents\n",
    "            if os.path.isdir(file_path):\n",
    "                shutil.rmtree(file_path)\n",
    "            # If it's a file, use os.unlink (or os.remove) to delete it\n",
    "            else:\n",
    "                os.unlink(file_path)\n",
    "        except Exception as e:\n",
    "            print(\"Failed to delete %s. Reason: %s\" % (file_path, e))"
   ]
  },
  {
   "cell_type": "code",
   "execution_count": null,
   "id": "a17cd90d-8e1e-46f6-b11d-289bce645122",
   "metadata": {},
   "outputs": [],
   "source": [
    "#|export\n",
    "delete_all_files_from_dir(const.pre_output_path)"
   ]
  },
  {
   "cell_type": "code",
   "execution_count": null,
   "id": "8044387c-8bf1-4675-b88a-4d7790c39120",
   "metadata": {},
   "outputs": [],
   "source": []
  }
 ],
 "metadata": {
  "kernelspec": {
   "display_name": "python3",
   "language": "python",
   "name": "python3"
  }
 },
 "nbformat": 4,
 "nbformat_minor": 5
}
