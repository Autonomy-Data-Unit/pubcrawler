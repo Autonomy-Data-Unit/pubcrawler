{
 "cells": [
  {
   "cell_type": "markdown",
   "id": "d4c34d40-208a-4cdb-beb7-c8b448769293",
   "metadata": {},
   "source": [
    "# General utility functions"
   ]
  },
  {
   "cell_type": "markdown",
   "id": "9b510326-b038-4da6-84fd-78f864663a2c",
   "metadata": {},
   "source": [
    "Top-level utility functions. All functions defined here are found in the top-level `utils` sub-module (see `utils/__init__.py`)"
   ]
  },
  {
   "cell_type": "code",
   "execution_count": null,
   "id": "0d2f252e-6a1b-40db-b8f8-e772a421b680",
   "metadata": {},
   "outputs": [],
   "source": [
    "#|default_exp utils.general"
   ]
  },
  {
   "cell_type": "code",
   "execution_count": null,
   "id": "307156e9-8079-4d6a-bc5f-36183cfd651a",
   "metadata": {},
   "outputs": [],
   "source": [
    "#|hide\n",
    "import nbdev; nbdev.nbdev_export()"
   ]
  },
  {
   "cell_type": "code",
   "execution_count": null,
   "id": "d41c81f4-0a1c-4b08-a287-976712b02dc8",
   "metadata": {},
   "outputs": [],
   "source": [
    "#|hide\n",
    "from nbdev.showdoc import show_doc"
   ]
  },
  {
   "cell_type": "code",
   "execution_count": null,
   "id": "ecf9adc2-2467-459c-9cb6-b44651c260f6",
   "metadata": {},
   "outputs": [],
   "source": [
    "#|export\n",
    "import adu_template_main as proj\n",
    "from adu_template_main import const, log, utils, tools\n",
    "import adu_proj.utils as adutils"
   ]
  },
  {
   "cell_type": "code",
   "execution_count": null,
   "id": "ad374d1c-e860-4ca3-b226-f937fa1e3c59",
   "metadata": {},
   "outputs": [
    {
     "data": {
      "text/markdown": [
       "---\n",
       "\n",
       "[source](https://github.com/Autonomy-Data-Unit/adu-template-main/blob/main/adu_template_main/utils/general.py#LNone){target=\"_blank\" style=\"float:right; font-size:smaller\"}\n",
       "\n",
       "### hello_world\n",
       "\n",
       ">      hello_world ()"
      ],
      "text/plain": [
       "---\n",
       "\n",
       "[source](https://github.com/Autonomy-Data-Unit/adu-template-main/blob/main/adu_template_main/utils/general.py#LNone){target=\"_blank\" style=\"float:right; font-size:smaller\"}\n",
       "\n",
       "### hello_world\n",
       "\n",
       ">      hello_world ()"
      ]
     },
     "execution_count": null,
     "metadata": {},
     "output_type": "execute_result"
    }
   ],
   "source": [
    "#|hide\n",
    "show_doc(utils.hello_world)"
   ]
  },
  {
   "cell_type": "code",
   "execution_count": null,
   "id": "923b244c-ca5f-408d-bb0a-dda345fd9f72",
   "metadata": {},
   "outputs": [],
   "source": [
    "#|export\n",
    "def hello_world():\n",
    "    print('Hello world!')"
   ]
  },
  {
   "cell_type": "markdown",
   "id": "219576e5-4287-4e4e-b22f-2f4e8320cff6",
   "metadata": {},
   "source": [
    "::: {.callout-note collapse=\"true\"}\n",
    "\n",
    "##### Examples"
   ]
  },
  {
   "cell_type": "code",
   "execution_count": null,
   "id": "62a48e8f-c1cd-4b3b-8cc3-728b9b15cdd0",
   "metadata": {},
   "outputs": [
    {
     "name": "stdout",
     "output_type": "stream",
     "text": [
      "Hello world!\n"
     ]
    }
   ],
   "source": [
    "hello_world()"
   ]
  },
  {
   "cell_type": "markdown",
   "id": "d92dc150-7c74-4177-b0cb-b6ea1f6e65aa",
   "metadata": {},
   "source": [
    ":::"
   ]
  }
 ],
 "metadata": {
  "kernelspec": {
   "display_name": "python3",
   "language": "python",
   "name": "python3"
  }
 },
 "nbformat": 4,
 "nbformat_minor": 5
}
