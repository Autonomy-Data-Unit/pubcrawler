{
 "cells": [
  {
   "cell_type": "markdown",
   "metadata": {},
   "source": [
    "# adu-template-main\n",
    "\n",
    "> Short description of the project"
   ]
  },
  {
   "cell_type": "code",
   "execution_count": null,
   "metadata": {},
   "outputs": [],
   "source": [
    "#|hide\n",
    "import nbdev; nbdev.nbdev_export()"
   ]
  },
  {
   "cell_type": "code",
   "execution_count": null,
   "metadata": {},
   "outputs": [],
   "source": [
    "#|hide\n",
    "from nbdev.showdoc import show_doc"
   ]
  },
  {
   "cell_type": "code",
   "execution_count": null,
   "metadata": {},
   "outputs": [],
   "source": [
    "#|hide\n",
    "import adu_template_main as proj\n",
    "from adu_template_main import const, log, utils, tools\n",
    "import adu_proj.utils as adutils"
   ]
  },
  {
   "cell_type": "markdown",
   "metadata": {},
   "source": [
    "## Description\n",
    "\n",
    "Replace this with a project description."
   ]
  },
  {
   "cell_type": "markdown",
   "metadata": {},
   "source": [
    "## Data sources\n",
    "\n",
    "<table width=100%>\n",
    "    <thead>\n",
    "        <tr>\n",
    "            <th>Name</th> <th>Path</th> <th>Source</th>\n",
    "        </tr>\n",
    "    </thead>\n",
    "    <tbody>\n",
    "        <tr>\n",
    "            <td rowspan=2>Some data files</td>\n",
    "            <td>adu_template_main/store/data/data1.npy</td>\n",
    "            <td rowspan=2><a href=\"https://www.google.com/\" target=\"_blank\">Link</a></td>\n",
    "        </tr>\n",
    "        <tr>\n",
    "            <td>adu_template_main/store/data/data2.npy</td>\n",
    "        </tr>\n",
    "        <tr>\n",
    "            <td>Test data</td>\n",
    "            <td>adu_template_main/store/data/test_data</td>\n",
    "            <td><a href=\"https://www.google.com/\" target=\"_blank\">Link</a></td>\n",
    "        </tr>\n",
    "    </tbody>\n",
    "</table>"
   ]
  },
  {
   "cell_type": "markdown",
   "metadata": {},
   "source": [
    "## How to use"
   ]
  },
  {
   "cell_type": "code",
   "execution_count": null,
   "metadata": {},
   "outputs": [],
   "source": [
    "import adu_template_main as proj"
   ]
  },
  {
   "cell_type": "markdown",
   "metadata": {},
   "source": [
    "#### Execute core scripts"
   ]
  },
  {
   "cell_type": "code",
   "execution_count": null,
   "metadata": {},
   "outputs": [
    {
     "name": "stdout",
     "output_type": "stream",
     "text": [
      "#########################################\n",
      "# adu_template_main.core.01_first_steps #\n",
      "#########################################\n",
      "Doing some stuff\n"
     ]
    }
   ],
   "source": [
    "proj.core.run_all()"
   ]
  },
  {
   "cell_type": "markdown",
   "metadata": {},
   "source": [
    "#### Command-line interface\n",
    "\n",
    "*Note: You need to activate the conda environment first.*"
   ]
  },
  {
   "cell_type": "markdown",
   "metadata": {},
   "source": [
    "List of commands"
   ]
  },
  {
   "cell_type": "code",
   "execution_count": null,
   "metadata": {},
   "outputs": [
    {
     "name": "stdout",
     "output_type": "stream",
     "text": [
      "Commands:\n",
      "   core\n",
      "   foo\n"
     ]
    }
   ],
   "source": [
    "!python -m adu_template_main.cli"
   ]
  },
  {
   "cell_type": "markdown",
   "metadata": {},
   "source": [
    "Execute commands"
   ]
  },
  {
   "cell_type": "code",
   "execution_count": null,
   "metadata": {},
   "outputs": [
    {
     "name": "stdout",
     "output_type": "stream",
     "text": [
      "#########################################\n",
      "# adu_template_main.core.01_first_steps #\n",
      "#########################################\n",
      "Doing some stuff\n"
     ]
    }
   ],
   "source": [
    "!python -m adu_template_main.cli.core"
   ]
  },
  {
   "cell_type": "code",
   "execution_count": null,
   "metadata": {},
   "outputs": [
    {
     "name": "stdout",
     "output_type": "stream",
     "text": [
      "The sum of 1 and 3 is 4.0\n"
     ]
    }
   ],
   "source": [
    "!python -m adu_template_main.cli.foo 1 3"
   ]
  },
  {
   "cell_type": "markdown",
   "metadata": {},
   "source": [
    "You can find the manual for each command using `-h`"
   ]
  },
  {
   "cell_type": "code",
   "execution_count": null,
   "metadata": {},
   "outputs": [
    {
     "name": "stdout",
     "output_type": "stream",
     "text": [
      "usage: core.py [-h] [-ci CONST_INT [CONST_INT ...]]\n",
      "               [-cf CONST_FLOAT [CONST_FLOAT ...]]\n",
      "               [-cs CONST_STR [CONST_STR ...]] [-cj CONST_JSON] [-ln LOG_NAME]\n",
      "               [--store-log | --no-store-log] [--print-log | --no-print-log]\n",
      "\n",
      "Execute package.\n",
      "\n",
      "options:\n",
      "  -h, --help            show this help message and exit\n",
      "  -ci CONST_INT [CONST_INT ...], --const-int CONST_INT [CONST_INT ...]\n",
      "                        Change int const variables. Use a key:value format\n",
      "  -cf CONST_FLOAT [CONST_FLOAT ...], --const-float CONST_FLOAT [CONST_FLOAT ...]\n",
      "                        Change float const variables. Use a key:value format\n",
      "  -cs CONST_STR [CONST_STR ...], --const-str CONST_STR [CONST_STR ...]\n",
      "                        Change string const variables. Use a key:value format\n",
      "  -cj CONST_JSON, --const-json CONST_JSON\n",
      "                        Pass a JSON file with const variables.\n",
      "  -ln LOG_NAME, --log-name LOG_NAME\n",
      "                        Set the name of the logger.\n",
      "  --store-log, --no-store-log\n",
      "  --print-log, --no-print-log\n"
     ]
    }
   ],
   "source": [
    "!python -m adu_template_main.cli.core -h"
   ]
  }
 ],
 "metadata": {
  "kernelspec": {
   "display_name": "python3",
   "language": "python",
   "name": "python3"
  }
 },
 "nbformat": 4,
 "nbformat_minor": 4
}
