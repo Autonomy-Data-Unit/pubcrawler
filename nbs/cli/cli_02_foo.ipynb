{
 "cells": [
  {
   "cell_type": "markdown",
   "id": "1a89e1c9-f27f-4783-9217-f4e580b1fef2",
   "metadata": {},
   "source": [
    "# foo\n",
    "> Placeholder CLI command"
   ]
  },
  {
   "cell_type": "code",
   "execution_count": null,
   "id": "c7a62029-33fc-4ae2-bff6-0b21586d9a19",
   "metadata": {},
   "outputs": [],
   "source": [
    "#|default_exp cli.foo"
   ]
  },
  {
   "cell_type": "code",
   "execution_count": null,
   "id": "8f838c12-947e-443c-80d5-70b0cb1f7d3c",
   "metadata": {},
   "outputs": [],
   "source": [
    "#|hide\n",
    "import nbdev; nbdev.nbdev_export()"
   ]
  },
  {
   "cell_type": "code",
   "execution_count": null,
   "id": "e88f1ad5-5c5d-4cde-a660-70e8d9cf8fd8",
   "metadata": {},
   "outputs": [],
   "source": [
    "#|hide\n",
    "from nbdev.showdoc import show_doc"
   ]
  },
  {
   "cell_type": "code",
   "execution_count": null,
   "id": "db550935-c74d-43a7-9491-a32a3e4146be",
   "metadata": {},
   "outputs": [],
   "source": [
    "#|export\n",
    "import sys\n",
    "\n",
    "import adu_template_main as proj\n",
    "from adu_template_main import const, log, utils, tools\n",
    "import adu_proj.utils as adutils"
   ]
  },
  {
   "cell_type": "code",
   "execution_count": null,
   "id": "d7f50368-b5e6-47ea-be27-43c9c6cc39da",
   "metadata": {},
   "outputs": [],
   "source": [
    "#|exporti\n",
    "def main(): pass # This is necessary for console_scripts"
   ]
  },
  {
   "cell_type": "markdown",
   "id": "fe9bdc7b-1b1c-4e36-bdf8-172a064fb747",
   "metadata": {},
   "source": [
    "Command manual:"
   ]
  },
  {
   "cell_type": "code",
   "execution_count": null,
   "id": "8e0bcd44-5386-49eb-80b9-b3dc6554bc9d",
   "metadata": {},
   "outputs": [
    {
     "name": "stdout",
     "output_type": "stream",
     "text": [
      "usage: cli.foo [-h] [-ci CONST_INT [CONST_INT ...]]\n",
      "               [-cf CONST_FLOAT [CONST_FLOAT ...]]\n",
      "               [-cs CONST_STR [CONST_STR ...]] [-cj CONST_JSON] [-ln LOG_NAME]\n",
      "               [--store-log | --no-store-log] [--print-log | --no-print-log]\n",
      "               number1 number2\n",
      "\n",
      "Add up two numbers\n",
      "\n",
      "positional arguments:\n",
      "  number1               Number 1\n",
      "  number2               Number 2\n",
      "\n",
      "options:\n",
      "  -h, --help            show this help message and exit\n",
      "  -ci CONST_INT [CONST_INT ...], --const-int CONST_INT [CONST_INT ...]\n",
      "                        Change int const variables. Use a key:value format\n",
      "  -cf CONST_FLOAT [CONST_FLOAT ...], --const-float CONST_FLOAT [CONST_FLOAT ...]\n",
      "                        Change float const variables. Use a key:value format\n",
      "  -cs CONST_STR [CONST_STR ...], --const-str CONST_STR [CONST_STR ...]\n",
      "                        Change string const variables. Use a key:value format\n",
      "  -cj CONST_JSON, --const-json CONST_JSON\n",
      "                        Pass a JSON file with const variables.\n",
      "  -ln LOG_NAME, --log-name LOG_NAME\n",
      "                        Set the name of the logger.\n",
      "  --store-log, --no-store-log\n",
      "  --print-log, --no-print-log\n"
     ]
    }
   ],
   "source": [
    "#|echo:false\n",
    "!python -m adu_template_main.cli.foo -h"
   ]
  },
  {
   "cell_type": "markdown",
   "id": "95ff8b3e-048c-4e88-95bf-36ec9d388e0f",
   "metadata": {},
   "source": [
    "## Setup test"
   ]
  },
  {
   "cell_type": "code",
   "execution_count": null,
   "id": "78062fda-39a0-4168-ae1b-e73282c0aa08",
   "metadata": {},
   "outputs": [],
   "source": [
    "#|exports\n",
    "if adutils.cli.is_interactive():\n",
    "    sys.argv = ['', # First element is not parsed by argparse\n",
    "                '4', '6']"
   ]
  },
  {
   "cell_type": "markdown",
   "id": "0d54ac50-8823-4a81-8d62-dcaf0759995c",
   "metadata": {},
   "source": [
    "## Main CLI code"
   ]
  },
  {
   "cell_type": "code",
   "execution_count": null,
   "id": "68b47448-dd16-4521-803b-a82fbd8bff5f",
   "metadata": {},
   "outputs": [],
   "source": [
    "#|exports\n",
    "cmd_name = 'cli.foo'\n",
    "cmd_description = \"Add up two numbers\""
   ]
  },
  {
   "cell_type": "code",
   "execution_count": null,
   "id": "de6822a9-a135-4dd4-9af1-220fe10163f9",
   "metadata": {},
   "outputs": [
    {
     "name": "stdout",
     "output_type": "stream",
     "text": [
      "The sum of 4 and 6 is 10.0\n"
     ]
    }
   ],
   "source": [
    "#|exports\n",
    "\n",
    "## Define arg parser\n",
    "parser = adutils.cli.get_default_arg_parser()\n",
    "parser.description = cmd_description\n",
    "parser.prog = cmd_name\n",
    "parser.add_argument(\"number1\", help=\"Number 1\")\n",
    "parser.add_argument(\"number2\", help=\"Number 2\")\n",
    "parser.set_defaults(store_log=False) # Don't store log by default\n",
    "\n",
    "## Parse args and adjust settings\n",
    "args = parser.parse_args()\n",
    "const_dict = adutils.cli.set_const_args(const, args)\n",
    "log_name = cmd_name if not args.log_name else args.log_name\n",
    "store_log_path = const.logs_path if args.store_log else None\n",
    "log.settings(log_name, store_log_path=store_log_path, print_log=args.print_log)\n",
    "\n",
    "## Output all values in const into the log\n",
    "adutils.cli.log_all_const()\n",
    "\n",
    "## Run command with settings\n",
    "a, b = args.number1, args.number2\n",
    "log.info(f'The sum of {a} and {b} is {tools.foo(a,b)}')"
   ]
  },
  {
   "cell_type": "markdown",
   "id": "a45bc7fc-9917-4db5-8d52-f5ca88fa2fce",
   "metadata": {},
   "source": [
    "## Test"
   ]
  },
  {
   "cell_type": "code",
   "execution_count": null,
   "id": "165651c3-43a9-4264-a6f4-c047c5df516b",
   "metadata": {},
   "outputs": [],
   "source": [
    "assert a == sys.argv[-2]\n",
    "assert b == sys.argv[-1]\n",
    "assert not args.store_log"
   ]
  },
  {
   "cell_type": "code",
   "execution_count": null,
   "id": "8d1e8391-4169-484f-9b90-5c15238772f1",
   "metadata": {},
   "outputs": [
    {
     "name": "stdout",
     "output_type": "stream",
     "text": [
      "The sum of 6 and 1 is 7.0\n"
     ]
    }
   ],
   "source": [
    "!python -m adu_template_main.cli.foo 6 1"
   ]
  },
  {
   "cell_type": "code",
   "execution_count": null,
   "id": "ef490355-21bf-49e2-a67d-ce20d67f095a",
   "metadata": {},
   "outputs": [
    {
     "name": "stdout",
     "output_type": "stream",
     "text": [
      "usage: cli.foo [-h] [-ci CONST_INT [CONST_INT ...]]\n",
      "               [-cf CONST_FLOAT [CONST_FLOAT ...]]\n",
      "               [-cs CONST_STR [CONST_STR ...]] [-cj CONST_JSON] [-ln LOG_NAME]\n",
      "               [--store-log | --no-store-log] [--print-log | --no-print-log]\n",
      "               number1 number2\n",
      "cli.foo: error: the following arguments are required: number1, number2\n"
     ]
    }
   ],
   "source": [
    "!python -m adu_template_main.cli.foo"
   ]
  }
 ],
 "metadata": {
  "kernelspec": {
   "display_name": "python3",
   "language": "python",
   "name": "python3"
  }
 },
 "nbformat": 4,
 "nbformat_minor": 5
}
