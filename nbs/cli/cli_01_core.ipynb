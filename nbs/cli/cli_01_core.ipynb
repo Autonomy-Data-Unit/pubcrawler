{
 "cells": [
  {
   "cell_type": "markdown",
   "id": "1a89e1c9-f27f-4783-9217-f4e580b1fef2",
   "metadata": {},
   "source": [
    "# core\n",
    "> Parse arguments passed to commands"
   ]
  },
  {
   "cell_type": "code",
   "execution_count": null,
   "id": "c7a62029-33fc-4ae2-bff6-0b21586d9a19",
   "metadata": {},
   "outputs": [],
   "source": [
    "#|default_exp cli.core"
   ]
  },
  {
   "cell_type": "code",
   "execution_count": null,
   "id": "8f838c12-947e-443c-80d5-70b0cb1f7d3c",
   "metadata": {},
   "outputs": [],
   "source": [
    "#|hide\n",
    "import nbdev; nbdev.nbdev_export()"
   ]
  },
  {
   "cell_type": "code",
   "execution_count": null,
   "id": "1bfb9327-7f11-4802-9535-428782b32c9f",
   "metadata": {},
   "outputs": [],
   "source": [
    "#|hide\n",
    "from nbdev.showdoc import show_doc"
   ]
  },
  {
   "cell_type": "code",
   "execution_count": null,
   "id": "db550935-c74d-43a7-9491-a32a3e4146be",
   "metadata": {},
   "outputs": [],
   "source": [
    "#|export\n",
    "import sys\n",
    "\n",
    "import adu_template_main as proj\n",
    "from adu_template_main import const, log, utils, tools, core\n",
    "import adu_proj.utils as adutils"
   ]
  },
  {
   "cell_type": "code",
   "execution_count": null,
   "id": "42de773b-4031-483e-92d3-43e211c04265",
   "metadata": {},
   "outputs": [],
   "source": [
    "#|exporti\n",
    "def main(): pass # This is necessary for console_scripts"
   ]
  },
  {
   "cell_type": "markdown",
   "id": "4559c005-f55d-49ed-a6f0-17162e1df5b7",
   "metadata": {},
   "source": [
    "Command manual:"
   ]
  },
  {
   "cell_type": "code",
   "execution_count": null,
   "id": "4d9c7dee-1af6-4c42-9410-02a3db00799a",
   "metadata": {},
   "outputs": [
    {
     "name": "stdout",
     "output_type": "stream",
     "text": [
      "usage: core.py [-h] [-ci CONST_INT [CONST_INT ...]]\n",
      "               [-cf CONST_FLOAT [CONST_FLOAT ...]]\n",
      "               [-cs CONST_STR [CONST_STR ...]] [-cj CONST_JSON] [-ln LOG_NAME]\n",
      "               [--store-log | --no-store-log] [--print-log | --no-print-log]\n",
      "\n",
      "Execute package.\n",
      "\n",
      "options:\n",
      "  -h, --help            show this help message and exit\n",
      "  -ci CONST_INT [CONST_INT ...], --const-int CONST_INT [CONST_INT ...]\n",
      "                        Change int const variables. Use a key:value format\n",
      "  -cf CONST_FLOAT [CONST_FLOAT ...], --const-float CONST_FLOAT [CONST_FLOAT ...]\n",
      "                        Change float const variables. Use a key:value format\n",
      "  -cs CONST_STR [CONST_STR ...], --const-str CONST_STR [CONST_STR ...]\n",
      "                        Change string const variables. Use a key:value format\n",
      "  -cj CONST_JSON, --const-json CONST_JSON\n",
      "                        Pass a JSON file with const variables.\n",
      "  -ln LOG_NAME, --log-name LOG_NAME\n",
      "                        Set the name of the logger.\n",
      "  --store-log, --no-store-log\n",
      "  --print-log, --no-print-log\n"
     ]
    }
   ],
   "source": [
    "#|echo:false\n",
    "!python -m adu_template_main.cli.core -h"
   ]
  },
  {
   "cell_type": "markdown",
   "id": "c093b8e1-5d21-4b36-bc96-687cef77fc24",
   "metadata": {},
   "source": [
    "## Setup test"
   ]
  },
  {
   "cell_type": "code",
   "execution_count": null,
   "id": "9030efdd-8b80-4beb-8b48-ab4da3e312f6",
   "metadata": {},
   "outputs": [],
   "source": [
    "#|exports\n",
    "if adutils.cli.is_interactive():\n",
    "    sys.argv = ['', # First element is not parsed by argparse\n",
    "                '--const-str', 'figs_path=~/figs',\n",
    "                '--log-name', 'test_log_name',\n",
    "                '--no-store-log',\n",
    "                '--print-log']"
   ]
  },
  {
   "cell_type": "markdown",
   "id": "daaca596-985c-4d46-8c62-0624e782eb0d",
   "metadata": {},
   "source": [
    "## Main CLI code\n",
    "\n",
    "Run all scripts in the `core` in folder"
   ]
  },
  {
   "cell_type": "code",
   "execution_count": null,
   "id": "1639a8ab-3b87-43ee-9fe8-3f94683f36a1",
   "metadata": {},
   "outputs": [],
   "source": [
    "#|exports\n",
    "cmd_name = 'cli.core'\n",
    "cmd_description = \"Execute package.\""
   ]
  },
  {
   "cell_type": "code",
   "execution_count": null,
   "id": "04971c26-6d58-4ff9-93a4-126653559a92",
   "metadata": {},
   "outputs": [
    {
     "name": "stdout",
     "output_type": "stream",
     "text": [
      "#########################################\n",
      "# adu_template_main.core.01_first_steps #\n",
      "#########################################\n",
      "Doing some stuff\n"
     ]
    }
   ],
   "source": [
    "#|exports\n",
    "\n",
    "## Define arg parser\n",
    "parser = adutils.cli.get_default_arg_parser()\n",
    "parser.description = cmd_description\n",
    "\n",
    "## Parse args and adjust settings\n",
    "args = parser.parse_args()\n",
    "const_dict = adutils.cli.set_const_args(const, args)\n",
    "log_name = cmd_name if not args.log_name else args.log_name\n",
    "store_log_path = const.logs_path if args.store_log else None\n",
    "log.settings(log_name, store_log_path=store_log_path, print_log=args.print_log)\n",
    "\n",
    "## Output all values in const into the log\n",
    "adutils.cli.log_all_const()\n",
    "\n",
    "## Run command with settings\n",
    "core.run_all()"
   ]
  },
  {
   "cell_type": "markdown",
   "id": "01e4b81d-87d4-4b7f-be9c-11336fe3a227",
   "metadata": {},
   "source": [
    "## Test"
   ]
  },
  {
   "cell_type": "code",
   "execution_count": null,
   "id": "26a42e6c-a050-49f6-ac8a-8ce11f74cf8f",
   "metadata": {},
   "outputs": [],
   "source": [
    "assert const.figs_path == \"~/figs\"\n",
    "assert log_name == \"test_log_name\"\n",
    "assert not args.store_log\n",
    "assert args.print_log"
   ]
  }
 ],
 "metadata": {
  "kernelspec": {
   "display_name": "python3",
   "language": "python",
   "name": "python3"
  }
 },
 "nbformat": 4,
 "nbformat_minor": 5
}
